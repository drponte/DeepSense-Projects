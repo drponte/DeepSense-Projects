{
 "cells": [
  {
   "cell_type": "code",
   "execution_count": 1,
   "metadata": {
    "collapsed": true
   },
   "outputs": [],
   "source": [
    "import pandas as pd\n",
    "df1 = pd.read_csv(r'6.NLP/1377884570_tweet_global_warming.csv',engine='python',encoding='ISO-8859-1')\n",
    "\n"
   ]
  },
  {
   "cell_type": "code",
   "execution_count": 4,
   "outputs": [
    {
     "name": "stdout",
     "output_type": "stream",
     "text": [
      "(6090, 3)\n"
     ]
    },
    {
     "data": {
      "text/plain": "                                               tweet existence  \\\n0  Global warming report urges governments to act...       Yes   \n1  Fighting poverty and global warming in Africa ...       Yes   \n2  Carbon offsets: How a Vatican forest failed to...       Yes   \n3  Carbon offsets: How a Vatican forest failed to...       Yes   \n4  URUGUAY: Tools Needed for Those Most Vulnerabl...       Yes   \n\n   existence.confidence  \n0                1.0000  \n1                1.0000  \n2                0.8786  \n3                1.0000  \n4                0.8087  ",
      "text/html": "<div>\n<style scoped>\n    .dataframe tbody tr th:only-of-type {\n        vertical-align: middle;\n    }\n\n    .dataframe tbody tr th {\n        vertical-align: top;\n    }\n\n    .dataframe thead th {\n        text-align: right;\n    }\n</style>\n<table border=\"1\" class=\"dataframe\">\n  <thead>\n    <tr style=\"text-align: right;\">\n      <th></th>\n      <th>tweet</th>\n      <th>existence</th>\n      <th>existence.confidence</th>\n    </tr>\n  </thead>\n  <tbody>\n    <tr>\n      <th>0</th>\n      <td>Global warming report urges governments to act...</td>\n      <td>Yes</td>\n      <td>1.0000</td>\n    </tr>\n    <tr>\n      <th>1</th>\n      <td>Fighting poverty and global warming in Africa ...</td>\n      <td>Yes</td>\n      <td>1.0000</td>\n    </tr>\n    <tr>\n      <th>2</th>\n      <td>Carbon offsets: How a Vatican forest failed to...</td>\n      <td>Yes</td>\n      <td>0.8786</td>\n    </tr>\n    <tr>\n      <th>3</th>\n      <td>Carbon offsets: How a Vatican forest failed to...</td>\n      <td>Yes</td>\n      <td>1.0000</td>\n    </tr>\n    <tr>\n      <th>4</th>\n      <td>URUGUAY: Tools Needed for Those Most Vulnerabl...</td>\n      <td>Yes</td>\n      <td>0.8087</td>\n    </tr>\n  </tbody>\n</table>\n</div>"
     },
     "execution_count": 4,
     "metadata": {},
     "output_type": "execute_result"
    }
   ],
   "source": [
    "print(df1.shape)\n",
    "df1.head()\n"
   ],
   "metadata": {
    "collapsed": false,
    "pycharm": {
     "name": "#%%\n"
    }
   }
  },
  {
   "cell_type": "code",
   "execution_count": 5,
   "outputs": [
    {
     "name": "stdout",
     "output_type": "stream",
     "text": [
      "(2000, 3)\n"
     ]
    },
    {
     "data": {
      "text/plain": "                                               tweet existence  \\\n0  Global warming report urges governments to act...       Yes   \n1  Fighting poverty and global warming in Africa ...       Yes   \n2  Carbon offsets: How a Vatican forest failed to...       Yes   \n3  Carbon offsets: How a Vatican forest failed to...       Yes   \n4  URUGUAY: Tools Needed for Those Most Vulnerabl...       Yes   \n\n   existence.confidence  \n0                1.0000  \n1                1.0000  \n2                0.8786  \n3                1.0000  \n4                0.8087  ",
      "text/html": "<div>\n<style scoped>\n    .dataframe tbody tr th:only-of-type {\n        vertical-align: middle;\n    }\n\n    .dataframe tbody tr th {\n        vertical-align: top;\n    }\n\n    .dataframe thead th {\n        text-align: right;\n    }\n</style>\n<table border=\"1\" class=\"dataframe\">\n  <thead>\n    <tr style=\"text-align: right;\">\n      <th></th>\n      <th>tweet</th>\n      <th>existence</th>\n      <th>existence.confidence</th>\n    </tr>\n  </thead>\n  <tbody>\n    <tr>\n      <th>0</th>\n      <td>Global warming report urges governments to act...</td>\n      <td>Yes</td>\n      <td>1.0000</td>\n    </tr>\n    <tr>\n      <th>1</th>\n      <td>Fighting poverty and global warming in Africa ...</td>\n      <td>Yes</td>\n      <td>1.0000</td>\n    </tr>\n    <tr>\n      <th>2</th>\n      <td>Carbon offsets: How a Vatican forest failed to...</td>\n      <td>Yes</td>\n      <td>0.8786</td>\n    </tr>\n    <tr>\n      <th>3</th>\n      <td>Carbon offsets: How a Vatican forest failed to...</td>\n      <td>Yes</td>\n      <td>1.0000</td>\n    </tr>\n    <tr>\n      <th>4</th>\n      <td>URUGUAY: Tools Needed for Those Most Vulnerabl...</td>\n      <td>Yes</td>\n      <td>0.8087</td>\n    </tr>\n  </tbody>\n</table>\n</div>"
     },
     "execution_count": 5,
     "metadata": {},
     "output_type": "execute_result"
    }
   ],
   "source": [
    "# Here, we have taken only first 2000 records because of the limited Ram\n",
    "df2 = df1.iloc[:2000,:]\n",
    "df = df2.copy()\n",
    "print(df.shape)\n",
    "df.head()\n",
    "\n"
   ],
   "metadata": {
    "collapsed": false,
    "pycharm": {
     "name": "#%%\n"
    }
   }
  },
  {
   "cell_type": "code",
   "execution_count": 6,
   "outputs": [
    {
     "name": "stdout",
     "output_type": "stream",
     "text": [
      "<class 'pandas.core.frame.DataFrame'>\n",
      "RangeIndex: 2000 entries, 0 to 1999\n",
      "Data columns (total 3 columns):\n",
      " #   Column                Non-Null Count  Dtype  \n",
      "---  ------                --------------  -----  \n",
      " 0   tweet                 2000 non-null   object \n",
      " 1   existence             1289 non-null   object \n",
      " 2   existence.confidence  1997 non-null   float64\n",
      "dtypes: float64(1), object(2)\n",
      "memory usage: 31.3+ KB\n"
     ]
    }
   ],
   "source": [
    "df.info()\n",
    "\n"
   ],
   "metadata": {
    "collapsed": false,
    "pycharm": {
     "name": "#%%\n"
    }
   }
  },
  {
   "cell_type": "code",
   "execution_count": 7,
   "outputs": [
    {
     "data": {
      "text/plain": "Y      600\nYes    557\nN       71\nNo      61\nName: existence, dtype: int64"
     },
     "execution_count": 7,
     "metadata": {},
     "output_type": "execute_result"
    }
   ],
   "source": [
    "# See the number of records for the output label. Here, we see that In some records \"Y\" is inplace of \"Yes\" and \"N\" in place of \"No\"\n",
    "from sklearn import preprocessing\n",
    "le = preprocessing.LabelEncoder()\n",
    "df['existence'].value_counts()\n",
    "\n"
   ],
   "metadata": {
    "collapsed": false,
    "pycharm": {
     "name": "#%%\n"
    }
   }
  },
  {
   "cell_type": "code",
   "execution_count": 9,
   "outputs": [
    {
     "data": {
      "text/plain": "                                               tweet existence  \\\n0  Global warming report urges governments to act...       Yes   \n1  Fighting poverty and global warming in Africa ...       Yes   \n2  Carbon offsets: How a Vatican forest failed to...       Yes   \n3  Carbon offsets: How a Vatican forest failed to...       Yes   \n4  URUGUAY: Tools Needed for Those Most Vulnerabl...       Yes   \n\n   existence.confidence  \n0                1.0000  \n1                1.0000  \n2                0.8786  \n3                1.0000  \n4                0.8087  ",
      "text/html": "<div>\n<style scoped>\n    .dataframe tbody tr th:only-of-type {\n        vertical-align: middle;\n    }\n\n    .dataframe tbody tr th {\n        vertical-align: top;\n    }\n\n    .dataframe thead th {\n        text-align: right;\n    }\n</style>\n<table border=\"1\" class=\"dataframe\">\n  <thead>\n    <tr style=\"text-align: right;\">\n      <th></th>\n      <th>tweet</th>\n      <th>existence</th>\n      <th>existence.confidence</th>\n    </tr>\n  </thead>\n  <tbody>\n    <tr>\n      <th>0</th>\n      <td>Global warming report urges governments to act...</td>\n      <td>Yes</td>\n      <td>1.0000</td>\n    </tr>\n    <tr>\n      <th>1</th>\n      <td>Fighting poverty and global warming in Africa ...</td>\n      <td>Yes</td>\n      <td>1.0000</td>\n    </tr>\n    <tr>\n      <th>2</th>\n      <td>Carbon offsets: How a Vatican forest failed to...</td>\n      <td>Yes</td>\n      <td>0.8786</td>\n    </tr>\n    <tr>\n      <th>3</th>\n      <td>Carbon offsets: How a Vatican forest failed to...</td>\n      <td>Yes</td>\n      <td>1.0000</td>\n    </tr>\n    <tr>\n      <th>4</th>\n      <td>URUGUAY: Tools Needed for Those Most Vulnerabl...</td>\n      <td>Yes</td>\n      <td>0.8087</td>\n    </tr>\n  </tbody>\n</table>\n</div>"
     },
     "execution_count": 9,
     "metadata": {},
     "output_type": "execute_result"
    }
   ],
   "source": [
    "# Here we are replacing Y with Yes and N with No\n",
    "df['existence'] = df['existence'].apply(lambda x: 'Yes' if (x == 'Y')|(x == 'Yes') else 'No' if (x == 'N')|(x == 'No') else 'Nil')\n",
    "df.head()"
   ],
   "metadata": {
    "collapsed": false,
    "pycharm": {
     "name": "#%%\n"
    }
   }
  },
  {
   "cell_type": "code",
   "execution_count": 10,
   "outputs": [
    {
     "data": {
      "text/plain": "Yes    1157\nNil     711\nNo      132\nName: existence, dtype: int64"
     },
     "execution_count": 10,
     "metadata": {},
     "output_type": "execute_result"
    }
   ],
   "source": [
    "df['existence'].value_counts()\n",
    "\n"
   ],
   "metadata": {
    "collapsed": false,
    "pycharm": {
     "name": "#%%\n"
    }
   }
  },
  {
   "cell_type": "code",
   "execution_count": 11,
   "outputs": [],
   "source": [
    "# Labels are encoding to 0 or 1\n",
    "df['existence'] = le.fit_transform(df['existence'])\n",
    "\n"
   ],
   "metadata": {
    "collapsed": false,
    "pycharm": {
     "name": "#%%\n"
    }
   }
  },
  {
   "cell_type": "code",
   "execution_count": 12,
   "outputs": [
    {
     "data": {
      "text/plain": "2    1157\n0     711\n1     132\nName: existence, dtype: int64"
     },
     "execution_count": 12,
     "metadata": {},
     "output_type": "execute_result"
    }
   ],
   "source": [
    "df['existence'].value_counts()"
   ],
   "metadata": {
    "collapsed": false,
    "pycharm": {
     "name": "#%%\n"
    }
   }
  },
  {
   "cell_type": "code",
   "execution_count": 13,
   "outputs": [
    {
     "name": "stdout",
     "output_type": "stream",
     "text": [
      "Collecting transformers\n",
      "  Downloading transformers-4.9.1-py3-none-any.whl (2.6 MB)\n",
      "Collecting sacremoses\n",
      "  Downloading sacremoses-0.0.45-py3-none-any.whl (895 kB)\n",
      "Collecting huggingface-hub==0.0.12\n",
      "  Downloading huggingface_hub-0.0.12-py3-none-any.whl (37 kB)\n",
      "Collecting tokenizers<0.11,>=0.10.1\n",
      "  Downloading tokenizers-0.10.3-cp38-cp38-win32.whl (1.8 MB)\n",
      "Requirement already satisfied: regex!=2019.12.17 in c:\\users\\daniel\\appdata\\local\\programs\\python\\python38-32\\lib\\site-packages (from transformers) (2021.7.6)\n",
      "Requirement already satisfied: packaging in c:\\users\\daniel\\appdata\\local\\programs\\python\\python38-32\\lib\\site-packages (from transformers) (20.4)\n",
      "Requirement already satisfied: tqdm>=4.27 in c:\\users\\daniel\\appdata\\local\\programs\\python\\python38-32\\lib\\site-packages (from transformers) (4.61.2)\n",
      "Requirement already satisfied: requests in c:\\users\\daniel\\appdata\\local\\programs\\python\\python38-32\\lib\\site-packages (from transformers) (2.24.0)\n",
      "Collecting filelock\n",
      "  Downloading filelock-3.0.12-py3-none-any.whl (7.6 kB)\n",
      "Collecting pyyaml>=5.1\n",
      "  Downloading PyYAML-5.4.1-cp38-cp38-win32.whl (196 kB)\n",
      "Requirement already satisfied: numpy>=1.17 in c:\\users\\daniel\\appdata\\local\\programs\\python\\python38-32\\lib\\site-packages (from transformers) (1.19.4)\n",
      "Collecting packaging\n",
      "  Downloading packaging-21.0-py3-none-any.whl (40 kB)\n",
      "Collecting typing-extensions\n",
      "  Downloading typing_extensions-3.10.0.0-py3-none-any.whl (26 kB)\n",
      "Requirement already satisfied: pyparsing>=2.0.2 in c:\\users\\daniel\\appdata\\local\\programs\\python\\python38-32\\lib\\site-packages (from packaging->transformers) (2.4.7)\n",
      "Requirement already satisfied: colorama in c:\\users\\daniel\\appdata\\local\\programs\\python\\python38-32\\lib\\site-packages (from tqdm>=4.27->transformers) (0.4.4)\n",
      "Requirement already satisfied: certifi>=2017.4.17 in c:\\users\\daniel\\appdata\\local\\programs\\python\\python38-32\\lib\\site-packages (from requests->transformers) (2020.6.20)\n",
      "Requirement already satisfied: chardet<4,>=3.0.2 in c:\\users\\daniel\\appdata\\local\\programs\\python\\python38-32\\lib\\site-packages (from requests->transformers) (3.0.4)\n",
      "Requirement already satisfied: urllib3!=1.25.0,!=1.25.1,<1.26,>=1.21.1 in c:\\users\\daniel\\appdata\\local\\programs\\python\\python38-32\\lib\\site-packages (from requests->transformers) (1.25.11)\n",
      "Requirement already satisfied: idna<3,>=2.5 in c:\\users\\daniel\\appdata\\local\\programs\\python\\python38-32\\lib\\site-packages (from requests->transformers) (2.10)\n",
      "Requirement already satisfied: joblib in c:\\users\\daniel\\appdata\\local\\programs\\python\\python38-32\\lib\\site-packages (from sacremoses->transformers) (1.0.1)\n",
      "Requirement already satisfied: click in c:\\users\\daniel\\appdata\\local\\programs\\python\\python38-32\\lib\\site-packages (from sacremoses->transformers) (8.0.1)\n",
      "Requirement already satisfied: six in c:\\users\\daniel\\appdata\\local\\programs\\python\\python38-32\\lib\\site-packages (from sacremoses->transformers) (1.15.0)\n",
      "Installing collected packages: typing-extensions, packaging, filelock, tokenizers, sacremoses, pyyaml, huggingface-hub, transformers\n",
      "  Attempting uninstall: packaging\n",
      "    Found existing installation: packaging 20.4\n",
      "    Uninstalling packaging-20.4:\n",
      "      Successfully uninstalled packaging-20.4\n",
      "Successfully installed filelock-3.0.12 huggingface-hub-0.0.12 packaging-21.0 pyyaml-5.4.1 sacremoses-0.0.45 tokenizers-0.10.3 transformers-4.9.1 typing-extensions-3.10.0.0\n"
     ]
    },
    {
     "name": "stderr",
     "output_type": "stream",
     "text": [
      "WARNING: You are using pip version 21.1.3; however, version 21.2.2 is available.\n",
      "You should consider upgrading via the 'c:\\users\\daniel\\appdata\\local\\programs\\python\\python38-32\\python.exe -m pip install --upgrade pip' command.\n"
     ]
    }
   ],
   "source": [
    "# Installation of transformers\n",
    "!pip install transformers\n",
    "\n"
   ],
   "metadata": {
    "collapsed": false,
    "pycharm": {
     "name": "#%%\n"
    }
   }
  },
  {
   "cell_type": "code",
   "execution_count": 14,
   "outputs": [
    {
     "name": "stderr",
     "output_type": "stream",
     "text": [
      "None of PyTorch, TensorFlow >= 2.0, or Flax have been found. Models won't be available and only tokenizers, configuration and file/data utilities can be used.\n"
     ]
    }
   ],
   "source": [
    "import numpy as np\n",
    "from sklearn.model_selection import train_test_split\n",
    "from sklearn.linear_model import LogisticRegression\n",
    "from sklearn.model_selection import GridSearchCV\n",
    "from sklearn.model_selection import cross_val_score\n",
    "import transformers as ppb\n",
    "import warnings\n",
    "warnings.filterwarnings('ignore')\n",
    "\n"
   ],
   "metadata": {
    "collapsed": false,
    "pycharm": {
     "name": "#%%\n"
    }
   }
  },
  {
   "cell_type": "code",
   "execution_count": 16,
   "outputs": [
    {
     "data": {
      "text/plain": "Downloading:   0%|          | 0.00/232k [00:00<?, ?B/s]",
      "application/vnd.jupyter.widget-view+json": {
       "version_major": 2,
       "version_minor": 0,
       "model_id": "240c93c064be4638a69f8e332bb0248a"
      }
     },
     "metadata": {},
     "output_type": "display_data"
    },
    {
     "data": {
      "text/plain": "Downloading:   0%|          | 0.00/28.0 [00:00<?, ?B/s]",
      "application/vnd.jupyter.widget-view+json": {
       "version_major": 2,
       "version_minor": 0,
       "model_id": "66ae9e2633ff458aaf2f0499fda3f310"
      }
     },
     "metadata": {},
     "output_type": "display_data"
    },
    {
     "data": {
      "text/plain": "Downloading:   0%|          | 0.00/466k [00:00<?, ?B/s]",
      "application/vnd.jupyter.widget-view+json": {
       "version_major": 2,
       "version_minor": 0,
       "model_id": "61446743c4e0426a8a4619b4770a2f6a"
      }
     },
     "metadata": {},
     "output_type": "display_data"
    },
    {
     "data": {
      "text/plain": "Downloading:   0%|          | 0.00/442 [00:00<?, ?B/s]",
      "application/vnd.jupyter.widget-view+json": {
       "version_major": 2,
       "version_minor": 0,
       "model_id": "415dae60c2ca4ae9bafc835750fe1121"
      }
     },
     "metadata": {},
     "output_type": "display_data"
    },
    {
     "ename": "ImportError",
     "evalue": "\nDistilBertModel requires the PyTorch library but it was not found in your environment. Checkout the instructions on the\ninstallation page: https://pytorch.org/get-started/locally/ and follow the ones that match your environment.\n",
     "output_type": "error",
     "traceback": [
      "\u001B[1;31m---------------------------------------------------------------------------\u001B[0m",
      "\u001B[1;31mImportError\u001B[0m                               Traceback (most recent call last)",
      "\u001B[1;32m<ipython-input-16-c73ed641fe01>\u001B[0m in \u001B[0;36m<module>\u001B[1;34m\u001B[0m\n\u001B[0;32m      7\u001B[0m \u001B[1;31m# Load pretrained model/tokenizer\u001B[0m\u001B[1;33m\u001B[0m\u001B[1;33m\u001B[0m\u001B[1;33m\u001B[0m\u001B[0m\n\u001B[0;32m      8\u001B[0m \u001B[0mtokenizer\u001B[0m \u001B[1;33m=\u001B[0m \u001B[0mtokenizer_class\u001B[0m\u001B[1;33m.\u001B[0m\u001B[0mfrom_pretrained\u001B[0m\u001B[1;33m(\u001B[0m\u001B[0mpretrained_weights\u001B[0m\u001B[1;33m)\u001B[0m\u001B[1;33m\u001B[0m\u001B[1;33m\u001B[0m\u001B[0m\n\u001B[1;32m----> 9\u001B[1;33m \u001B[0mmodel\u001B[0m \u001B[1;33m=\u001B[0m \u001B[0mmodel_class\u001B[0m\u001B[1;33m.\u001B[0m\u001B[0mfrom_pretrained\u001B[0m\u001B[1;33m(\u001B[0m\u001B[0mpretrained_weights\u001B[0m\u001B[1;33m)\u001B[0m\u001B[1;33m\u001B[0m\u001B[1;33m\u001B[0m\u001B[0m\n\u001B[0m\u001B[0;32m     10\u001B[0m \u001B[1;33m\u001B[0m\u001B[0m\n",
      "\u001B[1;32mc:\\users\\daniel\\appdata\\local\\programs\\python\\python38-32\\lib\\site-packages\\transformers\\utils\\dummy_pt_objects.py\u001B[0m in \u001B[0;36mfrom_pretrained\u001B[1;34m(cls, *args, **kwargs)\u001B[0m\n\u001B[0;32m   1414\u001B[0m     \u001B[1;33m@\u001B[0m\u001B[0mclassmethod\u001B[0m\u001B[1;33m\u001B[0m\u001B[1;33m\u001B[0m\u001B[0m\n\u001B[0;32m   1415\u001B[0m     \u001B[1;32mdef\u001B[0m \u001B[0mfrom_pretrained\u001B[0m\u001B[1;33m(\u001B[0m\u001B[0mcls\u001B[0m\u001B[1;33m,\u001B[0m \u001B[1;33m*\u001B[0m\u001B[0margs\u001B[0m\u001B[1;33m,\u001B[0m \u001B[1;33m**\u001B[0m\u001B[0mkwargs\u001B[0m\u001B[1;33m)\u001B[0m\u001B[1;33m:\u001B[0m\u001B[1;33m\u001B[0m\u001B[1;33m\u001B[0m\u001B[0m\n\u001B[1;32m-> 1416\u001B[1;33m         \u001B[0mrequires_backends\u001B[0m\u001B[1;33m(\u001B[0m\u001B[0mcls\u001B[0m\u001B[1;33m,\u001B[0m \u001B[1;33m[\u001B[0m\u001B[1;34m\"torch\"\u001B[0m\u001B[1;33m]\u001B[0m\u001B[1;33m)\u001B[0m\u001B[1;33m\u001B[0m\u001B[1;33m\u001B[0m\u001B[0m\n\u001B[0m\u001B[0;32m   1417\u001B[0m \u001B[1;33m\u001B[0m\u001B[0m\n\u001B[0;32m   1418\u001B[0m \u001B[1;33m\u001B[0m\u001B[0m\n",
      "\u001B[1;32mc:\\users\\daniel\\appdata\\local\\programs\\python\\python38-32\\lib\\site-packages\\transformers\\file_utils.py\u001B[0m in \u001B[0;36mrequires_backends\u001B[1;34m(obj, backends)\u001B[0m\n\u001B[0;32m    644\u001B[0m     \u001B[0mname\u001B[0m \u001B[1;33m=\u001B[0m \u001B[0mobj\u001B[0m\u001B[1;33m.\u001B[0m\u001B[0m__name__\u001B[0m \u001B[1;32mif\u001B[0m \u001B[0mhasattr\u001B[0m\u001B[1;33m(\u001B[0m\u001B[0mobj\u001B[0m\u001B[1;33m,\u001B[0m \u001B[1;34m\"__name__\"\u001B[0m\u001B[1;33m)\u001B[0m \u001B[1;32melse\u001B[0m \u001B[0mobj\u001B[0m\u001B[1;33m.\u001B[0m\u001B[0m__class__\u001B[0m\u001B[1;33m.\u001B[0m\u001B[0m__name__\u001B[0m\u001B[1;33m\u001B[0m\u001B[1;33m\u001B[0m\u001B[0m\n\u001B[0;32m    645\u001B[0m     \u001B[1;32mif\u001B[0m \u001B[1;32mnot\u001B[0m \u001B[0mall\u001B[0m\u001B[1;33m(\u001B[0m\u001B[0mBACKENDS_MAPPING\u001B[0m\u001B[1;33m[\u001B[0m\u001B[0mbackend\u001B[0m\u001B[1;33m]\u001B[0m\u001B[1;33m[\u001B[0m\u001B[1;36m0\u001B[0m\u001B[1;33m]\u001B[0m\u001B[1;33m(\u001B[0m\u001B[1;33m)\u001B[0m \u001B[1;32mfor\u001B[0m \u001B[0mbackend\u001B[0m \u001B[1;32min\u001B[0m \u001B[0mbackends\u001B[0m\u001B[1;33m)\u001B[0m\u001B[1;33m:\u001B[0m\u001B[1;33m\u001B[0m\u001B[1;33m\u001B[0m\u001B[0m\n\u001B[1;32m--> 646\u001B[1;33m         \u001B[1;32mraise\u001B[0m \u001B[0mImportError\u001B[0m\u001B[1;33m(\u001B[0m\u001B[1;34m\"\"\u001B[0m\u001B[1;33m.\u001B[0m\u001B[0mjoin\u001B[0m\u001B[1;33m(\u001B[0m\u001B[1;33m[\u001B[0m\u001B[0mBACKENDS_MAPPING\u001B[0m\u001B[1;33m[\u001B[0m\u001B[0mbackend\u001B[0m\u001B[1;33m]\u001B[0m\u001B[1;33m[\u001B[0m\u001B[1;36m1\u001B[0m\u001B[1;33m]\u001B[0m\u001B[1;33m.\u001B[0m\u001B[0mformat\u001B[0m\u001B[1;33m(\u001B[0m\u001B[0mname\u001B[0m\u001B[1;33m)\u001B[0m \u001B[1;32mfor\u001B[0m \u001B[0mbackend\u001B[0m \u001B[1;32min\u001B[0m \u001B[0mbackends\u001B[0m\u001B[1;33m]\u001B[0m\u001B[1;33m)\u001B[0m\u001B[1;33m)\u001B[0m\u001B[1;33m\u001B[0m\u001B[1;33m\u001B[0m\u001B[0m\n\u001B[0m\u001B[0;32m    647\u001B[0m \u001B[1;33m\u001B[0m\u001B[0m\n\u001B[0;32m    648\u001B[0m \u001B[1;33m\u001B[0m\u001B[0m\n",
      "\u001B[1;31mImportError\u001B[0m: \nDistilBertModel requires the PyTorch library but it was not found in your environment. Checkout the instructions on the\ninstallation page: https://pytorch.org/get-started/locally/ and follow the ones that match your environment.\n"
     ]
    }
   ],
   "source": [
    "# For DistilBERT:\n",
    "model_class, tokenizer_class, pretrained_weights = (ppb.DistilBertModel, ppb.DistilBertTokenizer, 'distilbert-base-uncased')\n",
    "\n",
    "## Want BERT instead of distilBERT? Uncomment the following line:\n",
    "#model_class, tokenizer_class, pretrained_weights = (ppb.BertModel, ppb.BertTokenizer, 'bert-base-uncased')\n",
    "\n",
    "# Load pretrained model/tokenizer\n",
    "tokenizer = tokenizer_class.from_pretrained(pretrained_weights)\n",
    "model = model_class.from_pretrained(pretrained_weights)\n"
   ],
   "metadata": {
    "collapsed": false,
    "pycharm": {
     "name": "#%%\n"
    }
   }
  },
  {
   "cell_type": "code",
   "execution_count": 21,
   "outputs": [
    {
     "name": "stdout",
     "output_type": "stream",
     "text": [
      "Collecting torch\n",
      "  Using cached torch-0.1.2.post2.tar.gz (128 kB)\n",
      "Requirement already satisfied: pyyaml in c:\\users\\daniel\\appdata\\local\\programs\\python\\python38-32\\lib\\site-packages (from torch) (5.4.1)\n",
      "Building wheels for collected packages: torch\n",
      "  Building wheel for torch (setup.py): started\n",
      "  Building wheel for torch (setup.py): finished with status 'error'\n",
      "  Running setup.py clean for torch\n",
      "Failed to build torch\n",
      "Installing collected packages: torch\n",
      "    Running setup.py install for torch: started\n",
      "    Running setup.py install for torch: finished with status 'error'\n"
     ]
    },
    {
     "name": "stderr",
     "output_type": "stream",
     "text": [
      "WARNING: The candidate selected for download or install is a yanked version: 'torch' candidate (version 0.1.2.post2 at https://files.pythonhosted.org/packages/f8/02/880b468bd382dc79896eaecbeb8ce95e9c4b99a24902874a2cef0b562cea/torch-0.1.2.post2.tar.gz#sha256=a43e37f8f927c5b18f80cd163daaf6a1920edafcab5102e02e3e14bb97d9c874 (from https://pypi.org/simple/torch/))\n",
      "Reason for being yanked: 0.1.2 is past it's support date and confuses users on unsupported platforms\n",
      "  ERROR: Command errored out with exit status 1:\n",
      "   command: 'c:\\users\\daniel\\appdata\\local\\programs\\python\\python38-32\\python.exe' -u -c 'import io, os, sys, setuptools, tokenize; sys.argv[0] = '\"'\"'C:\\\\Users\\\\Daniel\\\\AppData\\\\Local\\\\Temp\\\\pip-install-k2cc4p_r\\\\torch_1481f31a7fda4f189292c42244014d56\\\\setup.py'\"'\"'; __file__='\"'\"'C:\\\\Users\\\\Daniel\\\\AppData\\\\Local\\\\Temp\\\\pip-install-k2cc4p_r\\\\torch_1481f31a7fda4f189292c42244014d56\\\\setup.py'\"'\"';f = getattr(tokenize, '\"'\"'open'\"'\"', open)(__file__) if os.path.exists(__file__) else io.StringIO('\"'\"'from setuptools import setup; setup()'\"'\"');code = f.read().replace('\"'\"'\\r\\n'\"'\"', '\"'\"'\\n'\"'\"');f.close();exec(compile(code, __file__, '\"'\"'exec'\"'\"'))' bdist_wheel -d 'C:\\Users\\Daniel\\AppData\\Local\\Temp\\pip-wheel-9bzqpdbo'\n",
      "       cwd: C:\\Users\\Daniel\\AppData\\Local\\Temp\\pip-install-k2cc4p_r\\torch_1481f31a7fda4f189292c42244014d56\\\n",
      "  Complete output (30 lines):\n",
      "  running bdist_wheel\n",
      "  running build\n",
      "  running build_deps\n",
      "  Traceback (most recent call last):\n",
      "    File \"<string>\", line 1, in <module>\n",
      "    File \"C:\\Users\\Daniel\\AppData\\Local\\Temp\\pip-install-k2cc4p_r\\torch_1481f31a7fda4f189292c42244014d56\\setup.py\", line 225, in <module>\n",
      "      setup(name=\"torch\", version=\"0.1.2.post2\",\n",
      "    File \"c:\\users\\daniel\\appdata\\local\\programs\\python\\python38-32\\lib\\site-packages\\setuptools\\__init__.py\", line 145, in setup\n",
      "      return distutils.core.setup(**attrs)\n",
      "    File \"c:\\users\\daniel\\appdata\\local\\programs\\python\\python38-32\\lib\\distutils\\core.py\", line 148, in setup\n",
      "      dist.run_commands()\n",
      "    File \"c:\\users\\daniel\\appdata\\local\\programs\\python\\python38-32\\lib\\distutils\\dist.py\", line 966, in run_commands\n",
      "      self.run_command(cmd)\n",
      "    File \"c:\\users\\daniel\\appdata\\local\\programs\\python\\python38-32\\lib\\distutils\\dist.py\", line 985, in run_command\n",
      "      cmd_obj.run()\n",
      "    File \"c:\\users\\daniel\\appdata\\local\\programs\\python\\python38-32\\lib\\site-packages\\wheel\\bdist_wheel.py\", line 299, in run\n",
      "      self.run_command('build')\n",
      "    File \"c:\\users\\daniel\\appdata\\local\\programs\\python\\python38-32\\lib\\distutils\\cmd.py\", line 313, in run_command\n",
      "      self.distribution.run_command(command)\n",
      "    File \"c:\\users\\daniel\\appdata\\local\\programs\\python\\python38-32\\lib\\distutils\\dist.py\", line 985, in run_command\n",
      "      cmd_obj.run()\n",
      "    File \"c:\\users\\daniel\\appdata\\local\\programs\\python\\python38-32\\lib\\distutils\\command\\build.py\", line 135, in run\n",
      "      self.run_command(cmd_name)\n",
      "    File \"c:\\users\\daniel\\appdata\\local\\programs\\python\\python38-32\\lib\\distutils\\cmd.py\", line 313, in run_command\n",
      "      self.distribution.run_command(command)\n",
      "    File \"c:\\users\\daniel\\appdata\\local\\programs\\python\\python38-32\\lib\\distutils\\dist.py\", line 985, in run_command\n",
      "      cmd_obj.run()\n",
      "    File \"C:\\Users\\Daniel\\AppData\\Local\\Temp\\pip-install-k2cc4p_r\\torch_1481f31a7fda4f189292c42244014d56\\setup.py\", line 51, in run\n",
      "      from tools.nnwrap import generate_wrappers as generate_nn_wrappers\n",
      "  ModuleNotFoundError: No module named 'tools.nnwrap'\n",
      "  ----------------------------------------\n",
      "  ERROR: Failed building wheel for torch\n",
      "  ERROR: Command errored out with exit status 1:\n",
      "   command: 'c:\\users\\daniel\\appdata\\local\\programs\\python\\python38-32\\python.exe' -u -c 'import io, os, sys, setuptools, tokenize; sys.argv[0] = '\"'\"'C:\\\\Users\\\\Daniel\\\\AppData\\\\Local\\\\Temp\\\\pip-install-k2cc4p_r\\\\torch_1481f31a7fda4f189292c42244014d56\\\\setup.py'\"'\"'; __file__='\"'\"'C:\\\\Users\\\\Daniel\\\\AppData\\\\Local\\\\Temp\\\\pip-install-k2cc4p_r\\\\torch_1481f31a7fda4f189292c42244014d56\\\\setup.py'\"'\"';f = getattr(tokenize, '\"'\"'open'\"'\"', open)(__file__) if os.path.exists(__file__) else io.StringIO('\"'\"'from setuptools import setup; setup()'\"'\"');code = f.read().replace('\"'\"'\\r\\n'\"'\"', '\"'\"'\\n'\"'\"');f.close();exec(compile(code, __file__, '\"'\"'exec'\"'\"'))' clean --all\n",
      "       cwd: C:\\Users\\Daniel\\AppData\\Local\\Temp\\pip-install-k2cc4p_r\\torch_1481f31a7fda4f189292c42244014d56\n",
      "  Complete output (2 lines):\n",
      "  running clean\n",
      "  error: [Errno 2] No such file or directory: '.gitignore'\n",
      "  ----------------------------------------\n",
      "  ERROR: Failed cleaning build dir for torch\n",
      "    ERROR: Command errored out with exit status 1:\n",
      "     command: 'c:\\users\\daniel\\appdata\\local\\programs\\python\\python38-32\\python.exe' -u -c 'import io, os, sys, setuptools, tokenize; sys.argv[0] = '\"'\"'C:\\\\Users\\\\Daniel\\\\AppData\\\\Local\\\\Temp\\\\pip-install-k2cc4p_r\\\\torch_1481f31a7fda4f189292c42244014d56\\\\setup.py'\"'\"'; __file__='\"'\"'C:\\\\Users\\\\Daniel\\\\AppData\\\\Local\\\\Temp\\\\pip-install-k2cc4p_r\\\\torch_1481f31a7fda4f189292c42244014d56\\\\setup.py'\"'\"';f = getattr(tokenize, '\"'\"'open'\"'\"', open)(__file__) if os.path.exists(__file__) else io.StringIO('\"'\"'from setuptools import setup; setup()'\"'\"');code = f.read().replace('\"'\"'\\r\\n'\"'\"', '\"'\"'\\n'\"'\"');f.close();exec(compile(code, __file__, '\"'\"'exec'\"'\"'))' install --record 'C:\\Users\\Daniel\\AppData\\Local\\Temp\\pip-record-jvgqp9s0\\install-record.txt' --single-version-externally-managed --compile --install-headers 'c:\\users\\daniel\\appdata\\local\\programs\\python\\python38-32\\Include\\torch'\n",
      "         cwd: C:\\Users\\Daniel\\AppData\\Local\\Temp\\pip-install-k2cc4p_r\\torch_1481f31a7fda4f189292c42244014d56\\\n",
      "    Complete output (23 lines):\n",
      "    running install\n",
      "    running build_deps\n",
      "    Traceback (most recent call last):\n",
      "      File \"<string>\", line 1, in <module>\n",
      "      File \"C:\\Users\\Daniel\\AppData\\Local\\Temp\\pip-install-k2cc4p_r\\torch_1481f31a7fda4f189292c42244014d56\\setup.py\", line 225, in <module>\n",
      "        setup(name=\"torch\", version=\"0.1.2.post2\",\n",
      "      File \"c:\\users\\daniel\\appdata\\local\\programs\\python\\python38-32\\lib\\site-packages\\setuptools\\__init__.py\", line 145, in setup\n",
      "        return distutils.core.setup(**attrs)\n",
      "      File \"c:\\users\\daniel\\appdata\\local\\programs\\python\\python38-32\\lib\\distutils\\core.py\", line 148, in setup\n",
      "        dist.run_commands()\n",
      "      File \"c:\\users\\daniel\\appdata\\local\\programs\\python\\python38-32\\lib\\distutils\\dist.py\", line 966, in run_commands\n",
      "        self.run_command(cmd)\n",
      "      File \"c:\\users\\daniel\\appdata\\local\\programs\\python\\python38-32\\lib\\distutils\\dist.py\", line 985, in run_command\n",
      "        cmd_obj.run()\n",
      "      File \"C:\\Users\\Daniel\\AppData\\Local\\Temp\\pip-install-k2cc4p_r\\torch_1481f31a7fda4f189292c42244014d56\\setup.py\", line 99, in run\n",
      "        self.run_command('build_deps')\n",
      "      File \"c:\\users\\daniel\\appdata\\local\\programs\\python\\python38-32\\lib\\distutils\\cmd.py\", line 313, in run_command\n",
      "        self.distribution.run_command(command)\n",
      "      File \"c:\\users\\daniel\\appdata\\local\\programs\\python\\python38-32\\lib\\distutils\\dist.py\", line 985, in run_command\n",
      "        cmd_obj.run()\n",
      "      File \"C:\\Users\\Daniel\\AppData\\Local\\Temp\\pip-install-k2cc4p_r\\torch_1481f31a7fda4f189292c42244014d56\\setup.py\", line 51, in run\n",
      "        from tools.nnwrap import generate_wrappers as generate_nn_wrappers\n",
      "    ModuleNotFoundError: No module named 'tools.nnwrap'\n",
      "    ----------------------------------------\n",
      "ERROR: Command errored out with exit status 1: 'c:\\users\\daniel\\appdata\\local\\programs\\python\\python38-32\\python.exe' -u -c 'import io, os, sys, setuptools, tokenize; sys.argv[0] = '\"'\"'C:\\\\Users\\\\Daniel\\\\AppData\\\\Local\\\\Temp\\\\pip-install-k2cc4p_r\\\\torch_1481f31a7fda4f189292c42244014d56\\\\setup.py'\"'\"'; __file__='\"'\"'C:\\\\Users\\\\Daniel\\\\AppData\\\\Local\\\\Temp\\\\pip-install-k2cc4p_r\\\\torch_1481f31a7fda4f189292c42244014d56\\\\setup.py'\"'\"';f = getattr(tokenize, '\"'\"'open'\"'\"', open)(__file__) if os.path.exists(__file__) else io.StringIO('\"'\"'from setuptools import setup; setup()'\"'\"');code = f.read().replace('\"'\"'\\r\\n'\"'\"', '\"'\"'\\n'\"'\"');f.close();exec(compile(code, __file__, '\"'\"'exec'\"'\"'))' install --record 'C:\\Users\\Daniel\\AppData\\Local\\Temp\\pip-record-jvgqp9s0\\install-record.txt' --single-version-externally-managed --compile --install-headers 'c:\\users\\daniel\\appdata\\local\\programs\\python\\python38-32\\Include\\torch' Check the logs for full command output.\n"
     ]
    }
   ],
   "source": [
    "!pip3 install torch\n"
   ],
   "metadata": {
    "collapsed": false,
    "pycharm": {
     "name": "#%%\n"
    }
   }
  },
  {
   "cell_type": "code",
   "execution_count": 22,
   "outputs": [
    {
     "name": "stdout",
     "output_type": "stream",
     "text": [
      "Collecting pytorch\n",
      "  Using cached pytorch-1.0.2.tar.gz (689 bytes)\n",
      "Building wheels for collected packages: pytorch\n",
      "  Building wheel for pytorch (setup.py): started\n",
      "  Building wheel for pytorch (setup.py): finished with status 'error'\n",
      "  Running setup.py clean for pytorch\n",
      "Failed to build pytorch\n",
      "Installing collected packages: pytorch\n",
      "    Running setup.py install for pytorch: started\n",
      "    Running setup.py install for pytorch: finished with status 'error'\n"
     ]
    },
    {
     "name": "stderr",
     "output_type": "stream",
     "text": [
      "  ERROR: Command errored out with exit status 1:\n",
      "   command: 'c:\\users\\daniel\\appdata\\local\\programs\\python\\python38-32\\python.exe' -u -c 'import io, os, sys, setuptools, tokenize; sys.argv[0] = '\"'\"'C:\\\\Users\\\\Daniel\\\\AppData\\\\Local\\\\Temp\\\\pip-install-aznxhzel\\\\pytorch_92bf2a4afbd74010bd885d972a042b6d\\\\setup.py'\"'\"'; __file__='\"'\"'C:\\\\Users\\\\Daniel\\\\AppData\\\\Local\\\\Temp\\\\pip-install-aznxhzel\\\\pytorch_92bf2a4afbd74010bd885d972a042b6d\\\\setup.py'\"'\"';f = getattr(tokenize, '\"'\"'open'\"'\"', open)(__file__) if os.path.exists(__file__) else io.StringIO('\"'\"'from setuptools import setup; setup()'\"'\"');code = f.read().replace('\"'\"'\\r\\n'\"'\"', '\"'\"'\\n'\"'\"');f.close();exec(compile(code, __file__, '\"'\"'exec'\"'\"'))' bdist_wheel -d 'C:\\Users\\Daniel\\AppData\\Local\\Temp\\pip-wheel-tilpab2_'\n",
      "       cwd: C:\\Users\\Daniel\\AppData\\Local\\Temp\\pip-install-aznxhzel\\pytorch_92bf2a4afbd74010bd885d972a042b6d\\\n",
      "  Complete output (5 lines):\n",
      "  Traceback (most recent call last):\n",
      "    File \"<string>\", line 1, in <module>\n",
      "    File \"C:\\Users\\Daniel\\AppData\\Local\\Temp\\pip-install-aznxhzel\\pytorch_92bf2a4afbd74010bd885d972a042b6d\\setup.py\", line 15, in <module>\n",
      "      raise Exception(message)\n",
      "  Exception: You tried to install \"pytorch\". The package named for PyTorch is \"torch\"\n",
      "  ----------------------------------------\n",
      "  ERROR: Failed building wheel for pytorch\n",
      "    ERROR: Command errored out with exit status 1:\n",
      "     command: 'c:\\users\\daniel\\appdata\\local\\programs\\python\\python38-32\\python.exe' -u -c 'import io, os, sys, setuptools, tokenize; sys.argv[0] = '\"'\"'C:\\\\Users\\\\Daniel\\\\AppData\\\\Local\\\\Temp\\\\pip-install-aznxhzel\\\\pytorch_92bf2a4afbd74010bd885d972a042b6d\\\\setup.py'\"'\"'; __file__='\"'\"'C:\\\\Users\\\\Daniel\\\\AppData\\\\Local\\\\Temp\\\\pip-install-aznxhzel\\\\pytorch_92bf2a4afbd74010bd885d972a042b6d\\\\setup.py'\"'\"';f = getattr(tokenize, '\"'\"'open'\"'\"', open)(__file__) if os.path.exists(__file__) else io.StringIO('\"'\"'from setuptools import setup; setup()'\"'\"');code = f.read().replace('\"'\"'\\r\\n'\"'\"', '\"'\"'\\n'\"'\"');f.close();exec(compile(code, __file__, '\"'\"'exec'\"'\"'))' install --record 'C:\\Users\\Daniel\\AppData\\Local\\Temp\\pip-record-823peyne\\install-record.txt' --single-version-externally-managed --compile --install-headers 'c:\\users\\daniel\\appdata\\local\\programs\\python\\python38-32\\Include\\pytorch'\n",
      "         cwd: C:\\Users\\Daniel\\AppData\\Local\\Temp\\pip-install-aznxhzel\\pytorch_92bf2a4afbd74010bd885d972a042b6d\\\n",
      "    Complete output (5 lines):\n",
      "    Traceback (most recent call last):\n",
      "      File \"<string>\", line 1, in <module>\n",
      "      File \"C:\\Users\\Daniel\\AppData\\Local\\Temp\\pip-install-aznxhzel\\pytorch_92bf2a4afbd74010bd885d972a042b6d\\setup.py\", line 11, in <module>\n",
      "        raise Exception(message)\n",
      "    Exception: You tried to install \"pytorch\". The package named for PyTorch is \"torch\"\n",
      "    ----------------------------------------\n",
      "ERROR: Command errored out with exit status 1: 'c:\\users\\daniel\\appdata\\local\\programs\\python\\python38-32\\python.exe' -u -c 'import io, os, sys, setuptools, tokenize; sys.argv[0] = '\"'\"'C:\\\\Users\\\\Daniel\\\\AppData\\\\Local\\\\Temp\\\\pip-install-aznxhzel\\\\pytorch_92bf2a4afbd74010bd885d972a042b6d\\\\setup.py'\"'\"'; __file__='\"'\"'C:\\\\Users\\\\Daniel\\\\AppData\\\\Local\\\\Temp\\\\pip-install-aznxhzel\\\\pytorch_92bf2a4afbd74010bd885d972a042b6d\\\\setup.py'\"'\"';f = getattr(tokenize, '\"'\"'open'\"'\"', open)(__file__) if os.path.exists(__file__) else io.StringIO('\"'\"'from setuptools import setup; setup()'\"'\"');code = f.read().replace('\"'\"'\\r\\n'\"'\"', '\"'\"'\\n'\"'\"');f.close();exec(compile(code, __file__, '\"'\"'exec'\"'\"'))' install --record 'C:\\Users\\Daniel\\AppData\\Local\\Temp\\pip-record-823peyne\\install-record.txt' --single-version-externally-managed --compile --install-headers 'c:\\users\\daniel\\appdata\\local\\programs\\python\\python38-32\\Include\\pytorch' Check the logs for full command output.\n"
     ]
    }
   ],
   "source": [
    "!pip install pytorch"
   ],
   "metadata": {
    "collapsed": false,
    "pycharm": {
     "name": "#%%\n"
    }
   }
  },
  {
   "cell_type": "code",
   "execution_count": null,
   "outputs": [],
   "source": [],
   "metadata": {
    "collapsed": false,
    "pycharm": {
     "name": "#%%\n"
    }
   }
  }
 ],
 "metadata": {
  "kernelspec": {
   "display_name": "Python 3",
   "language": "python",
   "name": "python3"
  },
  "language_info": {
   "codemirror_mode": {
    "name": "ipython",
    "version": 2
   },
   "file_extension": ".py",
   "mimetype": "text/x-python",
   "name": "python",
   "nbconvert_exporter": "python",
   "pygments_lexer": "ipython2",
   "version": "2.7.6"
  }
 },
 "nbformat": 4,
 "nbformat_minor": 0
}