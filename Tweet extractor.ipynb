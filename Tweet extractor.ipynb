{
 "cells": [
  {
   "cell_type": "code",
   "execution_count": 1,
   "metadata": {
    "collapsed": true
   },
   "outputs": [
    {
     "name": "stdout",
     "output_type": "stream",
     "text": [
      "Collecting tweepy\n",
      "  Downloading https://files.pythonhosted.org/packages/67/c3/6bed87f3b1e5ed2f34bd58bf7978e308c86e255193916be76e5a5ce5dfca/tweepy-3.10.0-py2.py3-none-any.whl\n",
      "Requirement already satisfied: requests[socks]>=2.11.1 in c:\\users\\daniel\\appdata\\local\\programs\\python\\python38-32\\lib\\site-packages (from tweepy) (2.24.0)\n",
      "Collecting requests-oauthlib>=0.7.0 (from tweepy)\n",
      "  Downloading https://files.pythonhosted.org/packages/a3/12/b92740d845ab62ea4edf04d2f4164d82532b5a0b03836d4d4e71c6f3d379/requests_oauthlib-1.3.0-py2.py3-none-any.whl\n",
      "Requirement already satisfied: six>=1.10.0 in c:\\users\\daniel\\appdata\\local\\programs\\python\\python38-32\\lib\\site-packages (from tweepy) (1.15.0)\n",
      "Requirement already satisfied: urllib3!=1.25.0,!=1.25.1,<1.26,>=1.21.1 in c:\\users\\daniel\\appdata\\local\\programs\\python\\python38-32\\lib\\site-packages (from requests[socks]>=2.11.1->tweepy) (1.25.11)\n",
      "Requirement already satisfied: idna<3,>=2.5 in c:\\users\\daniel\\appdata\\local\\programs\\python\\python38-32\\lib\\site-packages (from requests[socks]>=2.11.1->tweepy) (2.10)\n",
      "Requirement already satisfied: chardet<4,>=3.0.2 in c:\\users\\daniel\\appdata\\local\\programs\\python\\python38-32\\lib\\site-packages (from requests[socks]>=2.11.1->tweepy) (3.0.4)\n",
      "Requirement already satisfied: certifi>=2017.4.17 in c:\\users\\daniel\\appdata\\local\\programs\\python\\python38-32\\lib\\site-packages (from requests[socks]>=2.11.1->tweepy) (2020.6.20)\n",
      "Collecting PySocks!=1.5.7,>=1.5.6; extra == \"socks\" (from requests[socks]>=2.11.1->tweepy)\n",
      "  Downloading https://files.pythonhosted.org/packages/8d/59/b4572118e098ac8e46e399a1dd0f2d85403ce8bbaad9ec79373ed6badaf9/PySocks-1.7.1-py3-none-any.whl\n",
      "Collecting oauthlib>=3.0.0 (from requests-oauthlib>=0.7.0->tweepy)\n",
      "  Downloading https://files.pythonhosted.org/packages/e8/5d/9dd1c29e5a786525f6342f6c1d812ed2e37edc653ad297048c1668988053/oauthlib-3.1.1-py2.py3-none-any.whl (146kB)\n",
      "Installing collected packages: oauthlib, requests-oauthlib, tweepy, PySocks\n",
      "Successfully installed PySocks-1.7.1 oauthlib-3.1.1 requests-oauthlib-1.3.0 tweepy-3.10.0\n"
     ]
    },
    {
     "name": "stderr",
     "output_type": "stream",
     "text": [
      "WARNING: You are using pip version 19.2.3, however version 21.1.3 is available.\n",
      "You should consider upgrading via the 'python -m pip install --upgrade pip' command.\n"
     ]
    }
   ],
   "source": [
    "# Download tweepy\n",
    "!pip install tweepy\n",
    "\n"
   ]
  },
  {
   "cell_type": "code",
   "execution_count": 1,
   "outputs": [],
   "source": [
    "import os\n",
    "import tweepy as tw\n",
    "import pandas as pd"
   ],
   "metadata": {
    "collapsed": false,
    "pycharm": {
     "name": "#%%\n"
    }
   }
  },
  {
   "cell_type": "code",
   "execution_count": 2,
   "outputs": [],
   "source": [
    "###To get tweets from Twitter, you need 4 things: consumer_key,consumer_secret,access_token,access_token_secret\n",
    "###Link to get this information https://developer.twitter.com/en/portal/projects-and-apps\n",
    "###https://www.slickremix.com/docs/how-to-get-api-keys-and-tokens-for-twitter/\n",
    "### Get your credential and fill it to use this code\n",
    "\n",
    "consumer_key = 'aG8ePfeJthMxkFV6LY0trLt5y'\n",
    "consumer_secret = 'lOohRBQAMqjVDQYJpmWx52Fjq6pv21bmsD4SDN4c8jkzd6m6vL'\n",
    "access_token = '527303407-RJuiojK2lJ0xLP8Xtu2k8vfFd8hczxtOxPiZ8ui0'\n",
    "access_token_secret = 'rE6HzS7LajFErQcaDsYkPa0tRrZagYWLEUW46mP0wKInw'\n",
    "\n"
   ],
   "metadata": {
    "collapsed": false,
    "pycharm": {
     "name": "#%%\n"
    }
   }
  },
  {
   "cell_type": "code",
   "execution_count": 5,
   "outputs": [],
   "source": [
    "# Code to connect twitter using above information\n",
    "auth = tw.OAuthHandler(consumer_key, consumer_secret)\n",
    "auth.set_access_token(access_token, access_token_secret)\n",
    "api = tw.API(auth, wait_on_rate_limit=True)"
   ],
   "metadata": {
    "collapsed": false,
    "pycharm": {
     "name": "#%%\n"
    }
   }
  },
  {
   "cell_type": "code",
   "execution_count": 6,
   "outputs": [],
   "source": [
    "## search_words is a string for the word you want to search. you can put single term or the multiple strings separated by\n",
    "###AND , OR depend upon your requirements\n",
    "\n",
    "#search_words = '@WorldOceansDay' example1\n",
    "#search_words = 'World Ocean Day' example2\n",
    "search_words = '(@WorldOceansDay OR World Ocean Day OR #WorldOceanDay) AND (cloud OR plastic OR climate)' #example3\n",
    "date_since = '2021-06-08'"
   ],
   "metadata": {
    "collapsed": false,
    "pycharm": {
     "name": "#%%\n"
    }
   }
  },
  {
   "cell_type": "code",
   "execution_count": 17,
   "outputs": [],
   "source": [
    "# Collect tweets\n",
    "tweets = tw.Cursor(api.search,\n",
    "                   q=search_words,\n",
    "                   lang='en',\n",
    "                   since=date_since,\n",
    "                   include_rts=False,\n",
    "                   exclude_replies=True,\n",
    "                   contributor_details=False,\n",
    "                   tweet_mode= 'extended').items(3000)\n",
    "# Here I am using tweet_mode = 'extended' for extended tweets (280 characters) otherwise it will consider only 140 characters.\n"
   ],
   "metadata": {
    "collapsed": false,
    "pycharm": {
     "name": "#%%\n"
    }
   }
  },
  {
   "cell_type": "code",
   "execution_count": 18,
   "outputs": [],
   "source": [
    "# Here I am creating a list of tweet id, username, user location and tweets\n",
    "users_locs = []\n",
    "for tweet in tweets:\n",
    "    if 'retweeted status' in vars(tweet): #check for re-tweets, if yes then it will take the full text of re-tweets also\n",
    "        tweet_list = tweet.retweeted_status.full_text\n",
    "    else:\n",
    "        tweet_list = tweet.full_text\n",
    "    users_locs.append([tweet.id, tweet.user.screen_name, tweet.user.location, tweet_list])\n",
    "\n"
   ],
   "metadata": {
    "collapsed": false,
    "pycharm": {
     "name": "#%%\n"
    }
   }
  },
  {
   "cell_type": "code",
   "execution_count": 19,
   "outputs": [],
   "source": [
    "# Convert the list to dataframe\n",
    "tweet_text = pd.DataFrame(data=users_locs,columns=['Tweet Id', 'user', 'location', 'Tweets'])\n",
    "\n"
   ],
   "metadata": {
    "collapsed": false,
    "pycharm": {
     "name": "#%%\n"
    }
   }
  },
  {
   "cell_type": "code",
   "execution_count": 16,
   "outputs": [],
   "source": [
    "# Save the file to csv format\n",
    "tweet_text.to_csv('tweets_Daniel.csv')\n",
    "\n"
   ],
   "metadata": {
    "collapsed": false,
    "pycharm": {
     "name": "#%%\n"
    }
   }
  },
  {
   "cell_type": "code",
   "execution_count": null,
   "outputs": [],
   "source": [
    "\n"
   ],
   "metadata": {
    "collapsed": false,
    "pycharm": {
     "name": "#%%\n"
    }
   }
  }
 ],
 "metadata": {
  "kernelspec": {
   "display_name": "Python 3",
   "language": "python",
   "name": "python3"
  },
  "language_info": {
   "codemirror_mode": {
    "name": "ipython",
    "version": 2
   },
   "file_extension": ".py",
   "mimetype": "text/x-python",
   "name": "python",
   "nbconvert_exporter": "python",
   "pygments_lexer": "ipython2",
   "version": "2.7.6"
  }
 },
 "nbformat": 4,
 "nbformat_minor": 0
}