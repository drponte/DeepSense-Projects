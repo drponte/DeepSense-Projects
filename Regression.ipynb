{
 "cells": [
  {
   "cell_type": "code",
   "execution_count": 1,
   "outputs": [
    {
     "data": {
      "text/plain": "             station_name                  time  longitude   latitude  \\\n0  smb_mouth_of_placentia  2006-08-18T17:16:59Z -54.681723  46.981275   \n1  smb_mouth_of_placentia  2006-08-18T17:36:58Z -54.683605  46.981580   \n2  smb_mouth_of_placentia  2006-08-18T17:56:58Z -54.684595  46.981720   \n3  smb_mouth_of_placentia  2006-08-18T18:16:58Z -54.685037  46.981892   \n4  smb_mouth_of_placentia  2006-08-18T18:36:58Z -54.685227  46.981993   \n\n   wind_spd_avg  wind_spd_max  wind_dir_avg  wind_spd2_avg  wind_spd2_max  \\\n0           2.2           3.6          51.0            NaN            NaN   \n1           2.2           2.5          68.0            NaN            NaN   \n2           2.2           2.5          75.0            NaN            NaN   \n3           1.9           2.3          67.0            NaN            NaN   \n4           1.5           2.1          55.0            NaN            NaN   \n\n   wind_dir2_avg  ...  surface_temp_avg  wave_ht_max  surface_salinity_avg  \\\n0            NaN  ...             16.57         1.08                 2.505   \n1            NaN  ...             16.44         1.22                 3.509   \n2            NaN  ...             16.66         1.09                 4.227   \n3            NaN  ...             16.80         1.24                 2.831   \n4            NaN  ...             17.24         1.16                 2.539   \n\n   surface_cond_avg  wave_ht_sig  wave_period_max  wave_dir_avg  \\\n0            0.3605         0.73              8.7         199.8   \n1            0.5109         0.75              8.7         211.1   \n2            0.6108         0.75              8.7         215.0   \n3            0.4181         0.78              8.0         217.0   \n4            0.3822         0.72              6.9         221.6   \n\n   wave_spread_avg  curr_dir_avg  curr_spd_avg  \n0             46.4        128.63       1713.58  \n1             44.7        357.47       1259.46  \n2             45.2         46.04        997.95  \n3             46.3          7.22       1239.27  \n4             42.1         13.57       1452.59  \n\n[5 rows x 24 columns]",
      "text/html": "<div>\n<style scoped>\n    .dataframe tbody tr th:only-of-type {\n        vertical-align: middle;\n    }\n\n    .dataframe tbody tr th {\n        vertical-align: top;\n    }\n\n    .dataframe thead th {\n        text-align: right;\n    }\n</style>\n<table border=\"1\" class=\"dataframe\">\n  <thead>\n    <tr style=\"text-align: right;\">\n      <th></th>\n      <th>station_name</th>\n      <th>time</th>\n      <th>longitude</th>\n      <th>latitude</th>\n      <th>wind_spd_avg</th>\n      <th>wind_spd_max</th>\n      <th>wind_dir_avg</th>\n      <th>wind_spd2_avg</th>\n      <th>wind_spd2_max</th>\n      <th>wind_dir2_avg</th>\n      <th>...</th>\n      <th>surface_temp_avg</th>\n      <th>wave_ht_max</th>\n      <th>surface_salinity_avg</th>\n      <th>surface_cond_avg</th>\n      <th>wave_ht_sig</th>\n      <th>wave_period_max</th>\n      <th>wave_dir_avg</th>\n      <th>wave_spread_avg</th>\n      <th>curr_dir_avg</th>\n      <th>curr_spd_avg</th>\n    </tr>\n  </thead>\n  <tbody>\n    <tr>\n      <th>0</th>\n      <td>smb_mouth_of_placentia</td>\n      <td>2006-08-18T17:16:59Z</td>\n      <td>-54.681723</td>\n      <td>46.981275</td>\n      <td>2.2</td>\n      <td>3.6</td>\n      <td>51.0</td>\n      <td>NaN</td>\n      <td>NaN</td>\n      <td>NaN</td>\n      <td>...</td>\n      <td>16.57</td>\n      <td>1.08</td>\n      <td>2.505</td>\n      <td>0.3605</td>\n      <td>0.73</td>\n      <td>8.7</td>\n      <td>199.8</td>\n      <td>46.4</td>\n      <td>128.63</td>\n      <td>1713.58</td>\n    </tr>\n    <tr>\n      <th>1</th>\n      <td>smb_mouth_of_placentia</td>\n      <td>2006-08-18T17:36:58Z</td>\n      <td>-54.683605</td>\n      <td>46.981580</td>\n      <td>2.2</td>\n      <td>2.5</td>\n      <td>68.0</td>\n      <td>NaN</td>\n      <td>NaN</td>\n      <td>NaN</td>\n      <td>...</td>\n      <td>16.44</td>\n      <td>1.22</td>\n      <td>3.509</td>\n      <td>0.5109</td>\n      <td>0.75</td>\n      <td>8.7</td>\n      <td>211.1</td>\n      <td>44.7</td>\n      <td>357.47</td>\n      <td>1259.46</td>\n    </tr>\n    <tr>\n      <th>2</th>\n      <td>smb_mouth_of_placentia</td>\n      <td>2006-08-18T17:56:58Z</td>\n      <td>-54.684595</td>\n      <td>46.981720</td>\n      <td>2.2</td>\n      <td>2.5</td>\n      <td>75.0</td>\n      <td>NaN</td>\n      <td>NaN</td>\n      <td>NaN</td>\n      <td>...</td>\n      <td>16.66</td>\n      <td>1.09</td>\n      <td>4.227</td>\n      <td>0.6108</td>\n      <td>0.75</td>\n      <td>8.7</td>\n      <td>215.0</td>\n      <td>45.2</td>\n      <td>46.04</td>\n      <td>997.95</td>\n    </tr>\n    <tr>\n      <th>3</th>\n      <td>smb_mouth_of_placentia</td>\n      <td>2006-08-18T18:16:58Z</td>\n      <td>-54.685037</td>\n      <td>46.981892</td>\n      <td>1.9</td>\n      <td>2.3</td>\n      <td>67.0</td>\n      <td>NaN</td>\n      <td>NaN</td>\n      <td>NaN</td>\n      <td>...</td>\n      <td>16.80</td>\n      <td>1.24</td>\n      <td>2.831</td>\n      <td>0.4181</td>\n      <td>0.78</td>\n      <td>8.0</td>\n      <td>217.0</td>\n      <td>46.3</td>\n      <td>7.22</td>\n      <td>1239.27</td>\n    </tr>\n    <tr>\n      <th>4</th>\n      <td>smb_mouth_of_placentia</td>\n      <td>2006-08-18T18:36:58Z</td>\n      <td>-54.685227</td>\n      <td>46.981993</td>\n      <td>1.5</td>\n      <td>2.1</td>\n      <td>55.0</td>\n      <td>NaN</td>\n      <td>NaN</td>\n      <td>NaN</td>\n      <td>...</td>\n      <td>17.24</td>\n      <td>1.16</td>\n      <td>2.539</td>\n      <td>0.3822</td>\n      <td>0.72</td>\n      <td>6.9</td>\n      <td>221.6</td>\n      <td>42.1</td>\n      <td>13.57</td>\n      <td>1452.59</td>\n    </tr>\n  </tbody>\n</table>\n<p>5 rows × 24 columns</p>\n</div>"
     },
     "execution_count": 1,
     "metadata": {},
     "output_type": "execute_result"
    }
   ],
   "source": [
    "import pandas as pd\n",
    "\n",
    "# CODE FOR CLEANING MOUTHOFPLACENTIA DATASET\n",
    "mp = pd.read_csv(r\"5.Regression\\SMA_MouthofPlacentiaBayBuoy_df46_6a5f_84ea.csv\", skiprows=[1])\n",
    "mp.head()"
   ],
   "metadata": {
    "collapsed": false,
    "pycharm": {
     "name": "#%%\n"
    }
   }
  },
  {
   "cell_type": "code",
   "execution_count": 2,
   "outputs": [
    {
     "name": "stdout",
     "output_type": "stream",
     "text": [
      "List of column names:  ['station_name', 'time', 'longitude', 'latitude', 'wind_spd_avg', 'wind_spd_max', 'wind_dir_avg', 'wind_spd2_avg', 'wind_spd2_max', 'wind_dir2_avg', 'air_temp_avg', 'air_pressure_avg', 'air_humidity_avg', 'air_dewpoint_avg', 'surface_temp_avg', 'wave_ht_max', 'surface_salinity_avg', 'surface_cond_avg', 'wave_ht_sig', 'wave_period_max', 'wave_dir_avg', 'wave_spread_avg', 'curr_dir_avg', 'curr_spd_avg']\n"
     ]
    }
   ],
   "source": [
    "list_of_column_names_mp = list(mp.columns)\n",
    "\n",
    "# displaying the list of column names\n",
    "print('List of column names: ', list_of_column_names_mp)"
   ],
   "metadata": {
    "collapsed": false,
    "pycharm": {
     "name": "#%%\n"
    }
   }
  },
  {
   "cell_type": "code",
   "execution_count": 3,
   "outputs": [
    {
     "data": {
      "text/plain": "         mop_station_name              mop_time  mop_longitude  mop_latitude  \\\n0  smb_mouth_of_placentia  2006-08-18T17:16:59Z     -54.681723     46.981275   \n1  smb_mouth_of_placentia  2006-08-18T17:36:58Z     -54.683605     46.981580   \n2  smb_mouth_of_placentia  2006-08-18T17:56:58Z     -54.684595     46.981720   \n3  smb_mouth_of_placentia  2006-08-18T18:16:58Z     -54.685037     46.981892   \n4  smb_mouth_of_placentia  2006-08-18T18:36:58Z     -54.685227     46.981993   \n\n   mop_wind_spd_avg  mop_wind_spd_max  mop_wind_dir_avg  mop_wind_spd2_avg  \\\n0               2.2               3.6              51.0                NaN   \n1               2.2               2.5              68.0                NaN   \n2               2.2               2.5              75.0                NaN   \n3               1.9               2.3              67.0                NaN   \n4               1.5               2.1              55.0                NaN   \n\n   mop_wind_spd2_max  mop_wind_dir2_avg  ...  mop_surface_temp_avg  \\\n0                NaN                NaN  ...                 16.57   \n1                NaN                NaN  ...                 16.44   \n2                NaN                NaN  ...                 16.66   \n3                NaN                NaN  ...                 16.80   \n4                NaN                NaN  ...                 17.24   \n\n   mop_wave_ht_max  mop_surface_salinity_avg  mop_surface_cond_avg  \\\n0             1.08                     2.505                0.3605   \n1             1.22                     3.509                0.5109   \n2             1.09                     4.227                0.6108   \n3             1.24                     2.831                0.4181   \n4             1.16                     2.539                0.3822   \n\n   mop_wave_ht_sig  mop_wave_period_max  mop_wave_dir_avg  \\\n0             0.73                  8.7             199.8   \n1             0.75                  8.7             211.1   \n2             0.75                  8.7             215.0   \n3             0.78                  8.0             217.0   \n4             0.72                  6.9             221.6   \n\n   mop_wave_spread_avg  mop_curr_dir_avg  mop_curr_spd_avg  \n0                 46.4            128.63           1713.58  \n1                 44.7            357.47           1259.46  \n2                 45.2             46.04            997.95  \n3                 46.3              7.22           1239.27  \n4                 42.1             13.57           1452.59  \n\n[5 rows x 24 columns]",
      "text/html": "<div>\n<style scoped>\n    .dataframe tbody tr th:only-of-type {\n        vertical-align: middle;\n    }\n\n    .dataframe tbody tr th {\n        vertical-align: top;\n    }\n\n    .dataframe thead th {\n        text-align: right;\n    }\n</style>\n<table border=\"1\" class=\"dataframe\">\n  <thead>\n    <tr style=\"text-align: right;\">\n      <th></th>\n      <th>mop_station_name</th>\n      <th>mop_time</th>\n      <th>mop_longitude</th>\n      <th>mop_latitude</th>\n      <th>mop_wind_spd_avg</th>\n      <th>mop_wind_spd_max</th>\n      <th>mop_wind_dir_avg</th>\n      <th>mop_wind_spd2_avg</th>\n      <th>mop_wind_spd2_max</th>\n      <th>mop_wind_dir2_avg</th>\n      <th>...</th>\n      <th>mop_surface_temp_avg</th>\n      <th>mop_wave_ht_max</th>\n      <th>mop_surface_salinity_avg</th>\n      <th>mop_surface_cond_avg</th>\n      <th>mop_wave_ht_sig</th>\n      <th>mop_wave_period_max</th>\n      <th>mop_wave_dir_avg</th>\n      <th>mop_wave_spread_avg</th>\n      <th>mop_curr_dir_avg</th>\n      <th>mop_curr_spd_avg</th>\n    </tr>\n  </thead>\n  <tbody>\n    <tr>\n      <th>0</th>\n      <td>smb_mouth_of_placentia</td>\n      <td>2006-08-18T17:16:59Z</td>\n      <td>-54.681723</td>\n      <td>46.981275</td>\n      <td>2.2</td>\n      <td>3.6</td>\n      <td>51.0</td>\n      <td>NaN</td>\n      <td>NaN</td>\n      <td>NaN</td>\n      <td>...</td>\n      <td>16.57</td>\n      <td>1.08</td>\n      <td>2.505</td>\n      <td>0.3605</td>\n      <td>0.73</td>\n      <td>8.7</td>\n      <td>199.8</td>\n      <td>46.4</td>\n      <td>128.63</td>\n      <td>1713.58</td>\n    </tr>\n    <tr>\n      <th>1</th>\n      <td>smb_mouth_of_placentia</td>\n      <td>2006-08-18T17:36:58Z</td>\n      <td>-54.683605</td>\n      <td>46.981580</td>\n      <td>2.2</td>\n      <td>2.5</td>\n      <td>68.0</td>\n      <td>NaN</td>\n      <td>NaN</td>\n      <td>NaN</td>\n      <td>...</td>\n      <td>16.44</td>\n      <td>1.22</td>\n      <td>3.509</td>\n      <td>0.5109</td>\n      <td>0.75</td>\n      <td>8.7</td>\n      <td>211.1</td>\n      <td>44.7</td>\n      <td>357.47</td>\n      <td>1259.46</td>\n    </tr>\n    <tr>\n      <th>2</th>\n      <td>smb_mouth_of_placentia</td>\n      <td>2006-08-18T17:56:58Z</td>\n      <td>-54.684595</td>\n      <td>46.981720</td>\n      <td>2.2</td>\n      <td>2.5</td>\n      <td>75.0</td>\n      <td>NaN</td>\n      <td>NaN</td>\n      <td>NaN</td>\n      <td>...</td>\n      <td>16.66</td>\n      <td>1.09</td>\n      <td>4.227</td>\n      <td>0.6108</td>\n      <td>0.75</td>\n      <td>8.7</td>\n      <td>215.0</td>\n      <td>45.2</td>\n      <td>46.04</td>\n      <td>997.95</td>\n    </tr>\n    <tr>\n      <th>3</th>\n      <td>smb_mouth_of_placentia</td>\n      <td>2006-08-18T18:16:58Z</td>\n      <td>-54.685037</td>\n      <td>46.981892</td>\n      <td>1.9</td>\n      <td>2.3</td>\n      <td>67.0</td>\n      <td>NaN</td>\n      <td>NaN</td>\n      <td>NaN</td>\n      <td>...</td>\n      <td>16.80</td>\n      <td>1.24</td>\n      <td>2.831</td>\n      <td>0.4181</td>\n      <td>0.78</td>\n      <td>8.0</td>\n      <td>217.0</td>\n      <td>46.3</td>\n      <td>7.22</td>\n      <td>1239.27</td>\n    </tr>\n    <tr>\n      <th>4</th>\n      <td>smb_mouth_of_placentia</td>\n      <td>2006-08-18T18:36:58Z</td>\n      <td>-54.685227</td>\n      <td>46.981993</td>\n      <td>1.5</td>\n      <td>2.1</td>\n      <td>55.0</td>\n      <td>NaN</td>\n      <td>NaN</td>\n      <td>NaN</td>\n      <td>...</td>\n      <td>17.24</td>\n      <td>1.16</td>\n      <td>2.539</td>\n      <td>0.3822</td>\n      <td>0.72</td>\n      <td>6.9</td>\n      <td>221.6</td>\n      <td>42.1</td>\n      <td>13.57</td>\n      <td>1452.59</td>\n    </tr>\n  </tbody>\n</table>\n<p>5 rows × 24 columns</p>\n</div>"
     },
     "execution_count": 3,
     "metadata": {},
     "output_type": "execute_result"
    }
   ],
   "source": [
    "# add prefix to the each column name to avoid any confusion about the features\n",
    "mp = mp.add_prefix('mop_')\n",
    "mp.head()\n"
   ],
   "metadata": {
    "collapsed": false,
    "pycharm": {
     "name": "#%%\n"
    }
   }
  },
  {
   "cell_type": "code",
   "execution_count": 4,
   "outputs": [
    {
     "data": {
      "text/plain": "       mop_longitude   mop_latitude  mop_wind_spd_avg  mop_wind_spd_max  \\\ncount  191505.000000  191506.000000     199453.000000     199453.000000   \nmean      -54.672044      46.983504          7.340953          9.137004   \nstd         0.197680       0.270764          5.708263          5.271594   \nmin       -58.735750     -66.078312          0.000000          0.000000   \n25%       -54.696997      46.975562          4.500000          5.600000   \n50%       -54.687098      46.980667          7.100000          8.700000   \n75%       -54.685508      46.982390          9.900000         12.200000   \nmax       -21.419885      51.058293        460.700000        309.400000   \n\n       mop_wind_dir_avg  mop_wind_spd2_avg  mop_wind_spd2_max  \\\ncount     199453.000000      112206.000000      112206.000000   \nmean         204.893855           2.686919           3.449813   \nstd          100.138128           4.382657           5.561935   \nmin            0.000000           0.000000           0.000000   \n25%          126.000000           0.000000           0.000000   \n50%          231.000000           0.000000           0.000000   \n75%          286.000000           5.200000           6.600000   \nmax          360.000000          34.900000         138.300000   \n\n       mop_wind_dir2_avg  mop_air_temp_avg  mop_air_pressure_avg  ...  \\\ncount                0.0     206797.000000         206790.000000  ...   \nmean                 NaN          5.695603           1012.732452  ...   \nstd                  NaN          6.821716             11.011730  ...   \nmin                  NaN        -21.900000            951.610000  ...   \n25%                  NaN          0.500000           1006.372500  ...   \n50%                  NaN          5.000000           1013.980000  ...   \n75%                  NaN         11.500000           1020.340000  ...   \nmax                  NaN         32.600000           1049.970000  ...   \n\n       mop_surface_temp_avg  mop_wave_ht_max  mop_surface_salinity_avg  \\\ncount         206551.000000    189553.000000              94387.000000   \nmean               6.666599         2.909005                 29.825633   \nstd                6.278751         3.169324                  7.705846   \nmin               -5.910000         0.000000                  0.000000   \n25%                1.280000         1.640000                 31.234000   \n50%                5.560000         2.450000                 31.577000   \n75%               11.570000         3.690000                 31.822000   \nmax              323.960000       323.960000                323.961000   \n\n       mop_surface_cond_avg  mop_wave_ht_sig  mop_wave_period_max  \\\ncount          94387.000000    189553.000000        189553.000000   \nmean               3.133143         1.819736             8.858073   \nstd                4.047283         2.844666             4.614427   \nmin                0.019500         0.000000             0.000000   \n25%                2.760700         1.010000             6.700000   \n50%                3.071600         1.520000             8.700000   \n75%                3.643700         2.300000            10.000000   \nmax              323.961000       323.960000           324.000000   \n\n       mop_wave_dir_avg  mop_wave_spread_avg  mop_curr_dir_avg  \\\ncount     189553.000000        189553.000000     206004.000000   \nmean         206.275525            35.797838        200.373964   \nstd           59.139331             7.762366         91.663615   \nmin            0.000000             0.000000          0.000000   \n25%          186.000000            32.000000        130.450000   \n50%          220.400000            35.000000        220.790000   \n75%          242.000000            38.000000        269.040000   \nmax          360.000000           324.000000        360.000000   \n\n       mop_curr_spd_avg  \ncount     206004.000000  \nmean         389.220678  \nstd         1029.472700  \nmin            0.000000  \n25%          123.430000  \n50%          205.910000  \n75%          329.230000  \nmax        24201.300000  \n\n[8 rows x 22 columns]",
      "text/html": "<div>\n<style scoped>\n    .dataframe tbody tr th:only-of-type {\n        vertical-align: middle;\n    }\n\n    .dataframe tbody tr th {\n        vertical-align: top;\n    }\n\n    .dataframe thead th {\n        text-align: right;\n    }\n</style>\n<table border=\"1\" class=\"dataframe\">\n  <thead>\n    <tr style=\"text-align: right;\">\n      <th></th>\n      <th>mop_longitude</th>\n      <th>mop_latitude</th>\n      <th>mop_wind_spd_avg</th>\n      <th>mop_wind_spd_max</th>\n      <th>mop_wind_dir_avg</th>\n      <th>mop_wind_spd2_avg</th>\n      <th>mop_wind_spd2_max</th>\n      <th>mop_wind_dir2_avg</th>\n      <th>mop_air_temp_avg</th>\n      <th>mop_air_pressure_avg</th>\n      <th>...</th>\n      <th>mop_surface_temp_avg</th>\n      <th>mop_wave_ht_max</th>\n      <th>mop_surface_salinity_avg</th>\n      <th>mop_surface_cond_avg</th>\n      <th>mop_wave_ht_sig</th>\n      <th>mop_wave_period_max</th>\n      <th>mop_wave_dir_avg</th>\n      <th>mop_wave_spread_avg</th>\n      <th>mop_curr_dir_avg</th>\n      <th>mop_curr_spd_avg</th>\n    </tr>\n  </thead>\n  <tbody>\n    <tr>\n      <th>count</th>\n      <td>191505.000000</td>\n      <td>191506.000000</td>\n      <td>199453.000000</td>\n      <td>199453.000000</td>\n      <td>199453.000000</td>\n      <td>112206.000000</td>\n      <td>112206.000000</td>\n      <td>0.0</td>\n      <td>206797.000000</td>\n      <td>206790.000000</td>\n      <td>...</td>\n      <td>206551.000000</td>\n      <td>189553.000000</td>\n      <td>94387.000000</td>\n      <td>94387.000000</td>\n      <td>189553.000000</td>\n      <td>189553.000000</td>\n      <td>189553.000000</td>\n      <td>189553.000000</td>\n      <td>206004.000000</td>\n      <td>206004.000000</td>\n    </tr>\n    <tr>\n      <th>mean</th>\n      <td>-54.672044</td>\n      <td>46.983504</td>\n      <td>7.340953</td>\n      <td>9.137004</td>\n      <td>204.893855</td>\n      <td>2.686919</td>\n      <td>3.449813</td>\n      <td>NaN</td>\n      <td>5.695603</td>\n      <td>1012.732452</td>\n      <td>...</td>\n      <td>6.666599</td>\n      <td>2.909005</td>\n      <td>29.825633</td>\n      <td>3.133143</td>\n      <td>1.819736</td>\n      <td>8.858073</td>\n      <td>206.275525</td>\n      <td>35.797838</td>\n      <td>200.373964</td>\n      <td>389.220678</td>\n    </tr>\n    <tr>\n      <th>std</th>\n      <td>0.197680</td>\n      <td>0.270764</td>\n      <td>5.708263</td>\n      <td>5.271594</td>\n      <td>100.138128</td>\n      <td>4.382657</td>\n      <td>5.561935</td>\n      <td>NaN</td>\n      <td>6.821716</td>\n      <td>11.011730</td>\n      <td>...</td>\n      <td>6.278751</td>\n      <td>3.169324</td>\n      <td>7.705846</td>\n      <td>4.047283</td>\n      <td>2.844666</td>\n      <td>4.614427</td>\n      <td>59.139331</td>\n      <td>7.762366</td>\n      <td>91.663615</td>\n      <td>1029.472700</td>\n    </tr>\n    <tr>\n      <th>min</th>\n      <td>-58.735750</td>\n      <td>-66.078312</td>\n      <td>0.000000</td>\n      <td>0.000000</td>\n      <td>0.000000</td>\n      <td>0.000000</td>\n      <td>0.000000</td>\n      <td>NaN</td>\n      <td>-21.900000</td>\n      <td>951.610000</td>\n      <td>...</td>\n      <td>-5.910000</td>\n      <td>0.000000</td>\n      <td>0.000000</td>\n      <td>0.019500</td>\n      <td>0.000000</td>\n      <td>0.000000</td>\n      <td>0.000000</td>\n      <td>0.000000</td>\n      <td>0.000000</td>\n      <td>0.000000</td>\n    </tr>\n    <tr>\n      <th>25%</th>\n      <td>-54.696997</td>\n      <td>46.975562</td>\n      <td>4.500000</td>\n      <td>5.600000</td>\n      <td>126.000000</td>\n      <td>0.000000</td>\n      <td>0.000000</td>\n      <td>NaN</td>\n      <td>0.500000</td>\n      <td>1006.372500</td>\n      <td>...</td>\n      <td>1.280000</td>\n      <td>1.640000</td>\n      <td>31.234000</td>\n      <td>2.760700</td>\n      <td>1.010000</td>\n      <td>6.700000</td>\n      <td>186.000000</td>\n      <td>32.000000</td>\n      <td>130.450000</td>\n      <td>123.430000</td>\n    </tr>\n    <tr>\n      <th>50%</th>\n      <td>-54.687098</td>\n      <td>46.980667</td>\n      <td>7.100000</td>\n      <td>8.700000</td>\n      <td>231.000000</td>\n      <td>0.000000</td>\n      <td>0.000000</td>\n      <td>NaN</td>\n      <td>5.000000</td>\n      <td>1013.980000</td>\n      <td>...</td>\n      <td>5.560000</td>\n      <td>2.450000</td>\n      <td>31.577000</td>\n      <td>3.071600</td>\n      <td>1.520000</td>\n      <td>8.700000</td>\n      <td>220.400000</td>\n      <td>35.000000</td>\n      <td>220.790000</td>\n      <td>205.910000</td>\n    </tr>\n    <tr>\n      <th>75%</th>\n      <td>-54.685508</td>\n      <td>46.982390</td>\n      <td>9.900000</td>\n      <td>12.200000</td>\n      <td>286.000000</td>\n      <td>5.200000</td>\n      <td>6.600000</td>\n      <td>NaN</td>\n      <td>11.500000</td>\n      <td>1020.340000</td>\n      <td>...</td>\n      <td>11.570000</td>\n      <td>3.690000</td>\n      <td>31.822000</td>\n      <td>3.643700</td>\n      <td>2.300000</td>\n      <td>10.000000</td>\n      <td>242.000000</td>\n      <td>38.000000</td>\n      <td>269.040000</td>\n      <td>329.230000</td>\n    </tr>\n    <tr>\n      <th>max</th>\n      <td>-21.419885</td>\n      <td>51.058293</td>\n      <td>460.700000</td>\n      <td>309.400000</td>\n      <td>360.000000</td>\n      <td>34.900000</td>\n      <td>138.300000</td>\n      <td>NaN</td>\n      <td>32.600000</td>\n      <td>1049.970000</td>\n      <td>...</td>\n      <td>323.960000</td>\n      <td>323.960000</td>\n      <td>323.961000</td>\n      <td>323.961000</td>\n      <td>323.960000</td>\n      <td>324.000000</td>\n      <td>360.000000</td>\n      <td>324.000000</td>\n      <td>360.000000</td>\n      <td>24201.300000</td>\n    </tr>\n  </tbody>\n</table>\n<p>8 rows × 22 columns</p>\n</div>"
     },
     "execution_count": 4,
     "metadata": {},
     "output_type": "execute_result"
    }
   ],
   "source": [
    "mp.describe()\n",
    "\n"
   ],
   "metadata": {
    "collapsed": false,
    "pycharm": {
     "name": "#%%\n"
    }
   }
  },
  {
   "cell_type": "code",
   "execution_count": 5,
   "outputs": [
    {
     "name": "stdout",
     "output_type": "stream",
     "text": [
      "object\n",
      "datetime64[ns, UTC]\n"
     ]
    }
   ],
   "source": [
    "# convert data type of mop_time field to datetime and rename the column DATE & TIME\n",
    "print(mp['mop_time'].dtypes)\n",
    "mp['mop_time'] = pd.to_datetime(mp['mop_time'])\n",
    "print(mp['mop_time'].dtypes)\n",
    "mp = mp.rename(columns={'mop_time': 'DATE & TIME'})\n"
   ],
   "metadata": {
    "collapsed": false,
    "pycharm": {
     "name": "#%%\n"
    }
   }
  },
  {
   "cell_type": "code",
   "execution_count": 6,
   "outputs": [
    {
     "data": {
      "text/plain": "         mop_station_name               DATE & TIME  mop_longitude  \\\n0  smb_mouth_of_placentia 2006-08-18 17:16:59+00:00     -54.681723   \n1  smb_mouth_of_placentia 2006-08-18 17:36:58+00:00     -54.683605   \n2  smb_mouth_of_placentia 2006-08-18 17:56:58+00:00     -54.684595   \n3  smb_mouth_of_placentia 2006-08-18 18:16:58+00:00     -54.685037   \n4  smb_mouth_of_placentia 2006-08-18 18:36:58+00:00     -54.685227   \n\n   mop_latitude  mop_wind_spd_avg  mop_wind_spd_max  mop_wind_dir_avg  \\\n0     46.981275               2.2               3.6              51.0   \n1     46.981580               2.2               2.5              68.0   \n2     46.981720               2.2               2.5              75.0   \n3     46.981892               1.9               2.3              67.0   \n4     46.981993               1.5               2.1              55.0   \n\n   mop_wind_spd2_avg  mop_wind_spd2_max  mop_wind_dir2_avg  ...  \\\n0                NaN                NaN                NaN  ...   \n1                NaN                NaN                NaN  ...   \n2                NaN                NaN                NaN  ...   \n3                NaN                NaN                NaN  ...   \n4                NaN                NaN                NaN  ...   \n\n   mop_surface_temp_avg  mop_wave_ht_max  mop_surface_salinity_avg  \\\n0                 16.57             1.08                     2.505   \n1                 16.44             1.22                     3.509   \n2                 16.66             1.09                     4.227   \n3                 16.80             1.24                     2.831   \n4                 17.24             1.16                     2.539   \n\n   mop_surface_cond_avg  mop_wave_ht_sig  mop_wave_period_max  \\\n0                0.3605             0.73                  8.7   \n1                0.5109             0.75                  8.7   \n2                0.6108             0.75                  8.7   \n3                0.4181             0.78                  8.0   \n4                0.3822             0.72                  6.9   \n\n   mop_wave_dir_avg  mop_wave_spread_avg  mop_curr_dir_avg  mop_curr_spd_avg  \n0             199.8                 46.4            128.63           1713.58  \n1             211.1                 44.7            357.47           1259.46  \n2             215.0                 45.2             46.04            997.95  \n3             217.0                 46.3              7.22           1239.27  \n4             221.6                 42.1             13.57           1452.59  \n\n[5 rows x 24 columns]",
      "text/html": "<div>\n<style scoped>\n    .dataframe tbody tr th:only-of-type {\n        vertical-align: middle;\n    }\n\n    .dataframe tbody tr th {\n        vertical-align: top;\n    }\n\n    .dataframe thead th {\n        text-align: right;\n    }\n</style>\n<table border=\"1\" class=\"dataframe\">\n  <thead>\n    <tr style=\"text-align: right;\">\n      <th></th>\n      <th>mop_station_name</th>\n      <th>DATE &amp; TIME</th>\n      <th>mop_longitude</th>\n      <th>mop_latitude</th>\n      <th>mop_wind_spd_avg</th>\n      <th>mop_wind_spd_max</th>\n      <th>mop_wind_dir_avg</th>\n      <th>mop_wind_spd2_avg</th>\n      <th>mop_wind_spd2_max</th>\n      <th>mop_wind_dir2_avg</th>\n      <th>...</th>\n      <th>mop_surface_temp_avg</th>\n      <th>mop_wave_ht_max</th>\n      <th>mop_surface_salinity_avg</th>\n      <th>mop_surface_cond_avg</th>\n      <th>mop_wave_ht_sig</th>\n      <th>mop_wave_period_max</th>\n      <th>mop_wave_dir_avg</th>\n      <th>mop_wave_spread_avg</th>\n      <th>mop_curr_dir_avg</th>\n      <th>mop_curr_spd_avg</th>\n    </tr>\n  </thead>\n  <tbody>\n    <tr>\n      <th>0</th>\n      <td>smb_mouth_of_placentia</td>\n      <td>2006-08-18 17:16:59+00:00</td>\n      <td>-54.681723</td>\n      <td>46.981275</td>\n      <td>2.2</td>\n      <td>3.6</td>\n      <td>51.0</td>\n      <td>NaN</td>\n      <td>NaN</td>\n      <td>NaN</td>\n      <td>...</td>\n      <td>16.57</td>\n      <td>1.08</td>\n      <td>2.505</td>\n      <td>0.3605</td>\n      <td>0.73</td>\n      <td>8.7</td>\n      <td>199.8</td>\n      <td>46.4</td>\n      <td>128.63</td>\n      <td>1713.58</td>\n    </tr>\n    <tr>\n      <th>1</th>\n      <td>smb_mouth_of_placentia</td>\n      <td>2006-08-18 17:36:58+00:00</td>\n      <td>-54.683605</td>\n      <td>46.981580</td>\n      <td>2.2</td>\n      <td>2.5</td>\n      <td>68.0</td>\n      <td>NaN</td>\n      <td>NaN</td>\n      <td>NaN</td>\n      <td>...</td>\n      <td>16.44</td>\n      <td>1.22</td>\n      <td>3.509</td>\n      <td>0.5109</td>\n      <td>0.75</td>\n      <td>8.7</td>\n      <td>211.1</td>\n      <td>44.7</td>\n      <td>357.47</td>\n      <td>1259.46</td>\n    </tr>\n    <tr>\n      <th>2</th>\n      <td>smb_mouth_of_placentia</td>\n      <td>2006-08-18 17:56:58+00:00</td>\n      <td>-54.684595</td>\n      <td>46.981720</td>\n      <td>2.2</td>\n      <td>2.5</td>\n      <td>75.0</td>\n      <td>NaN</td>\n      <td>NaN</td>\n      <td>NaN</td>\n      <td>...</td>\n      <td>16.66</td>\n      <td>1.09</td>\n      <td>4.227</td>\n      <td>0.6108</td>\n      <td>0.75</td>\n      <td>8.7</td>\n      <td>215.0</td>\n      <td>45.2</td>\n      <td>46.04</td>\n      <td>997.95</td>\n    </tr>\n    <tr>\n      <th>3</th>\n      <td>smb_mouth_of_placentia</td>\n      <td>2006-08-18 18:16:58+00:00</td>\n      <td>-54.685037</td>\n      <td>46.981892</td>\n      <td>1.9</td>\n      <td>2.3</td>\n      <td>67.0</td>\n      <td>NaN</td>\n      <td>NaN</td>\n      <td>NaN</td>\n      <td>...</td>\n      <td>16.80</td>\n      <td>1.24</td>\n      <td>2.831</td>\n      <td>0.4181</td>\n      <td>0.78</td>\n      <td>8.0</td>\n      <td>217.0</td>\n      <td>46.3</td>\n      <td>7.22</td>\n      <td>1239.27</td>\n    </tr>\n    <tr>\n      <th>4</th>\n      <td>smb_mouth_of_placentia</td>\n      <td>2006-08-18 18:36:58+00:00</td>\n      <td>-54.685227</td>\n      <td>46.981993</td>\n      <td>1.5</td>\n      <td>2.1</td>\n      <td>55.0</td>\n      <td>NaN</td>\n      <td>NaN</td>\n      <td>NaN</td>\n      <td>...</td>\n      <td>17.24</td>\n      <td>1.16</td>\n      <td>2.539</td>\n      <td>0.3822</td>\n      <td>0.72</td>\n      <td>6.9</td>\n      <td>221.6</td>\n      <td>42.1</td>\n      <td>13.57</td>\n      <td>1452.59</td>\n    </tr>\n  </tbody>\n</table>\n<p>5 rows × 24 columns</p>\n</div>"
     },
     "execution_count": 6,
     "metadata": {},
     "output_type": "execute_result"
    }
   ],
   "source": [
    "mp.head()\n",
    "\n"
   ],
   "metadata": {
    "collapsed": false,
    "pycharm": {
     "name": "#%%\n"
    }
   }
  },
  {
   "cell_type": "code",
   "execution_count": 7,
   "outputs": [
    {
     "name": "stdout",
     "output_type": "stream",
     "text": [
      "object\n"
     ]
    }
   ],
   "source": [
    "# extract DATE from DATE & TIME\n",
    "mp['DATE'] = mp['DATE & TIME'].dt.date\n",
    "print(mp['DATE'].dtypes)\n",
    "\n"
   ],
   "metadata": {
    "collapsed": false,
    "pycharm": {
     "name": "#%%\n"
    }
   }
  },
  {
   "cell_type": "code",
   "execution_count": 8,
   "outputs": [
    {
     "data": {
      "text/plain": "         mop_station_name               DATE & TIME        DATE  \\\n0  smb_mouth_of_placentia 2006-08-18 17:16:59+00:00  2006-08-18   \n1  smb_mouth_of_placentia 2006-08-18 17:36:58+00:00  2006-08-18   \n2  smb_mouth_of_placentia 2006-08-18 17:56:58+00:00  2006-08-18   \n3  smb_mouth_of_placentia 2006-08-18 18:16:58+00:00  2006-08-18   \n4  smb_mouth_of_placentia 2006-08-18 18:36:58+00:00  2006-08-18   \n\n   mop_longitude  mop_latitude  mop_wind_spd_avg  mop_wind_spd_max  \\\n0     -54.681723     46.981275               2.2               3.6   \n1     -54.683605     46.981580               2.2               2.5   \n2     -54.684595     46.981720               2.2               2.5   \n3     -54.685037     46.981892               1.9               2.3   \n4     -54.685227     46.981993               1.5               2.1   \n\n   mop_wind_dir_avg  mop_wind_spd2_avg  mop_wind_spd2_max  ...  \\\n0              51.0                NaN                NaN  ...   \n1              68.0                NaN                NaN  ...   \n2              75.0                NaN                NaN  ...   \n3              67.0                NaN                NaN  ...   \n4              55.0                NaN                NaN  ...   \n\n   mop_surface_temp_avg  mop_wave_ht_max  mop_surface_salinity_avg  \\\n0                 16.57             1.08                     2.505   \n1                 16.44             1.22                     3.509   \n2                 16.66             1.09                     4.227   \n3                 16.80             1.24                     2.831   \n4                 17.24             1.16                     2.539   \n\n   mop_surface_cond_avg  mop_wave_ht_sig  mop_wave_period_max  \\\n0                0.3605             0.73                  8.7   \n1                0.5109             0.75                  8.7   \n2                0.6108             0.75                  8.7   \n3                0.4181             0.78                  8.0   \n4                0.3822             0.72                  6.9   \n\n   mop_wave_dir_avg  mop_wave_spread_avg  mop_curr_dir_avg  mop_curr_spd_avg  \n0             199.8                 46.4            128.63           1713.58  \n1             211.1                 44.7            357.47           1259.46  \n2             215.0                 45.2             46.04            997.95  \n3             217.0                 46.3              7.22           1239.27  \n4             221.6                 42.1             13.57           1452.59  \n\n[5 rows x 25 columns]",
      "text/html": "<div>\n<style scoped>\n    .dataframe tbody tr th:only-of-type {\n        vertical-align: middle;\n    }\n\n    .dataframe tbody tr th {\n        vertical-align: top;\n    }\n\n    .dataframe thead th {\n        text-align: right;\n    }\n</style>\n<table border=\"1\" class=\"dataframe\">\n  <thead>\n    <tr style=\"text-align: right;\">\n      <th></th>\n      <th>mop_station_name</th>\n      <th>DATE &amp; TIME</th>\n      <th>DATE</th>\n      <th>mop_longitude</th>\n      <th>mop_latitude</th>\n      <th>mop_wind_spd_avg</th>\n      <th>mop_wind_spd_max</th>\n      <th>mop_wind_dir_avg</th>\n      <th>mop_wind_spd2_avg</th>\n      <th>mop_wind_spd2_max</th>\n      <th>...</th>\n      <th>mop_surface_temp_avg</th>\n      <th>mop_wave_ht_max</th>\n      <th>mop_surface_salinity_avg</th>\n      <th>mop_surface_cond_avg</th>\n      <th>mop_wave_ht_sig</th>\n      <th>mop_wave_period_max</th>\n      <th>mop_wave_dir_avg</th>\n      <th>mop_wave_spread_avg</th>\n      <th>mop_curr_dir_avg</th>\n      <th>mop_curr_spd_avg</th>\n    </tr>\n  </thead>\n  <tbody>\n    <tr>\n      <th>0</th>\n      <td>smb_mouth_of_placentia</td>\n      <td>2006-08-18 17:16:59+00:00</td>\n      <td>2006-08-18</td>\n      <td>-54.681723</td>\n      <td>46.981275</td>\n      <td>2.2</td>\n      <td>3.6</td>\n      <td>51.0</td>\n      <td>NaN</td>\n      <td>NaN</td>\n      <td>...</td>\n      <td>16.57</td>\n      <td>1.08</td>\n      <td>2.505</td>\n      <td>0.3605</td>\n      <td>0.73</td>\n      <td>8.7</td>\n      <td>199.8</td>\n      <td>46.4</td>\n      <td>128.63</td>\n      <td>1713.58</td>\n    </tr>\n    <tr>\n      <th>1</th>\n      <td>smb_mouth_of_placentia</td>\n      <td>2006-08-18 17:36:58+00:00</td>\n      <td>2006-08-18</td>\n      <td>-54.683605</td>\n      <td>46.981580</td>\n      <td>2.2</td>\n      <td>2.5</td>\n      <td>68.0</td>\n      <td>NaN</td>\n      <td>NaN</td>\n      <td>...</td>\n      <td>16.44</td>\n      <td>1.22</td>\n      <td>3.509</td>\n      <td>0.5109</td>\n      <td>0.75</td>\n      <td>8.7</td>\n      <td>211.1</td>\n      <td>44.7</td>\n      <td>357.47</td>\n      <td>1259.46</td>\n    </tr>\n    <tr>\n      <th>2</th>\n      <td>smb_mouth_of_placentia</td>\n      <td>2006-08-18 17:56:58+00:00</td>\n      <td>2006-08-18</td>\n      <td>-54.684595</td>\n      <td>46.981720</td>\n      <td>2.2</td>\n      <td>2.5</td>\n      <td>75.0</td>\n      <td>NaN</td>\n      <td>NaN</td>\n      <td>...</td>\n      <td>16.66</td>\n      <td>1.09</td>\n      <td>4.227</td>\n      <td>0.6108</td>\n      <td>0.75</td>\n      <td>8.7</td>\n      <td>215.0</td>\n      <td>45.2</td>\n      <td>46.04</td>\n      <td>997.95</td>\n    </tr>\n    <tr>\n      <th>3</th>\n      <td>smb_mouth_of_placentia</td>\n      <td>2006-08-18 18:16:58+00:00</td>\n      <td>2006-08-18</td>\n      <td>-54.685037</td>\n      <td>46.981892</td>\n      <td>1.9</td>\n      <td>2.3</td>\n      <td>67.0</td>\n      <td>NaN</td>\n      <td>NaN</td>\n      <td>...</td>\n      <td>16.80</td>\n      <td>1.24</td>\n      <td>2.831</td>\n      <td>0.4181</td>\n      <td>0.78</td>\n      <td>8.0</td>\n      <td>217.0</td>\n      <td>46.3</td>\n      <td>7.22</td>\n      <td>1239.27</td>\n    </tr>\n    <tr>\n      <th>4</th>\n      <td>smb_mouth_of_placentia</td>\n      <td>2006-08-18 18:36:58+00:00</td>\n      <td>2006-08-18</td>\n      <td>-54.685227</td>\n      <td>46.981993</td>\n      <td>1.5</td>\n      <td>2.1</td>\n      <td>55.0</td>\n      <td>NaN</td>\n      <td>NaN</td>\n      <td>...</td>\n      <td>17.24</td>\n      <td>1.16</td>\n      <td>2.539</td>\n      <td>0.3822</td>\n      <td>0.72</td>\n      <td>6.9</td>\n      <td>221.6</td>\n      <td>42.1</td>\n      <td>13.57</td>\n      <td>1452.59</td>\n    </tr>\n  </tbody>\n</table>\n<p>5 rows × 25 columns</p>\n</div>"
     },
     "execution_count": 8,
     "metadata": {},
     "output_type": "execute_result"
    }
   ],
   "source": [
    "# Rearrange the columns\n",
    "cols_mp = mp.columns.tolist()\n",
    "cols_mp = cols_mp[0:2] + cols_mp[-1:] + cols_mp[2:-1]\n",
    "len(cols_mp)\n",
    "mp = mp[cols_mp]\n",
    "mp.head()\n",
    "\n"
   ],
   "metadata": {
    "collapsed": false,
    "pycharm": {
     "name": "#%%\n"
    }
   }
  },
  {
   "cell_type": "code",
   "execution_count": 9,
   "outputs": [
    {
     "name": "stdout",
     "output_type": "stream",
     "text": [
      "datetime64[ns]\n"
     ]
    }
   ],
   "source": [
    "# Convert data type of DATE field to datetime\n",
    "mp['DATE'] = pd.to_datetime(mp['DATE'])\n",
    "print(mp['DATE'].dtypes)\n",
    "\n"
   ],
   "metadata": {
    "collapsed": false,
    "pycharm": {
     "name": "#%%\n"
    }
   }
  },
  {
   "cell_type": "code",
   "execution_count": 10,
   "outputs": [
    {
     "data": {
      "text/plain": "(207216, 25)"
     },
     "execution_count": 10,
     "metadata": {},
     "output_type": "execute_result"
    }
   ],
   "source": [
    "mp.shape\n"
   ],
   "metadata": {
    "collapsed": false,
    "pycharm": {
     "name": "#%%\n"
    }
   }
  },
  {
   "cell_type": "code",
   "execution_count": 11,
   "outputs": [
    {
     "name": "stdout",
     "output_type": "stream",
     "text": [
      "<class 'pandas.core.frame.DataFrame'>\n",
      "RangeIndex: 207216 entries, 0 to 207215\n",
      "Data columns (total 25 columns):\n",
      " #   Column                    Non-Null Count   Dtype              \n",
      "---  ------                    --------------   -----              \n",
      " 0   mop_station_name          207216 non-null  object             \n",
      " 1   DATE & TIME               207216 non-null  datetime64[ns, UTC]\n",
      " 2   DATE                      207216 non-null  datetime64[ns]     \n",
      " 3   mop_longitude             191505 non-null  float64            \n",
      " 4   mop_latitude              191506 non-null  float64            \n",
      " 5   mop_wind_spd_avg          199453 non-null  float64            \n",
      " 6   mop_wind_spd_max          199453 non-null  float64            \n",
      " 7   mop_wind_dir_avg          199453 non-null  float64            \n",
      " 8   mop_wind_spd2_avg         112206 non-null  float64            \n",
      " 9   mop_wind_spd2_max         112206 non-null  float64            \n",
      " 10  mop_wind_dir2_avg         0 non-null       float64            \n",
      " 11  mop_air_temp_avg          206797 non-null  float64            \n",
      " 12  mop_air_pressure_avg      206790 non-null  float64            \n",
      " 13  mop_air_humidity_avg      152831 non-null  float64            \n",
      " 14  mop_air_dewpoint_avg      152831 non-null  float64            \n",
      " 15  mop_surface_temp_avg      206551 non-null  float64            \n",
      " 16  mop_wave_ht_max           189553 non-null  float64            \n",
      " 17  mop_surface_salinity_avg  94387 non-null   float64            \n",
      " 18  mop_surface_cond_avg      94387 non-null   float64            \n",
      " 19  mop_wave_ht_sig           189553 non-null  float64            \n",
      " 20  mop_wave_period_max       189553 non-null  float64            \n",
      " 21  mop_wave_dir_avg          189553 non-null  float64            \n",
      " 22  mop_wave_spread_avg       189553 non-null  float64            \n",
      " 23  mop_curr_dir_avg          206004 non-null  float64            \n",
      " 24  mop_curr_spd_avg          206004 non-null  float64            \n",
      "dtypes: datetime64[ns, UTC](1), datetime64[ns](1), float64(22), object(1)\n",
      "memory usage: 38.7+ MB\n"
     ]
    }
   ],
   "source": [
    "mp.info()\n",
    "\n"
   ],
   "metadata": {
    "collapsed": false,
    "pycharm": {
     "name": "#%%\n"
    }
   }
  },
  {
   "cell_type": "code",
   "execution_count": 12,
   "outputs": [
    {
     "data": {
      "text/plain": "         mop_station_name               DATE & TIME       DATE  mop_longitude  \\\n0  smb_mouth_of_placentia 2006-08-18 17:16:59+00:00 2006-08-18     -54.681723   \n1  smb_mouth_of_placentia 2006-08-18 17:36:58+00:00 2006-08-18     -54.683605   \n2  smb_mouth_of_placentia 2006-08-18 17:56:58+00:00 2006-08-18     -54.684595   \n3  smb_mouth_of_placentia 2006-08-18 18:16:58+00:00 2006-08-18     -54.685037   \n4  smb_mouth_of_placentia 2006-08-18 18:36:58+00:00 2006-08-18     -54.685227   \n\n   mop_latitude  mop_wind_spd_avg  mop_wind_spd_max  mop_wind_dir_avg  \\\n0     46.981275               2.2               3.6              51.0   \n1     46.981580               2.2               2.5              68.0   \n2     46.981720               2.2               2.5              75.0   \n3     46.981892               1.9               2.3              67.0   \n4     46.981993               1.5               2.1              55.0   \n\n   mop_air_temp_avg  mop_air_pressure_avg  mop_air_humidity_avg  \\\n0              17.7               1020.04                  85.5   \n1              17.1               1019.85                  89.1   \n2              17.1               1019.76                  88.9   \n3              17.2               1019.64                  88.7   \n4              17.3               1019.64                  88.0   \n\n   mop_air_dewpoint_avg  mop_surface_temp_avg  mop_wave_ht_max  \\\n0                  15.6                 16.57             1.08   \n1                  15.5                 16.44             1.22   \n2                  15.5                 16.66             1.09   \n3                  15.6                 16.80             1.24   \n4                  15.6                 17.24             1.16   \n\n   mop_wave_ht_sig  mop_wave_period_max  mop_wave_dir_avg  \\\n0             0.73                  8.7             199.8   \n1             0.75                  8.7             211.1   \n2             0.75                  8.7             215.0   \n3             0.78                  8.0             217.0   \n4             0.72                  6.9             221.6   \n\n   mop_wave_spread_avg  mop_curr_dir_avg  mop_curr_spd_avg  \n0                 46.4            128.63           1713.58  \n1                 44.7            357.47           1259.46  \n2                 45.2             46.04            997.95  \n3                 46.3              7.22           1239.27  \n4                 42.1             13.57           1452.59  ",
      "text/html": "<div>\n<style scoped>\n    .dataframe tbody tr th:only-of-type {\n        vertical-align: middle;\n    }\n\n    .dataframe tbody tr th {\n        vertical-align: top;\n    }\n\n    .dataframe thead th {\n        text-align: right;\n    }\n</style>\n<table border=\"1\" class=\"dataframe\">\n  <thead>\n    <tr style=\"text-align: right;\">\n      <th></th>\n      <th>mop_station_name</th>\n      <th>DATE &amp; TIME</th>\n      <th>DATE</th>\n      <th>mop_longitude</th>\n      <th>mop_latitude</th>\n      <th>mop_wind_spd_avg</th>\n      <th>mop_wind_spd_max</th>\n      <th>mop_wind_dir_avg</th>\n      <th>mop_air_temp_avg</th>\n      <th>mop_air_pressure_avg</th>\n      <th>mop_air_humidity_avg</th>\n      <th>mop_air_dewpoint_avg</th>\n      <th>mop_surface_temp_avg</th>\n      <th>mop_wave_ht_max</th>\n      <th>mop_wave_ht_sig</th>\n      <th>mop_wave_period_max</th>\n      <th>mop_wave_dir_avg</th>\n      <th>mop_wave_spread_avg</th>\n      <th>mop_curr_dir_avg</th>\n      <th>mop_curr_spd_avg</th>\n    </tr>\n  </thead>\n  <tbody>\n    <tr>\n      <th>0</th>\n      <td>smb_mouth_of_placentia</td>\n      <td>2006-08-18 17:16:59+00:00</td>\n      <td>2006-08-18</td>\n      <td>-54.681723</td>\n      <td>46.981275</td>\n      <td>2.2</td>\n      <td>3.6</td>\n      <td>51.0</td>\n      <td>17.7</td>\n      <td>1020.04</td>\n      <td>85.5</td>\n      <td>15.6</td>\n      <td>16.57</td>\n      <td>1.08</td>\n      <td>0.73</td>\n      <td>8.7</td>\n      <td>199.8</td>\n      <td>46.4</td>\n      <td>128.63</td>\n      <td>1713.58</td>\n    </tr>\n    <tr>\n      <th>1</th>\n      <td>smb_mouth_of_placentia</td>\n      <td>2006-08-18 17:36:58+00:00</td>\n      <td>2006-08-18</td>\n      <td>-54.683605</td>\n      <td>46.981580</td>\n      <td>2.2</td>\n      <td>2.5</td>\n      <td>68.0</td>\n      <td>17.1</td>\n      <td>1019.85</td>\n      <td>89.1</td>\n      <td>15.5</td>\n      <td>16.44</td>\n      <td>1.22</td>\n      <td>0.75</td>\n      <td>8.7</td>\n      <td>211.1</td>\n      <td>44.7</td>\n      <td>357.47</td>\n      <td>1259.46</td>\n    </tr>\n    <tr>\n      <th>2</th>\n      <td>smb_mouth_of_placentia</td>\n      <td>2006-08-18 17:56:58+00:00</td>\n      <td>2006-08-18</td>\n      <td>-54.684595</td>\n      <td>46.981720</td>\n      <td>2.2</td>\n      <td>2.5</td>\n      <td>75.0</td>\n      <td>17.1</td>\n      <td>1019.76</td>\n      <td>88.9</td>\n      <td>15.5</td>\n      <td>16.66</td>\n      <td>1.09</td>\n      <td>0.75</td>\n      <td>8.7</td>\n      <td>215.0</td>\n      <td>45.2</td>\n      <td>46.04</td>\n      <td>997.95</td>\n    </tr>\n    <tr>\n      <th>3</th>\n      <td>smb_mouth_of_placentia</td>\n      <td>2006-08-18 18:16:58+00:00</td>\n      <td>2006-08-18</td>\n      <td>-54.685037</td>\n      <td>46.981892</td>\n      <td>1.9</td>\n      <td>2.3</td>\n      <td>67.0</td>\n      <td>17.2</td>\n      <td>1019.64</td>\n      <td>88.7</td>\n      <td>15.6</td>\n      <td>16.80</td>\n      <td>1.24</td>\n      <td>0.78</td>\n      <td>8.0</td>\n      <td>217.0</td>\n      <td>46.3</td>\n      <td>7.22</td>\n      <td>1239.27</td>\n    </tr>\n    <tr>\n      <th>4</th>\n      <td>smb_mouth_of_placentia</td>\n      <td>2006-08-18 18:36:58+00:00</td>\n      <td>2006-08-18</td>\n      <td>-54.685227</td>\n      <td>46.981993</td>\n      <td>1.5</td>\n      <td>2.1</td>\n      <td>55.0</td>\n      <td>17.3</td>\n      <td>1019.64</td>\n      <td>88.0</td>\n      <td>15.6</td>\n      <td>17.24</td>\n      <td>1.16</td>\n      <td>0.72</td>\n      <td>6.9</td>\n      <td>221.6</td>\n      <td>42.1</td>\n      <td>13.57</td>\n      <td>1452.59</td>\n    </tr>\n  </tbody>\n</table>\n</div>"
     },
     "execution_count": 12,
     "metadata": {},
     "output_type": "execute_result"
    }
   ],
   "source": [
    "## drop mop_wind_spd2_avg', 'mop_wind_spd2_max', 'mop_wind_dir2_avg','mop_surface_salinity_avg', 'mop_surface_cond_avg' columns as these are having maximun Null values\n",
    "mp = mp.drop(['mop_wind_spd2_avg', 'mop_wind_spd2_max', 'mop_wind_dir2_avg', 'mop_surface_salinity_avg', 'mop_surface_cond_avg'], axis=1)\n",
    "mp.head()\n",
    "\n"
   ],
   "metadata": {
    "collapsed": false,
    "pycharm": {
     "name": "#%%\n"
    }
   }
  },
  {
   "cell_type": "code",
   "execution_count": 13,
   "outputs": [
    {
     "data": {
      "text/plain": "mop_station_name            0\nDATE & TIME                 0\nDATE                        0\nmop_longitude           15711\nmop_latitude            15710\nmop_wind_spd_avg         7763\nmop_wind_spd_max         7763\nmop_wind_dir_avg         7763\nmop_air_temp_avg          419\nmop_air_pressure_avg      426\nmop_air_humidity_avg    54385\nmop_air_dewpoint_avg    54385\nmop_surface_temp_avg      665\nmop_wave_ht_max         17663\nmop_wave_ht_sig         17663\nmop_wave_period_max     17663\nmop_wave_dir_avg        17663\nmop_wave_spread_avg     17663\nmop_curr_dir_avg         1212\nmop_curr_spd_avg         1212\ndtype: int64"
     },
     "execution_count": 13,
     "metadata": {},
     "output_type": "execute_result"
    }
   ],
   "source": [
    "# check for null values\n",
    "mp.isnull().sum()\n",
    "\n"
   ],
   "metadata": {
    "collapsed": false,
    "pycharm": {
     "name": "#%%\n"
    }
   }
  },
  {
   "cell_type": "code",
   "execution_count": 14,
   "outputs": [
    {
     "data": {
      "text/plain": "mop_station_name        0\nDATE & TIME             0\nDATE                    0\nmop_longitude           0\nmop_latitude            0\nmop_wind_spd_avg        0\nmop_wind_spd_max        0\nmop_wind_dir_avg        0\nmop_air_temp_avg        0\nmop_air_pressure_avg    0\nmop_air_humidity_avg    0\nmop_air_dewpoint_avg    0\nmop_surface_temp_avg    0\nmop_wave_ht_max         0\nmop_wave_ht_sig         0\nmop_wave_period_max     0\nmop_wave_dir_avg        0\nmop_wave_spread_avg     0\nmop_curr_dir_avg        0\nmop_curr_spd_avg        0\ndtype: int64"
     },
     "execution_count": 14,
     "metadata": {},
     "output_type": "execute_result"
    }
   ],
   "source": [
    "# drop NULL values\n",
    "# We have dropped the NULL values but you can try to find ways to impute NULL values\n",
    "mp = mp.dropna()\n",
    "mp.isnull().sum()\n",
    "\n"
   ],
   "metadata": {
    "collapsed": false,
    "pycharm": {
     "name": "#%%\n"
    }
   }
  },
  {
   "cell_type": "code",
   "execution_count": 15,
   "outputs": [],
   "source": [
    "# Convert the clean data frame to clean CSV file so that you can use this in other steps\n",
    "mp.to_csv(r\"5.Regression\\Mouth_cleaned.csv\", index=None, header=True)\n",
    "\n"
   ],
   "metadata": {
    "collapsed": false,
    "pycharm": {
     "name": "#%%\n"
    }
   }
  },
  {
   "cell_type": "code",
   "execution_count": 16,
   "outputs": [
    {
     "data": {
      "text/plain": "           station_name                  time  longitude   latitude  \\\n0  smb_red_island_shoal  2010-07-06T19:55:00Z -54.129048  47.323322   \n1  smb_red_island_shoal  2010-07-06T20:25:00Z -54.129188  47.323465   \n2  smb_red_island_shoal  2010-07-06T20:55:00Z -54.129360  47.323600   \n3  smb_red_island_shoal  2010-07-06T21:25:00Z -54.129465  47.323670   \n4  smb_red_island_shoal  2010-07-06T21:55:00Z -54.129450  47.323693   \n\n   wind_spd_avg  wind_spd_max  wind_dir_avg  air_temp_avg  air_pressure_avg  \\\n0           3.7           4.0         248.0           9.4            1018.7   \n1           4.6           5.3         237.0           9.6            1018.4   \n2           5.6           6.5         236.0           9.8            1018.3   \n3           5.9           6.8         239.0           9.6            1018.4   \n4           4.8           5.5         241.0           9.4            1018.5   \n\n   air_humidity_avg  air_dewpoint_avg  surface_temp_avg  wave_ht_max  \\\n0             100.5               9.5               NaN          0.7   \n1             100.5               9.7               NaN          0.8   \n2             100.5               9.9               NaN          1.0   \n3             100.5               9.7               NaN          1.0   \n4             100.5               9.5               NaN          0.9   \n\n   wave_ht_sig  wave_period_max  wave_dir_avg  wave_spread_avg  curr_dir_avg  \\\n0          0.5              8.0         228.0             30.0         167.6   \n1          0.5              8.3         230.0             30.0         156.9   \n2          0.5              8.3         229.0             31.0         136.3   \n3          0.5              8.7         227.0             27.0         123.4   \n4          0.5              8.0         227.0             29.0         119.4   \n\n   curr_spd_avg  \n0          90.7  \n1          95.3  \n2          80.1  \n3          63.5  \n4          66.2  ",
      "text/html": "<div>\n<style scoped>\n    .dataframe tbody tr th:only-of-type {\n        vertical-align: middle;\n    }\n\n    .dataframe tbody tr th {\n        vertical-align: top;\n    }\n\n    .dataframe thead th {\n        text-align: right;\n    }\n</style>\n<table border=\"1\" class=\"dataframe\">\n  <thead>\n    <tr style=\"text-align: right;\">\n      <th></th>\n      <th>station_name</th>\n      <th>time</th>\n      <th>longitude</th>\n      <th>latitude</th>\n      <th>wind_spd_avg</th>\n      <th>wind_spd_max</th>\n      <th>wind_dir_avg</th>\n      <th>air_temp_avg</th>\n      <th>air_pressure_avg</th>\n      <th>air_humidity_avg</th>\n      <th>air_dewpoint_avg</th>\n      <th>surface_temp_avg</th>\n      <th>wave_ht_max</th>\n      <th>wave_ht_sig</th>\n      <th>wave_period_max</th>\n      <th>wave_dir_avg</th>\n      <th>wave_spread_avg</th>\n      <th>curr_dir_avg</th>\n      <th>curr_spd_avg</th>\n    </tr>\n  </thead>\n  <tbody>\n    <tr>\n      <th>0</th>\n      <td>smb_red_island_shoal</td>\n      <td>2010-07-06T19:55:00Z</td>\n      <td>-54.129048</td>\n      <td>47.323322</td>\n      <td>3.7</td>\n      <td>4.0</td>\n      <td>248.0</td>\n      <td>9.4</td>\n      <td>1018.7</td>\n      <td>100.5</td>\n      <td>9.5</td>\n      <td>NaN</td>\n      <td>0.7</td>\n      <td>0.5</td>\n      <td>8.0</td>\n      <td>228.0</td>\n      <td>30.0</td>\n      <td>167.6</td>\n      <td>90.7</td>\n    </tr>\n    <tr>\n      <th>1</th>\n      <td>smb_red_island_shoal</td>\n      <td>2010-07-06T20:25:00Z</td>\n      <td>-54.129188</td>\n      <td>47.323465</td>\n      <td>4.6</td>\n      <td>5.3</td>\n      <td>237.0</td>\n      <td>9.6</td>\n      <td>1018.4</td>\n      <td>100.5</td>\n      <td>9.7</td>\n      <td>NaN</td>\n      <td>0.8</td>\n      <td>0.5</td>\n      <td>8.3</td>\n      <td>230.0</td>\n      <td>30.0</td>\n      <td>156.9</td>\n      <td>95.3</td>\n    </tr>\n    <tr>\n      <th>2</th>\n      <td>smb_red_island_shoal</td>\n      <td>2010-07-06T20:55:00Z</td>\n      <td>-54.129360</td>\n      <td>47.323600</td>\n      <td>5.6</td>\n      <td>6.5</td>\n      <td>236.0</td>\n      <td>9.8</td>\n      <td>1018.3</td>\n      <td>100.5</td>\n      <td>9.9</td>\n      <td>NaN</td>\n      <td>1.0</td>\n      <td>0.5</td>\n      <td>8.3</td>\n      <td>229.0</td>\n      <td>31.0</td>\n      <td>136.3</td>\n      <td>80.1</td>\n    </tr>\n    <tr>\n      <th>3</th>\n      <td>smb_red_island_shoal</td>\n      <td>2010-07-06T21:25:00Z</td>\n      <td>-54.129465</td>\n      <td>47.323670</td>\n      <td>5.9</td>\n      <td>6.8</td>\n      <td>239.0</td>\n      <td>9.6</td>\n      <td>1018.4</td>\n      <td>100.5</td>\n      <td>9.7</td>\n      <td>NaN</td>\n      <td>1.0</td>\n      <td>0.5</td>\n      <td>8.7</td>\n      <td>227.0</td>\n      <td>27.0</td>\n      <td>123.4</td>\n      <td>63.5</td>\n    </tr>\n    <tr>\n      <th>4</th>\n      <td>smb_red_island_shoal</td>\n      <td>2010-07-06T21:55:00Z</td>\n      <td>-54.129450</td>\n      <td>47.323693</td>\n      <td>4.8</td>\n      <td>5.5</td>\n      <td>241.0</td>\n      <td>9.4</td>\n      <td>1018.5</td>\n      <td>100.5</td>\n      <td>9.5</td>\n      <td>NaN</td>\n      <td>0.9</td>\n      <td>0.5</td>\n      <td>8.0</td>\n      <td>227.0</td>\n      <td>29.0</td>\n      <td>119.4</td>\n      <td>66.2</td>\n    </tr>\n  </tbody>\n</table>\n</div>"
     },
     "execution_count": 16,
     "metadata": {},
     "output_type": "execute_result"
    }
   ],
   "source": [
    "# CODE FOR CLEANING REDSHOAL DATASET\n",
    "rs = pd.read_csv(r\"5.Regression\\SMA_red_island_shoal_7d55_4940_7f91.csv\", skiprows=[1])\n",
    "rs.head()\n",
    "\n"
   ],
   "metadata": {
    "collapsed": false,
    "pycharm": {
     "name": "#%%\n"
    }
   }
  },
  {
   "cell_type": "code",
   "execution_count": 17,
   "outputs": [
    {
     "name": "stdout",
     "output_type": "stream",
     "text": [
      "List of column names:  ['station_name', 'time', 'longitude', 'latitude', 'wind_spd_avg', 'wind_spd_max', 'wind_dir_avg', 'air_temp_avg', 'air_pressure_avg', 'air_humidity_avg', 'air_dewpoint_avg', 'surface_temp_avg', 'wave_ht_max', 'wave_ht_sig', 'wave_period_max', 'wave_dir_avg', 'wave_spread_avg', 'curr_dir_avg', 'curr_spd_avg']\n"
     ]
    }
   ],
   "source": [
    "list_of_column_names_rs = list(rs.columns)\n",
    "\n",
    "# displaying the list of column names\n",
    "print('List of column names: ', list_of_column_names_rs)\n",
    "\n"
   ],
   "metadata": {
    "collapsed": false,
    "pycharm": {
     "name": "#%%\n"
    }
   }
  },
  {
   "cell_type": "code",
   "execution_count": 18,
   "outputs": [
    {
     "data": {
      "text/plain": "       ros_station_name              ros_time  ros_longitude  ros_latitude  \\\n0  smb_red_island_shoal  2010-07-06T19:55:00Z     -54.129048     47.323322   \n1  smb_red_island_shoal  2010-07-06T20:25:00Z     -54.129188     47.323465   \n2  smb_red_island_shoal  2010-07-06T20:55:00Z     -54.129360     47.323600   \n3  smb_red_island_shoal  2010-07-06T21:25:00Z     -54.129465     47.323670   \n4  smb_red_island_shoal  2010-07-06T21:55:00Z     -54.129450     47.323693   \n\n   ros_wind_spd_avg  ros_wind_spd_max  ros_wind_dir_avg  ros_air_temp_avg  \\\n0               3.7               4.0             248.0               9.4   \n1               4.6               5.3             237.0               9.6   \n2               5.6               6.5             236.0               9.8   \n3               5.9               6.8             239.0               9.6   \n4               4.8               5.5             241.0               9.4   \n\n   ros_air_pressure_avg  ros_air_humidity_avg  ros_air_dewpoint_avg  \\\n0                1018.7                 100.5                   9.5   \n1                1018.4                 100.5                   9.7   \n2                1018.3                 100.5                   9.9   \n3                1018.4                 100.5                   9.7   \n4                1018.5                 100.5                   9.5   \n\n   ros_surface_temp_avg  ros_wave_ht_max  ros_wave_ht_sig  \\\n0                   NaN              0.7              0.5   \n1                   NaN              0.8              0.5   \n2                   NaN              1.0              0.5   \n3                   NaN              1.0              0.5   \n4                   NaN              0.9              0.5   \n\n   ros_wave_period_max  ros_wave_dir_avg  ros_wave_spread_avg  \\\n0                  8.0             228.0                 30.0   \n1                  8.3             230.0                 30.0   \n2                  8.3             229.0                 31.0   \n3                  8.7             227.0                 27.0   \n4                  8.0             227.0                 29.0   \n\n   ros_curr_dir_avg  ros_curr_spd_avg  \n0             167.6              90.7  \n1             156.9              95.3  \n2             136.3              80.1  \n3             123.4              63.5  \n4             119.4              66.2  ",
      "text/html": "<div>\n<style scoped>\n    .dataframe tbody tr th:only-of-type {\n        vertical-align: middle;\n    }\n\n    .dataframe tbody tr th {\n        vertical-align: top;\n    }\n\n    .dataframe thead th {\n        text-align: right;\n    }\n</style>\n<table border=\"1\" class=\"dataframe\">\n  <thead>\n    <tr style=\"text-align: right;\">\n      <th></th>\n      <th>ros_station_name</th>\n      <th>ros_time</th>\n      <th>ros_longitude</th>\n      <th>ros_latitude</th>\n      <th>ros_wind_spd_avg</th>\n      <th>ros_wind_spd_max</th>\n      <th>ros_wind_dir_avg</th>\n      <th>ros_air_temp_avg</th>\n      <th>ros_air_pressure_avg</th>\n      <th>ros_air_humidity_avg</th>\n      <th>ros_air_dewpoint_avg</th>\n      <th>ros_surface_temp_avg</th>\n      <th>ros_wave_ht_max</th>\n      <th>ros_wave_ht_sig</th>\n      <th>ros_wave_period_max</th>\n      <th>ros_wave_dir_avg</th>\n      <th>ros_wave_spread_avg</th>\n      <th>ros_curr_dir_avg</th>\n      <th>ros_curr_spd_avg</th>\n    </tr>\n  </thead>\n  <tbody>\n    <tr>\n      <th>0</th>\n      <td>smb_red_island_shoal</td>\n      <td>2010-07-06T19:55:00Z</td>\n      <td>-54.129048</td>\n      <td>47.323322</td>\n      <td>3.7</td>\n      <td>4.0</td>\n      <td>248.0</td>\n      <td>9.4</td>\n      <td>1018.7</td>\n      <td>100.5</td>\n      <td>9.5</td>\n      <td>NaN</td>\n      <td>0.7</td>\n      <td>0.5</td>\n      <td>8.0</td>\n      <td>228.0</td>\n      <td>30.0</td>\n      <td>167.6</td>\n      <td>90.7</td>\n    </tr>\n    <tr>\n      <th>1</th>\n      <td>smb_red_island_shoal</td>\n      <td>2010-07-06T20:25:00Z</td>\n      <td>-54.129188</td>\n      <td>47.323465</td>\n      <td>4.6</td>\n      <td>5.3</td>\n      <td>237.0</td>\n      <td>9.6</td>\n      <td>1018.4</td>\n      <td>100.5</td>\n      <td>9.7</td>\n      <td>NaN</td>\n      <td>0.8</td>\n      <td>0.5</td>\n      <td>8.3</td>\n      <td>230.0</td>\n      <td>30.0</td>\n      <td>156.9</td>\n      <td>95.3</td>\n    </tr>\n    <tr>\n      <th>2</th>\n      <td>smb_red_island_shoal</td>\n      <td>2010-07-06T20:55:00Z</td>\n      <td>-54.129360</td>\n      <td>47.323600</td>\n      <td>5.6</td>\n      <td>6.5</td>\n      <td>236.0</td>\n      <td>9.8</td>\n      <td>1018.3</td>\n      <td>100.5</td>\n      <td>9.9</td>\n      <td>NaN</td>\n      <td>1.0</td>\n      <td>0.5</td>\n      <td>8.3</td>\n      <td>229.0</td>\n      <td>31.0</td>\n      <td>136.3</td>\n      <td>80.1</td>\n    </tr>\n    <tr>\n      <th>3</th>\n      <td>smb_red_island_shoal</td>\n      <td>2010-07-06T21:25:00Z</td>\n      <td>-54.129465</td>\n      <td>47.323670</td>\n      <td>5.9</td>\n      <td>6.8</td>\n      <td>239.0</td>\n      <td>9.6</td>\n      <td>1018.4</td>\n      <td>100.5</td>\n      <td>9.7</td>\n      <td>NaN</td>\n      <td>1.0</td>\n      <td>0.5</td>\n      <td>8.7</td>\n      <td>227.0</td>\n      <td>27.0</td>\n      <td>123.4</td>\n      <td>63.5</td>\n    </tr>\n    <tr>\n      <th>4</th>\n      <td>smb_red_island_shoal</td>\n      <td>2010-07-06T21:55:00Z</td>\n      <td>-54.129450</td>\n      <td>47.323693</td>\n      <td>4.8</td>\n      <td>5.5</td>\n      <td>241.0</td>\n      <td>9.4</td>\n      <td>1018.5</td>\n      <td>100.5</td>\n      <td>9.5</td>\n      <td>NaN</td>\n      <td>0.9</td>\n      <td>0.5</td>\n      <td>8.0</td>\n      <td>227.0</td>\n      <td>29.0</td>\n      <td>119.4</td>\n      <td>66.2</td>\n    </tr>\n  </tbody>\n</table>\n</div>"
     },
     "execution_count": 18,
     "metadata": {},
     "output_type": "execute_result"
    }
   ],
   "source": [
    "# add prefix to the each column names to avoid any confusion about the features\n",
    "rs = rs.add_prefix('ros_')\n",
    "rs.head()\n",
    "\n"
   ],
   "metadata": {
    "collapsed": false,
    "pycharm": {
     "name": "#%%\n"
    }
   }
  },
  {
   "cell_type": "code",
   "execution_count": 19,
   "outputs": [
    {
     "data": {
      "text/plain": "2556032"
     },
     "execution_count": 19,
     "metadata": {},
     "output_type": "execute_result"
    }
   ],
   "source": [
    "rs.size\n"
   ],
   "metadata": {
    "collapsed": false,
    "pycharm": {
     "name": "#%%\n"
    }
   }
  },
  {
   "cell_type": "code",
   "execution_count": 20,
   "outputs": [
    {
     "data": {
      "text/plain": "(134528, 19)"
     },
     "execution_count": 20,
     "metadata": {},
     "output_type": "execute_result"
    }
   ],
   "source": [
    "rs.shape"
   ],
   "metadata": {
    "collapsed": false,
    "pycharm": {
     "name": "#%%\n"
    }
   }
  },
  {
   "cell_type": "code",
   "execution_count": 21,
   "outputs": [
    {
     "data": {
      "text/plain": "Index(['ros_station_name', 'ros_time', 'ros_longitude', 'ros_latitude',\n       'ros_wind_spd_avg', 'ros_wind_spd_max', 'ros_wind_dir_avg',\n       'ros_air_temp_avg', 'ros_air_pressure_avg', 'ros_air_humidity_avg',\n       'ros_air_dewpoint_avg', 'ros_surface_temp_avg', 'ros_wave_ht_max',\n       'ros_wave_ht_sig', 'ros_wave_period_max', 'ros_wave_dir_avg',\n       'ros_wave_spread_avg', 'ros_curr_dir_avg', 'ros_curr_spd_avg'],\n      dtype='object')"
     },
     "execution_count": 21,
     "metadata": {},
     "output_type": "execute_result"
    }
   ],
   "source": [
    "rs.columns\n",
    "\n"
   ],
   "metadata": {
    "collapsed": false,
    "pycharm": {
     "name": "#%%\n"
    }
   }
  },
  {
   "cell_type": "code",
   "execution_count": 22,
   "outputs": [
    {
     "data": {
      "text/plain": "       ros_longitude   ros_latitude  ros_wind_spd_avg  ros_wind_spd_max  \\\ncount  110020.000000  110022.000000     132776.000000     132776.000000   \nmean      -54.126435      47.321618          6.946516          8.670205   \nstd         0.006444       0.004299          3.788208          4.879399   \nmin       -54.369022      47.244380          0.000000          0.000000   \n25%       -54.129713      47.317862          4.300000          5.400000   \n50%       -54.126740      47.319032          6.600000          8.100000   \n75%       -54.123048      47.326043          9.300000         11.400000   \nmax       -53.915703      47.399983        207.100000        345.400000   \n\n       ros_wind_dir_avg  ros_air_temp_avg  ros_air_pressure_avg  \\\ncount     132276.000000     132792.000000         132792.000000   \nmean         195.269331          6.170341           1013.466731   \nstd           98.120984          6.838574             10.574472   \nmin            0.000000        -15.300000            953.200000   \n25%          103.000000          0.800000           1007.400000   \n50%          223.000000          6.000000           1014.500000   \n75%          268.000000         12.100000           1020.600000   \nmax          360.000000         20.700000           1047.000000   \n\n       ros_air_humidity_avg  ros_air_dewpoint_avg  ros_surface_temp_avg  \\\ncount         106094.000000         106094.000000         113265.000000   \nmean              96.376254              4.553938              7.220957   \nstd               12.962920              7.347295              5.718808   \nmin               39.100000            -18.900000             -5.300000   \n25%               88.500000             -0.700000              1.500000   \n50%              100.000000              4.100000              6.800000   \n75%              108.900000             10.800000             12.000000   \nmax              110.000000             21.600000             20.200000   \n\n       ros_wave_ht_max  ros_wave_ht_sig  ros_wave_period_max  \\\ncount    129745.000000    129745.000000        129745.000000   \nmean          2.098043         1.285274             7.977787   \nstd           1.419660         0.874287             2.794888   \nmin           0.000000         0.000000             0.000000   \n25%           1.100000         0.700000             6.100000   \n50%           1.700000         1.100000             8.300000   \n75%           2.700000         1.600000            10.000000   \nmax          21.900000         9.300000            33.300000   \n\n       ros_wave_dir_avg  ros_wave_spread_avg  ros_curr_dir_avg  \\\ncount     129745.000000        129745.000000     123775.000000   \nmean         221.590266            29.902432        184.805161   \nstd           66.067569             4.341209         81.608999   \nmin            0.000000             0.000000          0.000000   \n25%          230.000000            27.000000        130.500000   \n50%          240.000000            29.000000        185.200000   \n75%          249.000000            32.000000        243.500000   \nmax          360.000000            80.000000        360.000000   \n\n       ros_curr_spd_avg  \ncount     123775.000000  \nmean         177.631505  \nstd          187.546398  \nmin            0.200000  \n25%           91.100000  \n50%          152.500000  \n75%          234.200000  \nmax        40510.900000  ",
      "text/html": "<div>\n<style scoped>\n    .dataframe tbody tr th:only-of-type {\n        vertical-align: middle;\n    }\n\n    .dataframe tbody tr th {\n        vertical-align: top;\n    }\n\n    .dataframe thead th {\n        text-align: right;\n    }\n</style>\n<table border=\"1\" class=\"dataframe\">\n  <thead>\n    <tr style=\"text-align: right;\">\n      <th></th>\n      <th>ros_longitude</th>\n      <th>ros_latitude</th>\n      <th>ros_wind_spd_avg</th>\n      <th>ros_wind_spd_max</th>\n      <th>ros_wind_dir_avg</th>\n      <th>ros_air_temp_avg</th>\n      <th>ros_air_pressure_avg</th>\n      <th>ros_air_humidity_avg</th>\n      <th>ros_air_dewpoint_avg</th>\n      <th>ros_surface_temp_avg</th>\n      <th>ros_wave_ht_max</th>\n      <th>ros_wave_ht_sig</th>\n      <th>ros_wave_period_max</th>\n      <th>ros_wave_dir_avg</th>\n      <th>ros_wave_spread_avg</th>\n      <th>ros_curr_dir_avg</th>\n      <th>ros_curr_spd_avg</th>\n    </tr>\n  </thead>\n  <tbody>\n    <tr>\n      <th>count</th>\n      <td>110020.000000</td>\n      <td>110022.000000</td>\n      <td>132776.000000</td>\n      <td>132776.000000</td>\n      <td>132276.000000</td>\n      <td>132792.000000</td>\n      <td>132792.000000</td>\n      <td>106094.000000</td>\n      <td>106094.000000</td>\n      <td>113265.000000</td>\n      <td>129745.000000</td>\n      <td>129745.000000</td>\n      <td>129745.000000</td>\n      <td>129745.000000</td>\n      <td>129745.000000</td>\n      <td>123775.000000</td>\n      <td>123775.000000</td>\n    </tr>\n    <tr>\n      <th>mean</th>\n      <td>-54.126435</td>\n      <td>47.321618</td>\n      <td>6.946516</td>\n      <td>8.670205</td>\n      <td>195.269331</td>\n      <td>6.170341</td>\n      <td>1013.466731</td>\n      <td>96.376254</td>\n      <td>4.553938</td>\n      <td>7.220957</td>\n      <td>2.098043</td>\n      <td>1.285274</td>\n      <td>7.977787</td>\n      <td>221.590266</td>\n      <td>29.902432</td>\n      <td>184.805161</td>\n      <td>177.631505</td>\n    </tr>\n    <tr>\n      <th>std</th>\n      <td>0.006444</td>\n      <td>0.004299</td>\n      <td>3.788208</td>\n      <td>4.879399</td>\n      <td>98.120984</td>\n      <td>6.838574</td>\n      <td>10.574472</td>\n      <td>12.962920</td>\n      <td>7.347295</td>\n      <td>5.718808</td>\n      <td>1.419660</td>\n      <td>0.874287</td>\n      <td>2.794888</td>\n      <td>66.067569</td>\n      <td>4.341209</td>\n      <td>81.608999</td>\n      <td>187.546398</td>\n    </tr>\n    <tr>\n      <th>min</th>\n      <td>-54.369022</td>\n      <td>47.244380</td>\n      <td>0.000000</td>\n      <td>0.000000</td>\n      <td>0.000000</td>\n      <td>-15.300000</td>\n      <td>953.200000</td>\n      <td>39.100000</td>\n      <td>-18.900000</td>\n      <td>-5.300000</td>\n      <td>0.000000</td>\n      <td>0.000000</td>\n      <td>0.000000</td>\n      <td>0.000000</td>\n      <td>0.000000</td>\n      <td>0.000000</td>\n      <td>0.200000</td>\n    </tr>\n    <tr>\n      <th>25%</th>\n      <td>-54.129713</td>\n      <td>47.317862</td>\n      <td>4.300000</td>\n      <td>5.400000</td>\n      <td>103.000000</td>\n      <td>0.800000</td>\n      <td>1007.400000</td>\n      <td>88.500000</td>\n      <td>-0.700000</td>\n      <td>1.500000</td>\n      <td>1.100000</td>\n      <td>0.700000</td>\n      <td>6.100000</td>\n      <td>230.000000</td>\n      <td>27.000000</td>\n      <td>130.500000</td>\n      <td>91.100000</td>\n    </tr>\n    <tr>\n      <th>50%</th>\n      <td>-54.126740</td>\n      <td>47.319032</td>\n      <td>6.600000</td>\n      <td>8.100000</td>\n      <td>223.000000</td>\n      <td>6.000000</td>\n      <td>1014.500000</td>\n      <td>100.000000</td>\n      <td>4.100000</td>\n      <td>6.800000</td>\n      <td>1.700000</td>\n      <td>1.100000</td>\n      <td>8.300000</td>\n      <td>240.000000</td>\n      <td>29.000000</td>\n      <td>185.200000</td>\n      <td>152.500000</td>\n    </tr>\n    <tr>\n      <th>75%</th>\n      <td>-54.123048</td>\n      <td>47.326043</td>\n      <td>9.300000</td>\n      <td>11.400000</td>\n      <td>268.000000</td>\n      <td>12.100000</td>\n      <td>1020.600000</td>\n      <td>108.900000</td>\n      <td>10.800000</td>\n      <td>12.000000</td>\n      <td>2.700000</td>\n      <td>1.600000</td>\n      <td>10.000000</td>\n      <td>249.000000</td>\n      <td>32.000000</td>\n      <td>243.500000</td>\n      <td>234.200000</td>\n    </tr>\n    <tr>\n      <th>max</th>\n      <td>-53.915703</td>\n      <td>47.399983</td>\n      <td>207.100000</td>\n      <td>345.400000</td>\n      <td>360.000000</td>\n      <td>20.700000</td>\n      <td>1047.000000</td>\n      <td>110.000000</td>\n      <td>21.600000</td>\n      <td>20.200000</td>\n      <td>21.900000</td>\n      <td>9.300000</td>\n      <td>33.300000</td>\n      <td>360.000000</td>\n      <td>80.000000</td>\n      <td>360.000000</td>\n      <td>40510.900000</td>\n    </tr>\n  </tbody>\n</table>\n</div>"
     },
     "execution_count": 22,
     "metadata": {},
     "output_type": "execute_result"
    }
   ],
   "source": [
    "rs.describe()\n",
    "\n"
   ],
   "metadata": {
    "collapsed": false,
    "pycharm": {
     "name": "#%%\n"
    }
   }
  },
  {
   "cell_type": "code",
   "execution_count": 23,
   "outputs": [
    {
     "name": "stdout",
     "output_type": "stream",
     "text": [
      "object\n",
      "datetime64[ns, UTC]\n"
     ]
    }
   ],
   "source": [
    "# Convert data type of mop_time field to datetime and rename the column DATE & TIME\n",
    "print(rs['ros_time'].dtypes)\n",
    "rs['ros_time'] = pd.to_datetime(rs['ros_time'])\n",
    "print(rs['ros_time'].dtypes)\n",
    "rs = rs.rename(columns={'ros_time': 'DATE & TIME'})\n",
    "\n"
   ],
   "metadata": {
    "collapsed": false,
    "pycharm": {
     "name": "#%%\n"
    }
   }
  },
  {
   "cell_type": "code",
   "execution_count": 24,
   "outputs": [
    {
     "data": {
      "text/plain": "       ros_station_name               DATE & TIME  ros_longitude  \\\n0  smb_red_island_shoal 2010-07-06 19:55:00+00:00     -54.129048   \n1  smb_red_island_shoal 2010-07-06 20:25:00+00:00     -54.129188   \n2  smb_red_island_shoal 2010-07-06 20:55:00+00:00     -54.129360   \n3  smb_red_island_shoal 2010-07-06 21:25:00+00:00     -54.129465   \n4  smb_red_island_shoal 2010-07-06 21:55:00+00:00     -54.129450   \n\n   ros_latitude  ros_wind_spd_avg  ros_wind_spd_max  ros_wind_dir_avg  \\\n0     47.323322               3.7               4.0             248.0   \n1     47.323465               4.6               5.3             237.0   \n2     47.323600               5.6               6.5             236.0   \n3     47.323670               5.9               6.8             239.0   \n4     47.323693               4.8               5.5             241.0   \n\n   ros_air_temp_avg  ros_air_pressure_avg  ros_air_humidity_avg  \\\n0               9.4                1018.7                 100.5   \n1               9.6                1018.4                 100.5   \n2               9.8                1018.3                 100.5   \n3               9.6                1018.4                 100.5   \n4               9.4                1018.5                 100.5   \n\n   ros_air_dewpoint_avg  ros_surface_temp_avg  ros_wave_ht_max  \\\n0                   9.5                   NaN              0.7   \n1                   9.7                   NaN              0.8   \n2                   9.9                   NaN              1.0   \n3                   9.7                   NaN              1.0   \n4                   9.5                   NaN              0.9   \n\n   ros_wave_ht_sig  ros_wave_period_max  ros_wave_dir_avg  \\\n0              0.5                  8.0             228.0   \n1              0.5                  8.3             230.0   \n2              0.5                  8.3             229.0   \n3              0.5                  8.7             227.0   \n4              0.5                  8.0             227.0   \n\n   ros_wave_spread_avg  ros_curr_dir_avg  ros_curr_spd_avg  \n0                 30.0             167.6              90.7  \n1                 30.0             156.9              95.3  \n2                 31.0             136.3              80.1  \n3                 27.0             123.4              63.5  \n4                 29.0             119.4              66.2  ",
      "text/html": "<div>\n<style scoped>\n    .dataframe tbody tr th:only-of-type {\n        vertical-align: middle;\n    }\n\n    .dataframe tbody tr th {\n        vertical-align: top;\n    }\n\n    .dataframe thead th {\n        text-align: right;\n    }\n</style>\n<table border=\"1\" class=\"dataframe\">\n  <thead>\n    <tr style=\"text-align: right;\">\n      <th></th>\n      <th>ros_station_name</th>\n      <th>DATE &amp; TIME</th>\n      <th>ros_longitude</th>\n      <th>ros_latitude</th>\n      <th>ros_wind_spd_avg</th>\n      <th>ros_wind_spd_max</th>\n      <th>ros_wind_dir_avg</th>\n      <th>ros_air_temp_avg</th>\n      <th>ros_air_pressure_avg</th>\n      <th>ros_air_humidity_avg</th>\n      <th>ros_air_dewpoint_avg</th>\n      <th>ros_surface_temp_avg</th>\n      <th>ros_wave_ht_max</th>\n      <th>ros_wave_ht_sig</th>\n      <th>ros_wave_period_max</th>\n      <th>ros_wave_dir_avg</th>\n      <th>ros_wave_spread_avg</th>\n      <th>ros_curr_dir_avg</th>\n      <th>ros_curr_spd_avg</th>\n    </tr>\n  </thead>\n  <tbody>\n    <tr>\n      <th>0</th>\n      <td>smb_red_island_shoal</td>\n      <td>2010-07-06 19:55:00+00:00</td>\n      <td>-54.129048</td>\n      <td>47.323322</td>\n      <td>3.7</td>\n      <td>4.0</td>\n      <td>248.0</td>\n      <td>9.4</td>\n      <td>1018.7</td>\n      <td>100.5</td>\n      <td>9.5</td>\n      <td>NaN</td>\n      <td>0.7</td>\n      <td>0.5</td>\n      <td>8.0</td>\n      <td>228.0</td>\n      <td>30.0</td>\n      <td>167.6</td>\n      <td>90.7</td>\n    </tr>\n    <tr>\n      <th>1</th>\n      <td>smb_red_island_shoal</td>\n      <td>2010-07-06 20:25:00+00:00</td>\n      <td>-54.129188</td>\n      <td>47.323465</td>\n      <td>4.6</td>\n      <td>5.3</td>\n      <td>237.0</td>\n      <td>9.6</td>\n      <td>1018.4</td>\n      <td>100.5</td>\n      <td>9.7</td>\n      <td>NaN</td>\n      <td>0.8</td>\n      <td>0.5</td>\n      <td>8.3</td>\n      <td>230.0</td>\n      <td>30.0</td>\n      <td>156.9</td>\n      <td>95.3</td>\n    </tr>\n    <tr>\n      <th>2</th>\n      <td>smb_red_island_shoal</td>\n      <td>2010-07-06 20:55:00+00:00</td>\n      <td>-54.129360</td>\n      <td>47.323600</td>\n      <td>5.6</td>\n      <td>6.5</td>\n      <td>236.0</td>\n      <td>9.8</td>\n      <td>1018.3</td>\n      <td>100.5</td>\n      <td>9.9</td>\n      <td>NaN</td>\n      <td>1.0</td>\n      <td>0.5</td>\n      <td>8.3</td>\n      <td>229.0</td>\n      <td>31.0</td>\n      <td>136.3</td>\n      <td>80.1</td>\n    </tr>\n    <tr>\n      <th>3</th>\n      <td>smb_red_island_shoal</td>\n      <td>2010-07-06 21:25:00+00:00</td>\n      <td>-54.129465</td>\n      <td>47.323670</td>\n      <td>5.9</td>\n      <td>6.8</td>\n      <td>239.0</td>\n      <td>9.6</td>\n      <td>1018.4</td>\n      <td>100.5</td>\n      <td>9.7</td>\n      <td>NaN</td>\n      <td>1.0</td>\n      <td>0.5</td>\n      <td>8.7</td>\n      <td>227.0</td>\n      <td>27.0</td>\n      <td>123.4</td>\n      <td>63.5</td>\n    </tr>\n    <tr>\n      <th>4</th>\n      <td>smb_red_island_shoal</td>\n      <td>2010-07-06 21:55:00+00:00</td>\n      <td>-54.129450</td>\n      <td>47.323693</td>\n      <td>4.8</td>\n      <td>5.5</td>\n      <td>241.0</td>\n      <td>9.4</td>\n      <td>1018.5</td>\n      <td>100.5</td>\n      <td>9.5</td>\n      <td>NaN</td>\n      <td>0.9</td>\n      <td>0.5</td>\n      <td>8.0</td>\n      <td>227.0</td>\n      <td>29.0</td>\n      <td>119.4</td>\n      <td>66.2</td>\n    </tr>\n  </tbody>\n</table>\n</div>"
     },
     "execution_count": 24,
     "metadata": {},
     "output_type": "execute_result"
    }
   ],
   "source": [
    "rs.head()\n",
    "\n"
   ],
   "metadata": {
    "collapsed": false,
    "pycharm": {
     "name": "#%%\n"
    }
   }
  },
  {
   "cell_type": "code",
   "execution_count": 25,
   "outputs": [
    {
     "name": "stdout",
     "output_type": "stream",
     "text": [
      "object\n"
     ]
    }
   ],
   "source": [
    "# Extract DATE from DATE & TIME\n",
    "rs['DATE'] = rs['DATE & TIME'].dt.date\n",
    "print(rs['DATE'].dtypes)\n"
   ],
   "metadata": {
    "collapsed": false,
    "pycharm": {
     "name": "#%%\n"
    }
   }
  },
  {
   "cell_type": "code",
   "execution_count": 26,
   "outputs": [
    {
     "data": {
      "text/plain": "       ros_station_name               DATE & TIME        DATE  ros_longitude  \\\n0  smb_red_island_shoal 2010-07-06 19:55:00+00:00  2010-07-06     -54.129048   \n1  smb_red_island_shoal 2010-07-06 20:25:00+00:00  2010-07-06     -54.129188   \n2  smb_red_island_shoal 2010-07-06 20:55:00+00:00  2010-07-06     -54.129360   \n3  smb_red_island_shoal 2010-07-06 21:25:00+00:00  2010-07-06     -54.129465   \n4  smb_red_island_shoal 2010-07-06 21:55:00+00:00  2010-07-06     -54.129450   \n\n   ros_latitude  ros_wind_spd_avg  ros_wind_spd_max  ros_wind_dir_avg  \\\n0     47.323322               3.7               4.0             248.0   \n1     47.323465               4.6               5.3             237.0   \n2     47.323600               5.6               6.5             236.0   \n3     47.323670               5.9               6.8             239.0   \n4     47.323693               4.8               5.5             241.0   \n\n   ros_air_temp_avg  ros_air_pressure_avg  ros_air_humidity_avg  \\\n0               9.4                1018.7                 100.5   \n1               9.6                1018.4                 100.5   \n2               9.8                1018.3                 100.5   \n3               9.6                1018.4                 100.5   \n4               9.4                1018.5                 100.5   \n\n   ros_air_dewpoint_avg  ros_surface_temp_avg  ros_wave_ht_max  \\\n0                   9.5                   NaN              0.7   \n1                   9.7                   NaN              0.8   \n2                   9.9                   NaN              1.0   \n3                   9.7                   NaN              1.0   \n4                   9.5                   NaN              0.9   \n\n   ros_wave_ht_sig  ros_wave_period_max  ros_wave_dir_avg  \\\n0              0.5                  8.0             228.0   \n1              0.5                  8.3             230.0   \n2              0.5                  8.3             229.0   \n3              0.5                  8.7             227.0   \n4              0.5                  8.0             227.0   \n\n   ros_wave_spread_avg  ros_curr_dir_avg  ros_curr_spd_avg  \n0                 30.0             167.6              90.7  \n1                 30.0             156.9              95.3  \n2                 31.0             136.3              80.1  \n3                 27.0             123.4              63.5  \n4                 29.0             119.4              66.2  ",
      "text/html": "<div>\n<style scoped>\n    .dataframe tbody tr th:only-of-type {\n        vertical-align: middle;\n    }\n\n    .dataframe tbody tr th {\n        vertical-align: top;\n    }\n\n    .dataframe thead th {\n        text-align: right;\n    }\n</style>\n<table border=\"1\" class=\"dataframe\">\n  <thead>\n    <tr style=\"text-align: right;\">\n      <th></th>\n      <th>ros_station_name</th>\n      <th>DATE &amp; TIME</th>\n      <th>DATE</th>\n      <th>ros_longitude</th>\n      <th>ros_latitude</th>\n      <th>ros_wind_spd_avg</th>\n      <th>ros_wind_spd_max</th>\n      <th>ros_wind_dir_avg</th>\n      <th>ros_air_temp_avg</th>\n      <th>ros_air_pressure_avg</th>\n      <th>ros_air_humidity_avg</th>\n      <th>ros_air_dewpoint_avg</th>\n      <th>ros_surface_temp_avg</th>\n      <th>ros_wave_ht_max</th>\n      <th>ros_wave_ht_sig</th>\n      <th>ros_wave_period_max</th>\n      <th>ros_wave_dir_avg</th>\n      <th>ros_wave_spread_avg</th>\n      <th>ros_curr_dir_avg</th>\n      <th>ros_curr_spd_avg</th>\n    </tr>\n  </thead>\n  <tbody>\n    <tr>\n      <th>0</th>\n      <td>smb_red_island_shoal</td>\n      <td>2010-07-06 19:55:00+00:00</td>\n      <td>2010-07-06</td>\n      <td>-54.129048</td>\n      <td>47.323322</td>\n      <td>3.7</td>\n      <td>4.0</td>\n      <td>248.0</td>\n      <td>9.4</td>\n      <td>1018.7</td>\n      <td>100.5</td>\n      <td>9.5</td>\n      <td>NaN</td>\n      <td>0.7</td>\n      <td>0.5</td>\n      <td>8.0</td>\n      <td>228.0</td>\n      <td>30.0</td>\n      <td>167.6</td>\n      <td>90.7</td>\n    </tr>\n    <tr>\n      <th>1</th>\n      <td>smb_red_island_shoal</td>\n      <td>2010-07-06 20:25:00+00:00</td>\n      <td>2010-07-06</td>\n      <td>-54.129188</td>\n      <td>47.323465</td>\n      <td>4.6</td>\n      <td>5.3</td>\n      <td>237.0</td>\n      <td>9.6</td>\n      <td>1018.4</td>\n      <td>100.5</td>\n      <td>9.7</td>\n      <td>NaN</td>\n      <td>0.8</td>\n      <td>0.5</td>\n      <td>8.3</td>\n      <td>230.0</td>\n      <td>30.0</td>\n      <td>156.9</td>\n      <td>95.3</td>\n    </tr>\n    <tr>\n      <th>2</th>\n      <td>smb_red_island_shoal</td>\n      <td>2010-07-06 20:55:00+00:00</td>\n      <td>2010-07-06</td>\n      <td>-54.129360</td>\n      <td>47.323600</td>\n      <td>5.6</td>\n      <td>6.5</td>\n      <td>236.0</td>\n      <td>9.8</td>\n      <td>1018.3</td>\n      <td>100.5</td>\n      <td>9.9</td>\n      <td>NaN</td>\n      <td>1.0</td>\n      <td>0.5</td>\n      <td>8.3</td>\n      <td>229.0</td>\n      <td>31.0</td>\n      <td>136.3</td>\n      <td>80.1</td>\n    </tr>\n    <tr>\n      <th>3</th>\n      <td>smb_red_island_shoal</td>\n      <td>2010-07-06 21:25:00+00:00</td>\n      <td>2010-07-06</td>\n      <td>-54.129465</td>\n      <td>47.323670</td>\n      <td>5.9</td>\n      <td>6.8</td>\n      <td>239.0</td>\n      <td>9.6</td>\n      <td>1018.4</td>\n      <td>100.5</td>\n      <td>9.7</td>\n      <td>NaN</td>\n      <td>1.0</td>\n      <td>0.5</td>\n      <td>8.7</td>\n      <td>227.0</td>\n      <td>27.0</td>\n      <td>123.4</td>\n      <td>63.5</td>\n    </tr>\n    <tr>\n      <th>4</th>\n      <td>smb_red_island_shoal</td>\n      <td>2010-07-06 21:55:00+00:00</td>\n      <td>2010-07-06</td>\n      <td>-54.129450</td>\n      <td>47.323693</td>\n      <td>4.8</td>\n      <td>5.5</td>\n      <td>241.0</td>\n      <td>9.4</td>\n      <td>1018.5</td>\n      <td>100.5</td>\n      <td>9.5</td>\n      <td>NaN</td>\n      <td>0.9</td>\n      <td>0.5</td>\n      <td>8.0</td>\n      <td>227.0</td>\n      <td>29.0</td>\n      <td>119.4</td>\n      <td>66.2</td>\n    </tr>\n  </tbody>\n</table>\n</div>"
     },
     "execution_count": 26,
     "metadata": {},
     "output_type": "execute_result"
    }
   ],
   "source": [
    "# Rearrange the columns\n",
    "cols_rs = rs.columns.tolist()\n",
    "cols_rs = cols_rs[0:2] + cols_rs[-1:] + cols_rs[2:-1]\n",
    "len(cols_rs)\n",
    "rs = rs[cols_rs]\n",
    "rs.head()\n"
   ],
   "metadata": {
    "collapsed": false,
    "pycharm": {
     "name": "#%%\n"
    }
   }
  },
  {
   "cell_type": "code",
   "execution_count": 27,
   "outputs": [
    {
     "name": "stdout",
     "output_type": "stream",
     "text": [
      "datetime64[ns]\n"
     ]
    }
   ],
   "source": [
    "# Convert data type of DATE field to datetime\n",
    "rs['DATE'] = pd.to_datetime(rs['DATE'])\n",
    "print(rs['DATE'].dtypes)\n",
    "\n"
   ],
   "metadata": {
    "collapsed": false,
    "pycharm": {
     "name": "#%%\n"
    }
   }
  },
  {
   "cell_type": "code",
   "execution_count": 28,
   "outputs": [
    {
     "data": {
      "text/plain": "(134528, 20)"
     },
     "execution_count": 28,
     "metadata": {},
     "output_type": "execute_result"
    }
   ],
   "source": [
    "rs.shape\n"
   ],
   "metadata": {
    "collapsed": false,
    "pycharm": {
     "name": "#%%\n"
    }
   }
  },
  {
   "cell_type": "code",
   "execution_count": 29,
   "outputs": [
    {
     "data": {
      "text/plain": "       ros_longitude   ros_latitude  ros_wind_spd_avg  ros_wind_spd_max  \\\ncount  110020.000000  110022.000000     132776.000000     132776.000000   \nmean      -54.126435      47.321618          6.946516          8.670205   \nstd         0.006444       0.004299          3.788208          4.879399   \nmin       -54.369022      47.244380          0.000000          0.000000   \n25%       -54.129713      47.317862          4.300000          5.400000   \n50%       -54.126740      47.319032          6.600000          8.100000   \n75%       -54.123048      47.326043          9.300000         11.400000   \nmax       -53.915703      47.399983        207.100000        345.400000   \n\n       ros_wind_dir_avg  ros_air_temp_avg  ros_air_pressure_avg  \\\ncount     132276.000000     132792.000000         132792.000000   \nmean         195.269331          6.170341           1013.466731   \nstd           98.120984          6.838574             10.574472   \nmin            0.000000        -15.300000            953.200000   \n25%          103.000000          0.800000           1007.400000   \n50%          223.000000          6.000000           1014.500000   \n75%          268.000000         12.100000           1020.600000   \nmax          360.000000         20.700000           1047.000000   \n\n       ros_air_humidity_avg  ros_air_dewpoint_avg  ros_surface_temp_avg  \\\ncount         106094.000000         106094.000000         113265.000000   \nmean              96.376254              4.553938              7.220957   \nstd               12.962920              7.347295              5.718808   \nmin               39.100000            -18.900000             -5.300000   \n25%               88.500000             -0.700000              1.500000   \n50%              100.000000              4.100000              6.800000   \n75%              108.900000             10.800000             12.000000   \nmax              110.000000             21.600000             20.200000   \n\n       ros_wave_ht_max  ros_wave_ht_sig  ros_wave_period_max  \\\ncount    129745.000000    129745.000000        129745.000000   \nmean          2.098043         1.285274             7.977787   \nstd           1.419660         0.874287             2.794888   \nmin           0.000000         0.000000             0.000000   \n25%           1.100000         0.700000             6.100000   \n50%           1.700000         1.100000             8.300000   \n75%           2.700000         1.600000            10.000000   \nmax          21.900000         9.300000            33.300000   \n\n       ros_wave_dir_avg  ros_wave_spread_avg  ros_curr_dir_avg  \\\ncount     129745.000000        129745.000000     123775.000000   \nmean         221.590266            29.902432        184.805161   \nstd           66.067569             4.341209         81.608999   \nmin            0.000000             0.000000          0.000000   \n25%          230.000000            27.000000        130.500000   \n50%          240.000000            29.000000        185.200000   \n75%          249.000000            32.000000        243.500000   \nmax          360.000000            80.000000        360.000000   \n\n       ros_curr_spd_avg  \ncount     123775.000000  \nmean         177.631505  \nstd          187.546398  \nmin            0.200000  \n25%           91.100000  \n50%          152.500000  \n75%          234.200000  \nmax        40510.900000  ",
      "text/html": "<div>\n<style scoped>\n    .dataframe tbody tr th:only-of-type {\n        vertical-align: middle;\n    }\n\n    .dataframe tbody tr th {\n        vertical-align: top;\n    }\n\n    .dataframe thead th {\n        text-align: right;\n    }\n</style>\n<table border=\"1\" class=\"dataframe\">\n  <thead>\n    <tr style=\"text-align: right;\">\n      <th></th>\n      <th>ros_longitude</th>\n      <th>ros_latitude</th>\n      <th>ros_wind_spd_avg</th>\n      <th>ros_wind_spd_max</th>\n      <th>ros_wind_dir_avg</th>\n      <th>ros_air_temp_avg</th>\n      <th>ros_air_pressure_avg</th>\n      <th>ros_air_humidity_avg</th>\n      <th>ros_air_dewpoint_avg</th>\n      <th>ros_surface_temp_avg</th>\n      <th>ros_wave_ht_max</th>\n      <th>ros_wave_ht_sig</th>\n      <th>ros_wave_period_max</th>\n      <th>ros_wave_dir_avg</th>\n      <th>ros_wave_spread_avg</th>\n      <th>ros_curr_dir_avg</th>\n      <th>ros_curr_spd_avg</th>\n    </tr>\n  </thead>\n  <tbody>\n    <tr>\n      <th>count</th>\n      <td>110020.000000</td>\n      <td>110022.000000</td>\n      <td>132776.000000</td>\n      <td>132776.000000</td>\n      <td>132276.000000</td>\n      <td>132792.000000</td>\n      <td>132792.000000</td>\n      <td>106094.000000</td>\n      <td>106094.000000</td>\n      <td>113265.000000</td>\n      <td>129745.000000</td>\n      <td>129745.000000</td>\n      <td>129745.000000</td>\n      <td>129745.000000</td>\n      <td>129745.000000</td>\n      <td>123775.000000</td>\n      <td>123775.000000</td>\n    </tr>\n    <tr>\n      <th>mean</th>\n      <td>-54.126435</td>\n      <td>47.321618</td>\n      <td>6.946516</td>\n      <td>8.670205</td>\n      <td>195.269331</td>\n      <td>6.170341</td>\n      <td>1013.466731</td>\n      <td>96.376254</td>\n      <td>4.553938</td>\n      <td>7.220957</td>\n      <td>2.098043</td>\n      <td>1.285274</td>\n      <td>7.977787</td>\n      <td>221.590266</td>\n      <td>29.902432</td>\n      <td>184.805161</td>\n      <td>177.631505</td>\n    </tr>\n    <tr>\n      <th>std</th>\n      <td>0.006444</td>\n      <td>0.004299</td>\n      <td>3.788208</td>\n      <td>4.879399</td>\n      <td>98.120984</td>\n      <td>6.838574</td>\n      <td>10.574472</td>\n      <td>12.962920</td>\n      <td>7.347295</td>\n      <td>5.718808</td>\n      <td>1.419660</td>\n      <td>0.874287</td>\n      <td>2.794888</td>\n      <td>66.067569</td>\n      <td>4.341209</td>\n      <td>81.608999</td>\n      <td>187.546398</td>\n    </tr>\n    <tr>\n      <th>min</th>\n      <td>-54.369022</td>\n      <td>47.244380</td>\n      <td>0.000000</td>\n      <td>0.000000</td>\n      <td>0.000000</td>\n      <td>-15.300000</td>\n      <td>953.200000</td>\n      <td>39.100000</td>\n      <td>-18.900000</td>\n      <td>-5.300000</td>\n      <td>0.000000</td>\n      <td>0.000000</td>\n      <td>0.000000</td>\n      <td>0.000000</td>\n      <td>0.000000</td>\n      <td>0.000000</td>\n      <td>0.200000</td>\n    </tr>\n    <tr>\n      <th>25%</th>\n      <td>-54.129713</td>\n      <td>47.317862</td>\n      <td>4.300000</td>\n      <td>5.400000</td>\n      <td>103.000000</td>\n      <td>0.800000</td>\n      <td>1007.400000</td>\n      <td>88.500000</td>\n      <td>-0.700000</td>\n      <td>1.500000</td>\n      <td>1.100000</td>\n      <td>0.700000</td>\n      <td>6.100000</td>\n      <td>230.000000</td>\n      <td>27.000000</td>\n      <td>130.500000</td>\n      <td>91.100000</td>\n    </tr>\n    <tr>\n      <th>50%</th>\n      <td>-54.126740</td>\n      <td>47.319032</td>\n      <td>6.600000</td>\n      <td>8.100000</td>\n      <td>223.000000</td>\n      <td>6.000000</td>\n      <td>1014.500000</td>\n      <td>100.000000</td>\n      <td>4.100000</td>\n      <td>6.800000</td>\n      <td>1.700000</td>\n      <td>1.100000</td>\n      <td>8.300000</td>\n      <td>240.000000</td>\n      <td>29.000000</td>\n      <td>185.200000</td>\n      <td>152.500000</td>\n    </tr>\n    <tr>\n      <th>75%</th>\n      <td>-54.123048</td>\n      <td>47.326043</td>\n      <td>9.300000</td>\n      <td>11.400000</td>\n      <td>268.000000</td>\n      <td>12.100000</td>\n      <td>1020.600000</td>\n      <td>108.900000</td>\n      <td>10.800000</td>\n      <td>12.000000</td>\n      <td>2.700000</td>\n      <td>1.600000</td>\n      <td>10.000000</td>\n      <td>249.000000</td>\n      <td>32.000000</td>\n      <td>243.500000</td>\n      <td>234.200000</td>\n    </tr>\n    <tr>\n      <th>max</th>\n      <td>-53.915703</td>\n      <td>47.399983</td>\n      <td>207.100000</td>\n      <td>345.400000</td>\n      <td>360.000000</td>\n      <td>20.700000</td>\n      <td>1047.000000</td>\n      <td>110.000000</td>\n      <td>21.600000</td>\n      <td>20.200000</td>\n      <td>21.900000</td>\n      <td>9.300000</td>\n      <td>33.300000</td>\n      <td>360.000000</td>\n      <td>80.000000</td>\n      <td>360.000000</td>\n      <td>40510.900000</td>\n    </tr>\n  </tbody>\n</table>\n</div>"
     },
     "execution_count": 29,
     "metadata": {},
     "output_type": "execute_result"
    }
   ],
   "source": [
    "rs.describe()\n",
    "\n"
   ],
   "metadata": {
    "collapsed": false,
    "pycharm": {
     "name": "#%%\n"
    }
   }
  },
  {
   "cell_type": "code",
   "execution_count": 30,
   "outputs": [
    {
     "name": "stdout",
     "output_type": "stream",
     "text": [
      "<class 'pandas.core.frame.DataFrame'>\n",
      "RangeIndex: 134528 entries, 0 to 134527\n",
      "Data columns (total 20 columns):\n",
      " #   Column                Non-Null Count   Dtype              \n",
      "---  ------                --------------   -----              \n",
      " 0   ros_station_name      134528 non-null  object             \n",
      " 1   DATE & TIME           134528 non-null  datetime64[ns, UTC]\n",
      " 2   DATE                  134528 non-null  datetime64[ns]     \n",
      " 3   ros_longitude         110020 non-null  float64            \n",
      " 4   ros_latitude          110022 non-null  float64            \n",
      " 5   ros_wind_spd_avg      132776 non-null  float64            \n",
      " 6   ros_wind_spd_max      132776 non-null  float64            \n",
      " 7   ros_wind_dir_avg      132276 non-null  float64            \n",
      " 8   ros_air_temp_avg      132792 non-null  float64            \n",
      " 9   ros_air_pressure_avg  132792 non-null  float64            \n",
      " 10  ros_air_humidity_avg  106094 non-null  float64            \n",
      " 11  ros_air_dewpoint_avg  106094 non-null  float64            \n",
      " 12  ros_surface_temp_avg  113265 non-null  float64            \n",
      " 13  ros_wave_ht_max       129745 non-null  float64            \n",
      " 14  ros_wave_ht_sig       129745 non-null  float64            \n",
      " 15  ros_wave_period_max   129745 non-null  float64            \n",
      " 16  ros_wave_dir_avg      129745 non-null  float64            \n",
      " 17  ros_wave_spread_avg   129745 non-null  float64            \n",
      " 18  ros_curr_dir_avg      123775 non-null  float64            \n",
      " 19  ros_curr_spd_avg      123775 non-null  float64            \n",
      "dtypes: datetime64[ns, UTC](1), datetime64[ns](1), float64(17), object(1)\n",
      "memory usage: 20.0+ MB\n"
     ]
    }
   ],
   "source": [
    "rs.info()\n"
   ],
   "metadata": {
    "collapsed": false,
    "pycharm": {
     "name": "#%%\n"
    }
   }
  },
  {
   "cell_type": "code",
   "execution_count": 31,
   "outputs": [
    {
     "data": {
      "text/plain": "ros_station_name            0\nDATE & TIME                 0\nDATE                        0\nros_longitude           24508\nros_latitude            24506\nros_wind_spd_avg         1752\nros_wind_spd_max         1752\nros_wind_dir_avg         2252\nros_air_temp_avg         1736\nros_air_pressure_avg     1736\nros_air_humidity_avg    28434\nros_air_dewpoint_avg    28434\nros_surface_temp_avg    21263\nros_wave_ht_max          4783\nros_wave_ht_sig          4783\nros_wave_period_max      4783\nros_wave_dir_avg         4783\nros_wave_spread_avg      4783\nros_curr_dir_avg        10753\nros_curr_spd_avg        10753\ndtype: int64"
     },
     "execution_count": 31,
     "metadata": {},
     "output_type": "execute_result"
    }
   ],
   "source": [
    "# Check for NULL values\n",
    "rs.isnull().sum()\n"
   ],
   "metadata": {
    "collapsed": false,
    "pycharm": {
     "name": "#%%\n"
    }
   }
  },
  {
   "cell_type": "code",
   "execution_count": 32,
   "outputs": [],
   "source": [
    "##drop NULL values\n",
    "## We have dropped the NULL values but you can try to find the ways to impute NULL values\n",
    "rs = rs.dropna()"
   ],
   "metadata": {
    "collapsed": false,
    "pycharm": {
     "name": "#%%\n"
    }
   }
  },
  {
   "cell_type": "code",
   "execution_count": 33,
   "outputs": [
    {
     "data": {
      "text/plain": "       ros_longitude  ros_latitude  ros_wind_spd_avg  ros_wind_spd_max  \\\ncount   81094.000000  81094.000000      81094.000000      81094.000000   \nmean      -54.125760     47.320767          7.025880          8.789029   \nstd         0.006538      0.004212          3.881001          4.873407   \nmin       -54.369022     47.244380          0.000000          0.000000   \n25%       -54.129100     47.317582          4.200000          5.300000   \n50%       -54.124693     47.318738          6.800000          8.300000   \n75%       -54.122827     47.325622          9.600000         11.800000   \nmax       -53.915707     47.399983         43.000000        189.500000   \n\n       ros_wind_dir_avg  ros_air_temp_avg  ros_air_pressure_avg  \\\ncount      81094.000000      81094.000000          81094.000000   \nmean         195.577910          4.886694           1013.813536   \nstd          101.199811          6.773075             10.609024   \nmin            0.000000        -15.300000            953.200000   \n25%          102.000000         -0.100000           1007.200000   \n50%          220.000000          4.200000           1014.700000   \n75%          274.000000         10.500000           1021.000000   \nmax          360.000000         20.700000           1047.000000   \n\n       ros_air_humidity_avg  ros_air_dewpoint_avg  ros_surface_temp_avg  \\\ncount          81094.000000          81094.000000          81094.000000   \nmean              97.525691              4.421108              6.651677   \nstd               12.845264              7.319877              5.540144   \nmin               39.100000            -18.900000             -5.300000   \n25%               90.700000             -0.800000              1.300000   \n50%              100.400000              3.900000              5.800000   \n75%              109.100000             10.500000             11.400000   \nmax              110.000000             21.600000             19.700000   \n\n       ros_wave_ht_max  ros_wave_ht_sig  ros_wave_period_max  \\\ncount     81094.000000     81094.000000         81094.000000   \nmean          2.163223         1.326567             8.093077   \nstd           1.503506         0.922811             2.850280   \nmin           0.000000         0.000000             0.000000   \n25%           1.100000         0.700000             6.100000   \n50%           1.800000         1.100000             8.300000   \n75%           2.800000         1.700000            10.000000   \nmax          21.900000         9.300000            33.300000   \n\n       ros_wave_dir_avg  ros_wave_spread_avg  ros_curr_dir_avg  \\\ncount      81094.000000         81094.000000      81094.000000   \nmean         222.628234            30.155326        187.878029   \nstd           66.458705             4.473368         81.911072   \nmin            0.000000             0.000000          0.000000   \n25%          231.000000            27.000000        133.600000   \n50%          242.000000            30.000000        190.200000   \n75%          250.000000            32.000000        246.200000   \nmax          360.000000            80.000000        360.000000   \n\n       ros_curr_spd_avg  \ncount      81094.000000  \nmean         168.488150  \nstd          128.126465  \nmin            0.300000  \n25%           84.300000  \n50%          143.600000  \n75%          221.675000  \nmax         3358.100000  ",
      "text/html": "<div>\n<style scoped>\n    .dataframe tbody tr th:only-of-type {\n        vertical-align: middle;\n    }\n\n    .dataframe tbody tr th {\n        vertical-align: top;\n    }\n\n    .dataframe thead th {\n        text-align: right;\n    }\n</style>\n<table border=\"1\" class=\"dataframe\">\n  <thead>\n    <tr style=\"text-align: right;\">\n      <th></th>\n      <th>ros_longitude</th>\n      <th>ros_latitude</th>\n      <th>ros_wind_spd_avg</th>\n      <th>ros_wind_spd_max</th>\n      <th>ros_wind_dir_avg</th>\n      <th>ros_air_temp_avg</th>\n      <th>ros_air_pressure_avg</th>\n      <th>ros_air_humidity_avg</th>\n      <th>ros_air_dewpoint_avg</th>\n      <th>ros_surface_temp_avg</th>\n      <th>ros_wave_ht_max</th>\n      <th>ros_wave_ht_sig</th>\n      <th>ros_wave_period_max</th>\n      <th>ros_wave_dir_avg</th>\n      <th>ros_wave_spread_avg</th>\n      <th>ros_curr_dir_avg</th>\n      <th>ros_curr_spd_avg</th>\n    </tr>\n  </thead>\n  <tbody>\n    <tr>\n      <th>count</th>\n      <td>81094.000000</td>\n      <td>81094.000000</td>\n      <td>81094.000000</td>\n      <td>81094.000000</td>\n      <td>81094.000000</td>\n      <td>81094.000000</td>\n      <td>81094.000000</td>\n      <td>81094.000000</td>\n      <td>81094.000000</td>\n      <td>81094.000000</td>\n      <td>81094.000000</td>\n      <td>81094.000000</td>\n      <td>81094.000000</td>\n      <td>81094.000000</td>\n      <td>81094.000000</td>\n      <td>81094.000000</td>\n      <td>81094.000000</td>\n    </tr>\n    <tr>\n      <th>mean</th>\n      <td>-54.125760</td>\n      <td>47.320767</td>\n      <td>7.025880</td>\n      <td>8.789029</td>\n      <td>195.577910</td>\n      <td>4.886694</td>\n      <td>1013.813536</td>\n      <td>97.525691</td>\n      <td>4.421108</td>\n      <td>6.651677</td>\n      <td>2.163223</td>\n      <td>1.326567</td>\n      <td>8.093077</td>\n      <td>222.628234</td>\n      <td>30.155326</td>\n      <td>187.878029</td>\n      <td>168.488150</td>\n    </tr>\n    <tr>\n      <th>std</th>\n      <td>0.006538</td>\n      <td>0.004212</td>\n      <td>3.881001</td>\n      <td>4.873407</td>\n      <td>101.199811</td>\n      <td>6.773075</td>\n      <td>10.609024</td>\n      <td>12.845264</td>\n      <td>7.319877</td>\n      <td>5.540144</td>\n      <td>1.503506</td>\n      <td>0.922811</td>\n      <td>2.850280</td>\n      <td>66.458705</td>\n      <td>4.473368</td>\n      <td>81.911072</td>\n      <td>128.126465</td>\n    </tr>\n    <tr>\n      <th>min</th>\n      <td>-54.369022</td>\n      <td>47.244380</td>\n      <td>0.000000</td>\n      <td>0.000000</td>\n      <td>0.000000</td>\n      <td>-15.300000</td>\n      <td>953.200000</td>\n      <td>39.100000</td>\n      <td>-18.900000</td>\n      <td>-5.300000</td>\n      <td>0.000000</td>\n      <td>0.000000</td>\n      <td>0.000000</td>\n      <td>0.000000</td>\n      <td>0.000000</td>\n      <td>0.000000</td>\n      <td>0.300000</td>\n    </tr>\n    <tr>\n      <th>25%</th>\n      <td>-54.129100</td>\n      <td>47.317582</td>\n      <td>4.200000</td>\n      <td>5.300000</td>\n      <td>102.000000</td>\n      <td>-0.100000</td>\n      <td>1007.200000</td>\n      <td>90.700000</td>\n      <td>-0.800000</td>\n      <td>1.300000</td>\n      <td>1.100000</td>\n      <td>0.700000</td>\n      <td>6.100000</td>\n      <td>231.000000</td>\n      <td>27.000000</td>\n      <td>133.600000</td>\n      <td>84.300000</td>\n    </tr>\n    <tr>\n      <th>50%</th>\n      <td>-54.124693</td>\n      <td>47.318738</td>\n      <td>6.800000</td>\n      <td>8.300000</td>\n      <td>220.000000</td>\n      <td>4.200000</td>\n      <td>1014.700000</td>\n      <td>100.400000</td>\n      <td>3.900000</td>\n      <td>5.800000</td>\n      <td>1.800000</td>\n      <td>1.100000</td>\n      <td>8.300000</td>\n      <td>242.000000</td>\n      <td>30.000000</td>\n      <td>190.200000</td>\n      <td>143.600000</td>\n    </tr>\n    <tr>\n      <th>75%</th>\n      <td>-54.122827</td>\n      <td>47.325622</td>\n      <td>9.600000</td>\n      <td>11.800000</td>\n      <td>274.000000</td>\n      <td>10.500000</td>\n      <td>1021.000000</td>\n      <td>109.100000</td>\n      <td>10.500000</td>\n      <td>11.400000</td>\n      <td>2.800000</td>\n      <td>1.700000</td>\n      <td>10.000000</td>\n      <td>250.000000</td>\n      <td>32.000000</td>\n      <td>246.200000</td>\n      <td>221.675000</td>\n    </tr>\n    <tr>\n      <th>max</th>\n      <td>-53.915707</td>\n      <td>47.399983</td>\n      <td>43.000000</td>\n      <td>189.500000</td>\n      <td>360.000000</td>\n      <td>20.700000</td>\n      <td>1047.000000</td>\n      <td>110.000000</td>\n      <td>21.600000</td>\n      <td>19.700000</td>\n      <td>21.900000</td>\n      <td>9.300000</td>\n      <td>33.300000</td>\n      <td>360.000000</td>\n      <td>80.000000</td>\n      <td>360.000000</td>\n      <td>3358.100000</td>\n    </tr>\n  </tbody>\n</table>\n</div>"
     },
     "execution_count": 33,
     "metadata": {},
     "output_type": "execute_result"
    }
   ],
   "source": [
    "rs.describe()\n",
    "\n"
   ],
   "metadata": {
    "collapsed": false,
    "pycharm": {
     "name": "#%%\n"
    }
   }
  },
  {
   "cell_type": "code",
   "execution_count": 34,
   "outputs": [
    {
     "data": {
      "text/plain": "ros_station_name        0\nDATE & TIME             0\nDATE                    0\nros_longitude           0\nros_latitude            0\nros_wind_spd_avg        0\nros_wind_spd_max        0\nros_wind_dir_avg        0\nros_air_temp_avg        0\nros_air_pressure_avg    0\nros_air_humidity_avg    0\nros_air_dewpoint_avg    0\nros_surface_temp_avg    0\nros_wave_ht_max         0\nros_wave_ht_sig         0\nros_wave_period_max     0\nros_wave_dir_avg        0\nros_wave_spread_avg     0\nros_curr_dir_avg        0\nros_curr_spd_avg        0\ndtype: int64"
     },
     "execution_count": 34,
     "metadata": {},
     "output_type": "execute_result"
    }
   ],
   "source": [
    "rs.isnull().sum()\n",
    "\n"
   ],
   "metadata": {
    "collapsed": false,
    "pycharm": {
     "name": "#%%\n"
    }
   }
  },
  {
   "cell_type": "code",
   "execution_count": 35,
   "outputs": [],
   "source": [
    "#Convert the clean data frame to clean CSV file so that you can use this in other steps\n",
    "rs.to_csv(r\"5.Regression\\Red_Shoal_cleaned.csv\", index=None, header=True)\n"
   ],
   "metadata": {
    "collapsed": false,
    "pycharm": {
     "name": "#%%\n"
    }
   }
  },
  {
   "cell_type": "code",
   "execution_count": 36,
   "outputs": [
    {
     "name": "stdout",
     "output_type": "stream",
     "text": [
      "(124112, 20)\n",
      "(81094, 20)\n"
     ]
    }
   ],
   "source": [
    "print(mp.shape)\n",
    "print(rs.shape)\n",
    "\n"
   ],
   "metadata": {
    "collapsed": false,
    "pycharm": {
     "name": "#%%\n"
    }
   }
  },
  {
   "cell_type": "code",
   "execution_count": 37,
   "outputs": [
    {
     "data": {
      "text/plain": "         mop_station_name               DATE & TIME       DATE  mop_longitude  \\\n0  smb_mouth_of_placentia 2006-08-18 17:16:59+00:00 2006-08-18     -54.681723   \n1  smb_mouth_of_placentia 2006-08-18 17:36:58+00:00 2006-08-18     -54.683605   \n2  smb_mouth_of_placentia 2006-08-18 17:56:58+00:00 2006-08-18     -54.684595   \n3  smb_mouth_of_placentia 2006-08-18 18:16:58+00:00 2006-08-18     -54.685037   \n4  smb_mouth_of_placentia 2006-08-18 18:36:58+00:00 2006-08-18     -54.685227   \n\n   mop_latitude  mop_wind_spd_avg  mop_wind_spd_max  mop_wind_dir_avg  \\\n0     46.981275               2.2               3.6              51.0   \n1     46.981580               2.2               2.5              68.0   \n2     46.981720               2.2               2.5              75.0   \n3     46.981892               1.9               2.3              67.0   \n4     46.981993               1.5               2.1              55.0   \n\n   mop_air_temp_avg  mop_air_pressure_avg  mop_air_humidity_avg  \\\n0              17.7               1020.04                  85.5   \n1              17.1               1019.85                  89.1   \n2              17.1               1019.76                  88.9   \n3              17.2               1019.64                  88.7   \n4              17.3               1019.64                  88.0   \n\n   mop_air_dewpoint_avg  mop_surface_temp_avg  mop_wave_ht_max  \\\n0                  15.6                 16.57             1.08   \n1                  15.5                 16.44             1.22   \n2                  15.5                 16.66             1.09   \n3                  15.6                 16.80             1.24   \n4                  15.6                 17.24             1.16   \n\n   mop_wave_ht_sig  mop_wave_period_max  mop_wave_dir_avg  \\\n0             0.73                  8.7             199.8   \n1             0.75                  8.7             211.1   \n2             0.75                  8.7             215.0   \n3             0.78                  8.0             217.0   \n4             0.72                  6.9             221.6   \n\n   mop_wave_spread_avg  mop_curr_dir_avg  mop_curr_spd_avg  \n0                 46.4            128.63           1713.58  \n1                 44.7            357.47           1259.46  \n2                 45.2             46.04            997.95  \n3                 46.3              7.22           1239.27  \n4                 42.1             13.57           1452.59  ",
      "text/html": "<div>\n<style scoped>\n    .dataframe tbody tr th:only-of-type {\n        vertical-align: middle;\n    }\n\n    .dataframe tbody tr th {\n        vertical-align: top;\n    }\n\n    .dataframe thead th {\n        text-align: right;\n    }\n</style>\n<table border=\"1\" class=\"dataframe\">\n  <thead>\n    <tr style=\"text-align: right;\">\n      <th></th>\n      <th>mop_station_name</th>\n      <th>DATE &amp; TIME</th>\n      <th>DATE</th>\n      <th>mop_longitude</th>\n      <th>mop_latitude</th>\n      <th>mop_wind_spd_avg</th>\n      <th>mop_wind_spd_max</th>\n      <th>mop_wind_dir_avg</th>\n      <th>mop_air_temp_avg</th>\n      <th>mop_air_pressure_avg</th>\n      <th>mop_air_humidity_avg</th>\n      <th>mop_air_dewpoint_avg</th>\n      <th>mop_surface_temp_avg</th>\n      <th>mop_wave_ht_max</th>\n      <th>mop_wave_ht_sig</th>\n      <th>mop_wave_period_max</th>\n      <th>mop_wave_dir_avg</th>\n      <th>mop_wave_spread_avg</th>\n      <th>mop_curr_dir_avg</th>\n      <th>mop_curr_spd_avg</th>\n    </tr>\n  </thead>\n  <tbody>\n    <tr>\n      <th>0</th>\n      <td>smb_mouth_of_placentia</td>\n      <td>2006-08-18 17:16:59+00:00</td>\n      <td>2006-08-18</td>\n      <td>-54.681723</td>\n      <td>46.981275</td>\n      <td>2.2</td>\n      <td>3.6</td>\n      <td>51.0</td>\n      <td>17.7</td>\n      <td>1020.04</td>\n      <td>85.5</td>\n      <td>15.6</td>\n      <td>16.57</td>\n      <td>1.08</td>\n      <td>0.73</td>\n      <td>8.7</td>\n      <td>199.8</td>\n      <td>46.4</td>\n      <td>128.63</td>\n      <td>1713.58</td>\n    </tr>\n    <tr>\n      <th>1</th>\n      <td>smb_mouth_of_placentia</td>\n      <td>2006-08-18 17:36:58+00:00</td>\n      <td>2006-08-18</td>\n      <td>-54.683605</td>\n      <td>46.981580</td>\n      <td>2.2</td>\n      <td>2.5</td>\n      <td>68.0</td>\n      <td>17.1</td>\n      <td>1019.85</td>\n      <td>89.1</td>\n      <td>15.5</td>\n      <td>16.44</td>\n      <td>1.22</td>\n      <td>0.75</td>\n      <td>8.7</td>\n      <td>211.1</td>\n      <td>44.7</td>\n      <td>357.47</td>\n      <td>1259.46</td>\n    </tr>\n    <tr>\n      <th>2</th>\n      <td>smb_mouth_of_placentia</td>\n      <td>2006-08-18 17:56:58+00:00</td>\n      <td>2006-08-18</td>\n      <td>-54.684595</td>\n      <td>46.981720</td>\n      <td>2.2</td>\n      <td>2.5</td>\n      <td>75.0</td>\n      <td>17.1</td>\n      <td>1019.76</td>\n      <td>88.9</td>\n      <td>15.5</td>\n      <td>16.66</td>\n      <td>1.09</td>\n      <td>0.75</td>\n      <td>8.7</td>\n      <td>215.0</td>\n      <td>45.2</td>\n      <td>46.04</td>\n      <td>997.95</td>\n    </tr>\n    <tr>\n      <th>3</th>\n      <td>smb_mouth_of_placentia</td>\n      <td>2006-08-18 18:16:58+00:00</td>\n      <td>2006-08-18</td>\n      <td>-54.685037</td>\n      <td>46.981892</td>\n      <td>1.9</td>\n      <td>2.3</td>\n      <td>67.0</td>\n      <td>17.2</td>\n      <td>1019.64</td>\n      <td>88.7</td>\n      <td>15.6</td>\n      <td>16.80</td>\n      <td>1.24</td>\n      <td>0.78</td>\n      <td>8.0</td>\n      <td>217.0</td>\n      <td>46.3</td>\n      <td>7.22</td>\n      <td>1239.27</td>\n    </tr>\n    <tr>\n      <th>4</th>\n      <td>smb_mouth_of_placentia</td>\n      <td>2006-08-18 18:36:58+00:00</td>\n      <td>2006-08-18</td>\n      <td>-54.685227</td>\n      <td>46.981993</td>\n      <td>1.5</td>\n      <td>2.1</td>\n      <td>55.0</td>\n      <td>17.3</td>\n      <td>1019.64</td>\n      <td>88.0</td>\n      <td>15.6</td>\n      <td>17.24</td>\n      <td>1.16</td>\n      <td>0.72</td>\n      <td>6.9</td>\n      <td>221.6</td>\n      <td>42.1</td>\n      <td>13.57</td>\n      <td>1452.59</td>\n    </tr>\n  </tbody>\n</table>\n</div>"
     },
     "execution_count": 37,
     "metadata": {},
     "output_type": "execute_result"
    }
   ],
   "source": [
    "mp.head()\n",
    "\n"
   ],
   "metadata": {
    "collapsed": false,
    "pycharm": {
     "name": "#%%\n"
    }
   }
  },
  {
   "cell_type": "code",
   "execution_count": 38,
   "outputs": [
    {
     "data": {
      "text/plain": "          ros_station_name               DATE & TIME       DATE  \\\n8878  smb_red_island_shoal 2011-01-17 17:25:00+00:00 2011-01-17   \n8879  smb_red_island_shoal 2011-01-17 17:55:00+00:00 2011-01-17   \n8880  smb_red_island_shoal 2011-01-17 18:25:00+00:00 2011-01-17   \n8881  smb_red_island_shoal 2011-01-17 18:55:00+00:00 2011-01-17   \n8882  smb_red_island_shoal 2011-01-17 19:25:00+00:00 2011-01-17   \n\n      ros_longitude  ros_latitude  ros_wind_spd_avg  ros_wind_spd_max  \\\n8878     -54.128507     47.322602              12.4              14.8   \n8879     -54.128485     47.322562              11.5              14.5   \n8880     -54.128530     47.322692              12.5              15.8   \n8881     -54.128515     47.322710              12.7              15.4   \n8882     -54.128503     47.322575              13.1              16.4   \n\n      ros_wind_dir_avg  ros_air_temp_avg  ros_air_pressure_avg  \\\n8878             310.0              -1.3                1007.1   \n8879             304.0              -1.4                1007.6   \n8880             296.0              -1.2                1007.7   \n8881             311.0              -1.4                1008.1   \n8882             313.0              -1.4                1008.5   \n\n      ros_air_humidity_avg  ros_air_dewpoint_avg  ros_surface_temp_avg  \\\n8878                  67.8                  -6.5                   3.4   \n8879                  68.8                  -6.4                   3.4   \n8880                  71.5                  -5.7                   3.4   \n8881                  66.1                  -6.9                   3.4   \n8882                  66.5                  -6.8                   3.4   \n\n      ros_wave_ht_max  ros_wave_ht_sig  ros_wave_period_max  ros_wave_dir_avg  \\\n8878              3.7              2.3                  8.3             263.0   \n8879              4.1              2.5                 10.0             259.0   \n8880              4.5              2.4                 10.0             262.0   \n8881              3.8              2.5                  9.1             258.0   \n8882              3.3              2.5                  9.5             262.0   \n\n      ros_wave_spread_avg  ros_curr_dir_avg  ros_curr_spd_avg  \n8878                 26.0             152.1             224.1  \n8879                 24.0             158.7             239.9  \n8880                 26.0             154.0             233.9  \n8881                 24.0             156.1             238.9  \n8882                 26.0             159.8             235.0  ",
      "text/html": "<div>\n<style scoped>\n    .dataframe tbody tr th:only-of-type {\n        vertical-align: middle;\n    }\n\n    .dataframe tbody tr th {\n        vertical-align: top;\n    }\n\n    .dataframe thead th {\n        text-align: right;\n    }\n</style>\n<table border=\"1\" class=\"dataframe\">\n  <thead>\n    <tr style=\"text-align: right;\">\n      <th></th>\n      <th>ros_station_name</th>\n      <th>DATE &amp; TIME</th>\n      <th>DATE</th>\n      <th>ros_longitude</th>\n      <th>ros_latitude</th>\n      <th>ros_wind_spd_avg</th>\n      <th>ros_wind_spd_max</th>\n      <th>ros_wind_dir_avg</th>\n      <th>ros_air_temp_avg</th>\n      <th>ros_air_pressure_avg</th>\n      <th>ros_air_humidity_avg</th>\n      <th>ros_air_dewpoint_avg</th>\n      <th>ros_surface_temp_avg</th>\n      <th>ros_wave_ht_max</th>\n      <th>ros_wave_ht_sig</th>\n      <th>ros_wave_period_max</th>\n      <th>ros_wave_dir_avg</th>\n      <th>ros_wave_spread_avg</th>\n      <th>ros_curr_dir_avg</th>\n      <th>ros_curr_spd_avg</th>\n    </tr>\n  </thead>\n  <tbody>\n    <tr>\n      <th>8878</th>\n      <td>smb_red_island_shoal</td>\n      <td>2011-01-17 17:25:00+00:00</td>\n      <td>2011-01-17</td>\n      <td>-54.128507</td>\n      <td>47.322602</td>\n      <td>12.4</td>\n      <td>14.8</td>\n      <td>310.0</td>\n      <td>-1.3</td>\n      <td>1007.1</td>\n      <td>67.8</td>\n      <td>-6.5</td>\n      <td>3.4</td>\n      <td>3.7</td>\n      <td>2.3</td>\n      <td>8.3</td>\n      <td>263.0</td>\n      <td>26.0</td>\n      <td>152.1</td>\n      <td>224.1</td>\n    </tr>\n    <tr>\n      <th>8879</th>\n      <td>smb_red_island_shoal</td>\n      <td>2011-01-17 17:55:00+00:00</td>\n      <td>2011-01-17</td>\n      <td>-54.128485</td>\n      <td>47.322562</td>\n      <td>11.5</td>\n      <td>14.5</td>\n      <td>304.0</td>\n      <td>-1.4</td>\n      <td>1007.6</td>\n      <td>68.8</td>\n      <td>-6.4</td>\n      <td>3.4</td>\n      <td>4.1</td>\n      <td>2.5</td>\n      <td>10.0</td>\n      <td>259.0</td>\n      <td>24.0</td>\n      <td>158.7</td>\n      <td>239.9</td>\n    </tr>\n    <tr>\n      <th>8880</th>\n      <td>smb_red_island_shoal</td>\n      <td>2011-01-17 18:25:00+00:00</td>\n      <td>2011-01-17</td>\n      <td>-54.128530</td>\n      <td>47.322692</td>\n      <td>12.5</td>\n      <td>15.8</td>\n      <td>296.0</td>\n      <td>-1.2</td>\n      <td>1007.7</td>\n      <td>71.5</td>\n      <td>-5.7</td>\n      <td>3.4</td>\n      <td>4.5</td>\n      <td>2.4</td>\n      <td>10.0</td>\n      <td>262.0</td>\n      <td>26.0</td>\n      <td>154.0</td>\n      <td>233.9</td>\n    </tr>\n    <tr>\n      <th>8881</th>\n      <td>smb_red_island_shoal</td>\n      <td>2011-01-17 18:55:00+00:00</td>\n      <td>2011-01-17</td>\n      <td>-54.128515</td>\n      <td>47.322710</td>\n      <td>12.7</td>\n      <td>15.4</td>\n      <td>311.0</td>\n      <td>-1.4</td>\n      <td>1008.1</td>\n      <td>66.1</td>\n      <td>-6.9</td>\n      <td>3.4</td>\n      <td>3.8</td>\n      <td>2.5</td>\n      <td>9.1</td>\n      <td>258.0</td>\n      <td>24.0</td>\n      <td>156.1</td>\n      <td>238.9</td>\n    </tr>\n    <tr>\n      <th>8882</th>\n      <td>smb_red_island_shoal</td>\n      <td>2011-01-17 19:25:00+00:00</td>\n      <td>2011-01-17</td>\n      <td>-54.128503</td>\n      <td>47.322575</td>\n      <td>13.1</td>\n      <td>16.4</td>\n      <td>313.0</td>\n      <td>-1.4</td>\n      <td>1008.5</td>\n      <td>66.5</td>\n      <td>-6.8</td>\n      <td>3.4</td>\n      <td>3.3</td>\n      <td>2.5</td>\n      <td>9.5</td>\n      <td>262.0</td>\n      <td>26.0</td>\n      <td>159.8</td>\n      <td>235.0</td>\n    </tr>\n  </tbody>\n</table>\n</div>"
     },
     "execution_count": 38,
     "metadata": {},
     "output_type": "execute_result"
    }
   ],
   "source": [
    "rs.head()\n",
    "\n"
   ],
   "metadata": {
    "collapsed": false,
    "pycharm": {
     "name": "#%%\n"
    }
   }
  },
  {
   "cell_type": "code",
   "execution_count": 40,
   "outputs": [
    {
     "name": "stdout",
     "output_type": "stream",
     "text": [
      "<class 'pandas._libs.tslibs.timestamps.Timestamp'>\n"
     ]
    }
   ],
   "source": [
    "# Check the data type of DATE & TIME\n",
    "print(mp['DATE & TIME'].dtypes)\n",
    "print(rs['DATE & TIME'].dtypes)"
   ],
   "metadata": {
    "collapsed": false,
    "pycharm": {
     "name": "#%%\n"
    }
   }
  },
  {
   "cell_type": "code",
   "execution_count": 44,
   "outputs": [],
   "source": [
    "# Below is the process of merging both files. Mouth of Plancentia Bay Buoy is updated every 30 min and Pilot Boarding station/Red Island shoal is updated every 60 min so timestamp does not match.\n",
    "# To handle this,we will find the averaged over three hours for both the files.\n",
    "# You can tweek the freq by taking different values such as 1H, 2H or any whichever you want to see the performance of the model.\n",
    "\n",
    "# Calculating the average for every 3 hours\n",
    "mop = mp.groupby(pd.Grouper(key='DATE & TIME', freq='3H')).mean()"
   ],
   "metadata": {
    "collapsed": false,
    "pycharm": {
     "name": "#%%\n"
    }
   }
  },
  {
   "cell_type": "code",
   "execution_count": 48,
   "outputs": [
    {
     "name": "stdout",
     "output_type": "stream",
     "text": [
      "mop_longitude           21489\n",
      "mop_latitude            21489\n",
      "mop_wind_spd_avg        21489\n",
      "mop_wind_spd_max        21489\n",
      "mop_wind_dir_avg        21489\n",
      "mop_air_temp_avg        21489\n",
      "mop_air_pressure_avg    21489\n",
      "mop_air_humidity_avg    21489\n",
      "mop_air_dewpoint_avg    21489\n",
      "mop_surface_temp_avg    21489\n",
      "mop_wave_ht_max         21489\n",
      "mop_wave_ht_sig         21489\n",
      "mop_wave_period_max     21489\n",
      "mop_wave_dir_avg        21489\n",
      "mop_wave_spread_avg     21489\n",
      "mop_curr_dir_avg        21489\n",
      "mop_curr_spd_avg        21489\n",
      "dtype: int64\n",
      "728705\n",
      "(42865, 17)\n"
     ]
    }
   ],
   "source": [
    "# Check if there is any NULL value\n",
    "print(mop.isnull().sum())\n",
    "print(mop.size)\n",
    "print(mop.shape)\n"
   ],
   "metadata": {
    "collapsed": false,
    "pycharm": {
     "name": "#%%\n"
    }
   }
  },
  {
   "cell_type": "code",
   "execution_count": 49,
   "outputs": [
    {
     "name": "stdout",
     "output_type": "stream",
     "text": [
      "mop_longitude           0\n",
      "mop_latitude            0\n",
      "mop_wind_spd_avg        0\n",
      "mop_wind_spd_max        0\n",
      "mop_wind_dir_avg        0\n",
      "mop_air_temp_avg        0\n",
      "mop_air_pressure_avg    0\n",
      "mop_air_humidity_avg    0\n",
      "mop_air_dewpoint_avg    0\n",
      "mop_surface_temp_avg    0\n",
      "mop_wave_ht_max         0\n",
      "mop_wave_ht_sig         0\n",
      "mop_wave_period_max     0\n",
      "mop_wave_dir_avg        0\n",
      "mop_wave_spread_avg     0\n",
      "mop_curr_dir_avg        0\n",
      "mop_curr_spd_avg        0\n",
      "dtype: int64\n",
      "363392\n",
      "(21376, 17)\n"
     ]
    }
   ],
   "source": [
    "# drop NULL values\n",
    "mop = mop.dropna()\n",
    "\n",
    "# Check if there is any NULL value\n",
    "print(mop.isnull().sum())\n",
    "print(mop.size)\n",
    "print(mop.shape)"
   ],
   "metadata": {
    "collapsed": false,
    "pycharm": {
     "name": "#%%\n"
    }
   }
  },
  {
   "cell_type": "code",
   "execution_count": 46,
   "outputs": [],
   "source": [
    "# Calculating the average for every 3 hours\n",
    "ros = rs.groupby(pd.Grouper(key='DATE & TIME', freq='3H')).mean()\n",
    "\n"
   ],
   "metadata": {
    "collapsed": false,
    "pycharm": {
     "name": "#%%\n"
    }
   }
  },
  {
   "cell_type": "code",
   "execution_count": 47,
   "outputs": [
    {
     "data": {
      "text/plain": "ros_longitude           12997\nros_latitude            12997\nros_wind_spd_avg        12997\nros_wind_spd_max        12997\nros_wind_dir_avg        12997\nros_air_temp_avg        12997\nros_air_pressure_avg    12997\nros_air_humidity_avg    12997\nros_air_dewpoint_avg    12997\nros_surface_temp_avg    12997\nros_wave_ht_max         12997\nros_wave_ht_sig         12997\nros_wave_period_max     12997\nros_wave_dir_avg        12997\nros_wave_spread_avg     12997\nros_curr_dir_avg        12997\nros_curr_spd_avg        12997\ndtype: int64"
     },
     "execution_count": 47,
     "metadata": {},
     "output_type": "execute_result"
    }
   ],
   "source": [
    "# Check if there is any NULL value\n",
    "ros.isnull().sum()\n",
    "\n"
   ],
   "metadata": {
    "collapsed": false,
    "pycharm": {
     "name": "#%%\n"
    }
   }
  },
  {
   "cell_type": "code",
   "execution_count": 50,
   "outputs": [
    {
     "name": "stdout",
     "output_type": "stream",
     "text": [
      "ros_longitude           0\n",
      "ros_latitude            0\n",
      "ros_wind_spd_avg        0\n",
      "ros_wind_spd_max        0\n",
      "ros_wind_dir_avg        0\n",
      "ros_air_temp_avg        0\n",
      "ros_air_pressure_avg    0\n",
      "ros_air_humidity_avg    0\n",
      "ros_air_dewpoint_avg    0\n",
      "ros_surface_temp_avg    0\n",
      "ros_wave_ht_max         0\n",
      "ros_wave_ht_sig         0\n",
      "ros_wave_period_max     0\n",
      "ros_wave_dir_avg        0\n",
      "ros_wave_spread_avg     0\n",
      "ros_curr_dir_avg        0\n",
      "ros_curr_spd_avg        0\n",
      "dtype: int64\n",
      "281316\n",
      "(16548, 17)\n"
     ]
    }
   ],
   "source": [
    "# drop NULL values\n",
    "ros = ros.dropna()\n",
    "\n",
    "# Check if there is any NULL value\n",
    "print(ros.isnull().sum())\n",
    "print(ros.size)\n",
    "print(ros.shape)\n",
    "\n"
   ],
   "metadata": {
    "collapsed": false,
    "pycharm": {
     "name": "#%%\n"
    }
   }
  },
  {
   "cell_type": "code",
   "execution_count": 51,
   "outputs": [
    {
     "name": "stdout",
     "output_type": "stream",
     "text": [
      "DatetimeIndex(['2006-08-18 15:00:00+00:00', '2006-08-18 18:00:00+00:00',\n",
      "               '2006-08-18 21:00:00+00:00', '2006-08-19 00:00:00+00:00',\n",
      "               '2006-08-19 03:00:00+00:00', '2006-08-19 06:00:00+00:00',\n",
      "               '2006-08-20 00:00:00+00:00', '2006-08-20 03:00:00+00:00',\n",
      "               '2006-08-20 06:00:00+00:00', '2006-08-20 09:00:00+00:00',\n",
      "               ...\n",
      "               '2021-04-18 12:00:00+00:00', '2021-04-18 15:00:00+00:00',\n",
      "               '2021-04-18 18:00:00+00:00', '2021-04-18 21:00:00+00:00',\n",
      "               '2021-04-19 00:00:00+00:00', '2021-04-19 03:00:00+00:00',\n",
      "               '2021-04-19 06:00:00+00:00', '2021-04-19 09:00:00+00:00',\n",
      "               '2021-04-19 12:00:00+00:00', '2021-04-19 15:00:00+00:00'],\n",
      "              dtype='datetime64[ns, UTC]', name='DATE & TIME', length=21376, freq=None)\n",
      "DatetimeIndex(['2011-01-17 15:00:00+00:00', '2011-01-17 18:00:00+00:00',\n",
      "               '2011-01-17 21:00:00+00:00', '2011-01-18 00:00:00+00:00',\n",
      "               '2011-01-18 03:00:00+00:00', '2011-01-18 06:00:00+00:00',\n",
      "               '2011-01-18 09:00:00+00:00', '2011-01-18 12:00:00+00:00',\n",
      "               '2011-01-18 15:00:00+00:00', '2011-01-18 18:00:00+00:00',\n",
      "               ...\n",
      "               '2021-02-24 21:00:00+00:00', '2021-02-25 03:00:00+00:00',\n",
      "               '2021-02-25 06:00:00+00:00', '2021-02-25 15:00:00+00:00',\n",
      "               '2021-02-25 18:00:00+00:00', '2021-02-25 21:00:00+00:00',\n",
      "               '2021-02-26 03:00:00+00:00', '2021-02-26 06:00:00+00:00',\n",
      "               '2021-02-26 09:00:00+00:00', '2021-02-26 15:00:00+00:00'],\n",
      "              dtype='datetime64[ns, UTC]', name='DATE & TIME', length=16548, freq=None)\n"
     ]
    }
   ],
   "source": [
    "# See the index of the mop and ros frames\n",
    "print(mop.index)\n",
    "print(ros.index)\n",
    "\n"
   ],
   "metadata": {
    "collapsed": false,
    "pycharm": {
     "name": "#%%\n"
    }
   }
  },
  {
   "cell_type": "code",
   "execution_count": 52,
   "outputs": [],
   "source": [
    "# Merging files... You can use either method give below\n",
    "\n",
    "#data = pd.concat([mop, ros], axis=1, join=\"inner\", on=['DATE & TIME'])\n",
    "data = pd.merge(mop, ros, on=['DATE & TIME'])\n"
   ],
   "metadata": {
    "collapsed": false,
    "pycharm": {
     "name": "#%%\n"
    }
   }
  },
  {
   "cell_type": "code",
   "execution_count": 53,
   "outputs": [
    {
     "data": {
      "text/plain": "                           mop_longitude  mop_latitude  mop_wind_spd_avg  \\\nDATE & TIME                                                                \n2011-01-17 15:00:00+00:00     -54.682760     46.980036         14.066667   \n2011-01-17 18:00:00+00:00     -54.682840     46.979853         13.166667   \n2011-01-17 21:00:00+00:00     -54.685216     46.979196         12.016667   \n2011-01-18 00:00:00+00:00     -54.686185     46.979205         11.700000   \n2011-01-18 03:00:00+00:00     -54.686081     46.979246         11.900000   \n\n                           mop_wind_spd_max  mop_wind_dir_avg  \\\nDATE & TIME                                                     \n2011-01-17 15:00:00+00:00         17.550000        296.333333   \n2011-01-17 18:00:00+00:00         16.800000        305.833333   \n2011-01-17 21:00:00+00:00         15.333333        316.500000   \n2011-01-18 00:00:00+00:00         15.033333        325.333333   \n2011-01-18 03:00:00+00:00         14.983333        324.000000   \n\n                           mop_air_temp_avg  mop_air_pressure_avg  \\\nDATE & TIME                                                         \n2011-01-17 15:00:00+00:00         -1.683333           1007.000000   \n2011-01-17 18:00:00+00:00         -1.866667           1009.145000   \n2011-01-17 21:00:00+00:00         -2.083333           1012.478333   \n2011-01-18 00:00:00+00:00         -2.333333           1016.293333   \n2011-01-18 03:00:00+00:00         -2.933333           1019.525000   \n\n                           mop_air_humidity_avg  mop_air_dewpoint_avg  \\\nDATE & TIME                                                             \n2011-01-17 15:00:00+00:00                 100.1             -1.666667   \n2011-01-17 18:00:00+00:00                 100.1             -1.866667   \n2011-01-17 21:00:00+00:00                 100.1             -2.083333   \n2011-01-18 00:00:00+00:00                 100.1             -2.316667   \n2011-01-18 03:00:00+00:00                 100.1             -2.933333   \n\n                           mop_surface_temp_avg  ...  ros_air_humidity_avg  \\\nDATE & TIME                                      ...                         \n2011-01-17 15:00:00+00:00              2.158333  ...             68.300000   \n2011-01-17 18:00:00+00:00              2.153333  ...             64.800000   \n2011-01-17 21:00:00+00:00              2.256667  ...             66.350000   \n2011-01-18 00:00:00+00:00              2.271667  ...             69.166667   \n2011-01-18 03:00:00+00:00              2.178333  ...             66.783333   \n\n                           ros_air_dewpoint_avg  ros_surface_temp_avg  \\\nDATE & TIME                                                             \n2011-01-17 15:00:00+00:00             -6.450000              3.400000   \n2011-01-17 18:00:00+00:00             -7.300000              3.400000   \n2011-01-17 21:00:00+00:00             -7.566667              3.400000   \n2011-01-18 00:00:00+00:00             -7.800000              3.383333   \n2011-01-18 03:00:00+00:00             -9.033333              3.450000   \n\n                           ros_wave_ht_max  ros_wave_ht_sig  \\\nDATE & TIME                                                   \n2011-01-17 15:00:00+00:00         3.900000         2.400000   \n2011-01-17 18:00:00+00:00         3.833333         2.450000   \n2011-01-17 21:00:00+00:00         3.900000         2.233333   \n2011-01-18 00:00:00+00:00         3.600000         2.116667   \n2011-01-18 03:00:00+00:00         3.433333         2.100000   \n\n                           ros_wave_period_max  ros_wave_dir_avg  \\\nDATE & TIME                                                        \n2011-01-17 15:00:00+00:00             9.150000        261.000000   \n2011-01-17 18:00:00+00:00             9.316667        261.166667   \n2011-01-17 21:00:00+00:00             9.516667        261.333333   \n2011-01-18 00:00:00+00:00             9.683333        261.833333   \n2011-01-18 03:00:00+00:00             9.750000        263.000000   \n\n                           ros_wave_spread_avg  ros_curr_dir_avg  \\\nDATE & TIME                                                        \n2011-01-17 15:00:00+00:00            25.000000        155.400000   \n2011-01-17 18:00:00+00:00            24.833333        158.600000   \n2011-01-17 21:00:00+00:00            25.666667        151.950000   \n2011-01-18 00:00:00+00:00            25.666667        182.266667   \n2011-01-18 03:00:00+00:00            25.833333        175.950000   \n\n                           ros_curr_spd_avg  \nDATE & TIME                                  \n2011-01-17 15:00:00+00:00        232.000000  \n2011-01-17 18:00:00+00:00        221.300000  \n2011-01-17 21:00:00+00:00        154.100000  \n2011-01-18 00:00:00+00:00        185.366667  \n2011-01-18 03:00:00+00:00        195.883333  \n\n[5 rows x 34 columns]",
      "text/html": "<div>\n<style scoped>\n    .dataframe tbody tr th:only-of-type {\n        vertical-align: middle;\n    }\n\n    .dataframe tbody tr th {\n        vertical-align: top;\n    }\n\n    .dataframe thead th {\n        text-align: right;\n    }\n</style>\n<table border=\"1\" class=\"dataframe\">\n  <thead>\n    <tr style=\"text-align: right;\">\n      <th></th>\n      <th>mop_longitude</th>\n      <th>mop_latitude</th>\n      <th>mop_wind_spd_avg</th>\n      <th>mop_wind_spd_max</th>\n      <th>mop_wind_dir_avg</th>\n      <th>mop_air_temp_avg</th>\n      <th>mop_air_pressure_avg</th>\n      <th>mop_air_humidity_avg</th>\n      <th>mop_air_dewpoint_avg</th>\n      <th>mop_surface_temp_avg</th>\n      <th>...</th>\n      <th>ros_air_humidity_avg</th>\n      <th>ros_air_dewpoint_avg</th>\n      <th>ros_surface_temp_avg</th>\n      <th>ros_wave_ht_max</th>\n      <th>ros_wave_ht_sig</th>\n      <th>ros_wave_period_max</th>\n      <th>ros_wave_dir_avg</th>\n      <th>ros_wave_spread_avg</th>\n      <th>ros_curr_dir_avg</th>\n      <th>ros_curr_spd_avg</th>\n    </tr>\n    <tr>\n      <th>DATE &amp; TIME</th>\n      <th></th>\n      <th></th>\n      <th></th>\n      <th></th>\n      <th></th>\n      <th></th>\n      <th></th>\n      <th></th>\n      <th></th>\n      <th></th>\n      <th></th>\n      <th></th>\n      <th></th>\n      <th></th>\n      <th></th>\n      <th></th>\n      <th></th>\n      <th></th>\n      <th></th>\n      <th></th>\n      <th></th>\n    </tr>\n  </thead>\n  <tbody>\n    <tr>\n      <th>2011-01-17 15:00:00+00:00</th>\n      <td>-54.682760</td>\n      <td>46.980036</td>\n      <td>14.066667</td>\n      <td>17.550000</td>\n      <td>296.333333</td>\n      <td>-1.683333</td>\n      <td>1007.000000</td>\n      <td>100.1</td>\n      <td>-1.666667</td>\n      <td>2.158333</td>\n      <td>...</td>\n      <td>68.300000</td>\n      <td>-6.450000</td>\n      <td>3.400000</td>\n      <td>3.900000</td>\n      <td>2.400000</td>\n      <td>9.150000</td>\n      <td>261.000000</td>\n      <td>25.000000</td>\n      <td>155.400000</td>\n      <td>232.000000</td>\n    </tr>\n    <tr>\n      <th>2011-01-17 18:00:00+00:00</th>\n      <td>-54.682840</td>\n      <td>46.979853</td>\n      <td>13.166667</td>\n      <td>16.800000</td>\n      <td>305.833333</td>\n      <td>-1.866667</td>\n      <td>1009.145000</td>\n      <td>100.1</td>\n      <td>-1.866667</td>\n      <td>2.153333</td>\n      <td>...</td>\n      <td>64.800000</td>\n      <td>-7.300000</td>\n      <td>3.400000</td>\n      <td>3.833333</td>\n      <td>2.450000</td>\n      <td>9.316667</td>\n      <td>261.166667</td>\n      <td>24.833333</td>\n      <td>158.600000</td>\n      <td>221.300000</td>\n    </tr>\n    <tr>\n      <th>2011-01-17 21:00:00+00:00</th>\n      <td>-54.685216</td>\n      <td>46.979196</td>\n      <td>12.016667</td>\n      <td>15.333333</td>\n      <td>316.500000</td>\n      <td>-2.083333</td>\n      <td>1012.478333</td>\n      <td>100.1</td>\n      <td>-2.083333</td>\n      <td>2.256667</td>\n      <td>...</td>\n      <td>66.350000</td>\n      <td>-7.566667</td>\n      <td>3.400000</td>\n      <td>3.900000</td>\n      <td>2.233333</td>\n      <td>9.516667</td>\n      <td>261.333333</td>\n      <td>25.666667</td>\n      <td>151.950000</td>\n      <td>154.100000</td>\n    </tr>\n    <tr>\n      <th>2011-01-18 00:00:00+00:00</th>\n      <td>-54.686185</td>\n      <td>46.979205</td>\n      <td>11.700000</td>\n      <td>15.033333</td>\n      <td>325.333333</td>\n      <td>-2.333333</td>\n      <td>1016.293333</td>\n      <td>100.1</td>\n      <td>-2.316667</td>\n      <td>2.271667</td>\n      <td>...</td>\n      <td>69.166667</td>\n      <td>-7.800000</td>\n      <td>3.383333</td>\n      <td>3.600000</td>\n      <td>2.116667</td>\n      <td>9.683333</td>\n      <td>261.833333</td>\n      <td>25.666667</td>\n      <td>182.266667</td>\n      <td>185.366667</td>\n    </tr>\n    <tr>\n      <th>2011-01-18 03:00:00+00:00</th>\n      <td>-54.686081</td>\n      <td>46.979246</td>\n      <td>11.900000</td>\n      <td>14.983333</td>\n      <td>324.000000</td>\n      <td>-2.933333</td>\n      <td>1019.525000</td>\n      <td>100.1</td>\n      <td>-2.933333</td>\n      <td>2.178333</td>\n      <td>...</td>\n      <td>66.783333</td>\n      <td>-9.033333</td>\n      <td>3.450000</td>\n      <td>3.433333</td>\n      <td>2.100000</td>\n      <td>9.750000</td>\n      <td>263.000000</td>\n      <td>25.833333</td>\n      <td>175.950000</td>\n      <td>195.883333</td>\n    </tr>\n  </tbody>\n</table>\n<p>5 rows × 34 columns</p>\n</div>"
     },
     "execution_count": 53,
     "metadata": {},
     "output_type": "execute_result"
    }
   ],
   "source": [
    "data.head()\n",
    "\n"
   ],
   "metadata": {
    "collapsed": false,
    "pycharm": {
     "name": "#%%\n"
    }
   }
  },
  {
   "cell_type": "code",
   "execution_count": 54,
   "outputs": [
    {
     "data": {
      "text/plain": "       mop_longitude  mop_latitude  mop_wind_spd_avg  mop_wind_spd_max  \\\ncount    7311.000000   7311.000000       7311.000000       7311.000000   \nmean      -54.685303     46.980325          8.095068         10.136062   \nstd         0.095453      0.040183          3.736593          4.626733   \nmin       -55.253495     46.616496          0.050000          0.366667   \n25%       -54.699360     46.974275          5.266667          6.600000   \n50%       -54.687306     46.976431          7.825000          9.716667   \n75%       -54.685059     46.982218         10.666667         13.183333   \nmax       -52.638026     49.015767         23.333333         30.066667   \n\n       mop_wind_dir_avg  mop_air_temp_avg  mop_air_pressure_avg  \\\ncount       7311.000000       7311.000000           7311.000000   \nmean         208.716695          4.899803           1014.412582   \nstd           96.324271          7.202467             11.012277   \nmin            0.000000        -13.020000            965.508333   \n25%          135.000000         -0.626667           1007.373750   \n50%          232.500000          3.450000           1015.375000   \n75%          290.666667         11.333333           1021.913333   \nmax          359.666667         19.916667           1046.820000   \n\n       mop_air_humidity_avg  mop_air_dewpoint_avg  mop_surface_temp_avg  ...  \\\ncount           7311.000000           7311.000000           7311.000000  ...   \nmean              90.438094              3.219740              6.534966  ...   \nstd               12.455882              8.322158              5.862064  ...   \nmin                0.000000            -95.300000             -5.816667  ...   \n25%               82.000000             -2.291667              1.062500  ...   \n50%               95.950000              2.100000              5.466667  ...   \n75%              100.100000              9.633333             11.741667  ...   \nmax              102.000000             19.633333             18.972500  ...   \n\n       ros_air_humidity_avg  ros_air_dewpoint_avg  ros_surface_temp_avg  \\\ncount           7311.000000           7311.000000           7311.000000   \nmean              94.346412              3.554814              6.969878   \nstd               12.296229              7.799267              5.786525   \nmin               45.666667            -18.425000             -5.300000   \n25%               86.663333             -2.133333              1.433333   \n50%               99.450000              2.066667              6.200000   \n75%              101.466667             10.216667             12.033333   \nmax              110.000000             20.700000             19.660000   \n\n       ros_wave_ht_max  ros_wave_ht_sig  ros_wave_period_max  \\\ncount      7311.000000      7311.000000          7311.000000   \nmean          2.247474         1.377397             8.240363   \nstd           1.536335         0.940326             3.039962   \nmin           0.000000         0.000000             2.000000   \n25%           1.200000         0.716667             6.073333   \n50%           1.850000         1.116667             8.400000   \n75%           2.933333         1.800000            10.083333   \nmax          21.900000         8.266667            33.300000   \n\n       ros_wave_dir_avg  ros_wave_spread_avg  ros_curr_dir_avg  \\\ncount       7311.000000          7311.000000       7311.000000   \nmean         221.625747            30.219840        189.632126   \nstd           65.476166             4.926322         68.546647   \nmin            4.333333            17.333333          0.500000   \n25%          230.333333            27.333333        143.528333   \n50%          242.000000            29.333333        191.983333   \n75%          250.500000            32.000000        238.625000   \nmax          355.333333            80.000000        356.733333   \n\n       ros_curr_spd_avg  \ncount       7311.000000  \nmean         168.698271  \nstd          127.016431  \nmin            9.783333  \n25%           85.725000  \n50%          142.483333  \n75%          220.791667  \nmax         2176.416667  \n\n[8 rows x 34 columns]",
      "text/html": "<div>\n<style scoped>\n    .dataframe tbody tr th:only-of-type {\n        vertical-align: middle;\n    }\n\n    .dataframe tbody tr th {\n        vertical-align: top;\n    }\n\n    .dataframe thead th {\n        text-align: right;\n    }\n</style>\n<table border=\"1\" class=\"dataframe\">\n  <thead>\n    <tr style=\"text-align: right;\">\n      <th></th>\n      <th>mop_longitude</th>\n      <th>mop_latitude</th>\n      <th>mop_wind_spd_avg</th>\n      <th>mop_wind_spd_max</th>\n      <th>mop_wind_dir_avg</th>\n      <th>mop_air_temp_avg</th>\n      <th>mop_air_pressure_avg</th>\n      <th>mop_air_humidity_avg</th>\n      <th>mop_air_dewpoint_avg</th>\n      <th>mop_surface_temp_avg</th>\n      <th>...</th>\n      <th>ros_air_humidity_avg</th>\n      <th>ros_air_dewpoint_avg</th>\n      <th>ros_surface_temp_avg</th>\n      <th>ros_wave_ht_max</th>\n      <th>ros_wave_ht_sig</th>\n      <th>ros_wave_period_max</th>\n      <th>ros_wave_dir_avg</th>\n      <th>ros_wave_spread_avg</th>\n      <th>ros_curr_dir_avg</th>\n      <th>ros_curr_spd_avg</th>\n    </tr>\n  </thead>\n  <tbody>\n    <tr>\n      <th>count</th>\n      <td>7311.000000</td>\n      <td>7311.000000</td>\n      <td>7311.000000</td>\n      <td>7311.000000</td>\n      <td>7311.000000</td>\n      <td>7311.000000</td>\n      <td>7311.000000</td>\n      <td>7311.000000</td>\n      <td>7311.000000</td>\n      <td>7311.000000</td>\n      <td>...</td>\n      <td>7311.000000</td>\n      <td>7311.000000</td>\n      <td>7311.000000</td>\n      <td>7311.000000</td>\n      <td>7311.000000</td>\n      <td>7311.000000</td>\n      <td>7311.000000</td>\n      <td>7311.000000</td>\n      <td>7311.000000</td>\n      <td>7311.000000</td>\n    </tr>\n    <tr>\n      <th>mean</th>\n      <td>-54.685303</td>\n      <td>46.980325</td>\n      <td>8.095068</td>\n      <td>10.136062</td>\n      <td>208.716695</td>\n      <td>4.899803</td>\n      <td>1014.412582</td>\n      <td>90.438094</td>\n      <td>3.219740</td>\n      <td>6.534966</td>\n      <td>...</td>\n      <td>94.346412</td>\n      <td>3.554814</td>\n      <td>6.969878</td>\n      <td>2.247474</td>\n      <td>1.377397</td>\n      <td>8.240363</td>\n      <td>221.625747</td>\n      <td>30.219840</td>\n      <td>189.632126</td>\n      <td>168.698271</td>\n    </tr>\n    <tr>\n      <th>std</th>\n      <td>0.095453</td>\n      <td>0.040183</td>\n      <td>3.736593</td>\n      <td>4.626733</td>\n      <td>96.324271</td>\n      <td>7.202467</td>\n      <td>11.012277</td>\n      <td>12.455882</td>\n      <td>8.322158</td>\n      <td>5.862064</td>\n      <td>...</td>\n      <td>12.296229</td>\n      <td>7.799267</td>\n      <td>5.786525</td>\n      <td>1.536335</td>\n      <td>0.940326</td>\n      <td>3.039962</td>\n      <td>65.476166</td>\n      <td>4.926322</td>\n      <td>68.546647</td>\n      <td>127.016431</td>\n    </tr>\n    <tr>\n      <th>min</th>\n      <td>-55.253495</td>\n      <td>46.616496</td>\n      <td>0.050000</td>\n      <td>0.366667</td>\n      <td>0.000000</td>\n      <td>-13.020000</td>\n      <td>965.508333</td>\n      <td>0.000000</td>\n      <td>-95.300000</td>\n      <td>-5.816667</td>\n      <td>...</td>\n      <td>45.666667</td>\n      <td>-18.425000</td>\n      <td>-5.300000</td>\n      <td>0.000000</td>\n      <td>0.000000</td>\n      <td>2.000000</td>\n      <td>4.333333</td>\n      <td>17.333333</td>\n      <td>0.500000</td>\n      <td>9.783333</td>\n    </tr>\n    <tr>\n      <th>25%</th>\n      <td>-54.699360</td>\n      <td>46.974275</td>\n      <td>5.266667</td>\n      <td>6.600000</td>\n      <td>135.000000</td>\n      <td>-0.626667</td>\n      <td>1007.373750</td>\n      <td>82.000000</td>\n      <td>-2.291667</td>\n      <td>1.062500</td>\n      <td>...</td>\n      <td>86.663333</td>\n      <td>-2.133333</td>\n      <td>1.433333</td>\n      <td>1.200000</td>\n      <td>0.716667</td>\n      <td>6.073333</td>\n      <td>230.333333</td>\n      <td>27.333333</td>\n      <td>143.528333</td>\n      <td>85.725000</td>\n    </tr>\n    <tr>\n      <th>50%</th>\n      <td>-54.687306</td>\n      <td>46.976431</td>\n      <td>7.825000</td>\n      <td>9.716667</td>\n      <td>232.500000</td>\n      <td>3.450000</td>\n      <td>1015.375000</td>\n      <td>95.950000</td>\n      <td>2.100000</td>\n      <td>5.466667</td>\n      <td>...</td>\n      <td>99.450000</td>\n      <td>2.066667</td>\n      <td>6.200000</td>\n      <td>1.850000</td>\n      <td>1.116667</td>\n      <td>8.400000</td>\n      <td>242.000000</td>\n      <td>29.333333</td>\n      <td>191.983333</td>\n      <td>142.483333</td>\n    </tr>\n    <tr>\n      <th>75%</th>\n      <td>-54.685059</td>\n      <td>46.982218</td>\n      <td>10.666667</td>\n      <td>13.183333</td>\n      <td>290.666667</td>\n      <td>11.333333</td>\n      <td>1021.913333</td>\n      <td>100.100000</td>\n      <td>9.633333</td>\n      <td>11.741667</td>\n      <td>...</td>\n      <td>101.466667</td>\n      <td>10.216667</td>\n      <td>12.033333</td>\n      <td>2.933333</td>\n      <td>1.800000</td>\n      <td>10.083333</td>\n      <td>250.500000</td>\n      <td>32.000000</td>\n      <td>238.625000</td>\n      <td>220.791667</td>\n    </tr>\n    <tr>\n      <th>max</th>\n      <td>-52.638026</td>\n      <td>49.015767</td>\n      <td>23.333333</td>\n      <td>30.066667</td>\n      <td>359.666667</td>\n      <td>19.916667</td>\n      <td>1046.820000</td>\n      <td>102.000000</td>\n      <td>19.633333</td>\n      <td>18.972500</td>\n      <td>...</td>\n      <td>110.000000</td>\n      <td>20.700000</td>\n      <td>19.660000</td>\n      <td>21.900000</td>\n      <td>8.266667</td>\n      <td>33.300000</td>\n      <td>355.333333</td>\n      <td>80.000000</td>\n      <td>356.733333</td>\n      <td>2176.416667</td>\n    </tr>\n  </tbody>\n</table>\n<p>8 rows × 34 columns</p>\n</div>"
     },
     "execution_count": 54,
     "metadata": {},
     "output_type": "execute_result"
    }
   ],
   "source": [
    "data.describe()\n",
    "\n"
   ],
   "metadata": {
    "collapsed": false,
    "pycharm": {
     "name": "#%%\n"
    }
   }
  },
  {
   "cell_type": "code",
   "execution_count": 55,
   "outputs": [
    {
     "data": {
      "text/plain": "Index(['mop_longitude', 'mop_latitude', 'mop_wind_spd_avg', 'mop_wind_spd_max',\n       'mop_wind_dir_avg', 'mop_air_temp_avg', 'mop_air_pressure_avg',\n       'mop_air_humidity_avg', 'mop_air_dewpoint_avg', 'mop_surface_temp_avg',\n       'mop_wave_ht_max', 'mop_wave_ht_sig', 'mop_wave_period_max',\n       'mop_wave_dir_avg', 'mop_wave_spread_avg', 'mop_curr_dir_avg',\n       'mop_curr_spd_avg', 'ros_longitude', 'ros_latitude', 'ros_wind_spd_avg',\n       'ros_wind_spd_max', 'ros_wind_dir_avg', 'ros_air_temp_avg',\n       'ros_air_pressure_avg', 'ros_air_humidity_avg', 'ros_air_dewpoint_avg',\n       'ros_surface_temp_avg', 'ros_wave_ht_max', 'ros_wave_ht_sig',\n       'ros_wave_period_max', 'ros_wave_dir_avg', 'ros_wave_spread_avg',\n       'ros_curr_dir_avg', 'ros_curr_spd_avg'],\n      dtype='object')"
     },
     "execution_count": 55,
     "metadata": {},
     "output_type": "execute_result"
    }
   ],
   "source": [
    "data.columns\n",
    "\n"
   ],
   "metadata": {
    "collapsed": false,
    "pycharm": {
     "name": "#%%\n"
    }
   }
  },
  {
   "cell_type": "code",
   "execution_count": 56,
   "outputs": [
    {
     "name": "stdout",
     "output_type": "stream",
     "text": [
      "                      mop_longitude  mop_latitude  mop_wind_spd_avg  \\\n",
      "mop_longitude              1.000000      0.676228         -0.092140   \n",
      "mop_latitude               0.676228      1.000000         -0.079718   \n",
      "mop_wind_spd_avg          -0.092140     -0.079718          1.000000   \n",
      "mop_wind_spd_max          -0.067999     -0.058874          0.994393   \n",
      "mop_wind_dir_avg          -0.016594     -0.009819          0.094766   \n",
      "mop_air_temp_avg           0.017717     -0.002468         -0.306586   \n",
      "mop_air_pressure_avg       0.011588     -0.013288         -0.374001   \n",
      "mop_air_humidity_avg      -0.018248      0.004888          0.051687   \n",
      "mop_air_dewpoint_avg       0.010184     -0.002393         -0.235899   \n",
      "mop_surface_temp_avg       0.015138     -0.006526         -0.282762   \n",
      "mop_wave_ht_max           -0.088519     -0.073181          0.653586   \n",
      "mop_wave_ht_sig           -0.087842     -0.072564          0.647298   \n",
      "mop_wave_period_max        0.305775      0.197585         -0.076551   \n",
      "mop_wave_dir_avg          -0.011961      0.008170         -0.027436   \n",
      "mop_wave_spread_avg        0.384327      0.288733         -0.362055   \n",
      "mop_curr_dir_avg          -0.115210     -0.071876         -0.109073   \n",
      "mop_curr_spd_avg           0.251196      0.180868          0.262901   \n",
      "ros_longitude              0.005946     -0.008595          0.094162   \n",
      "ros_latitude               0.017023      0.041682         -0.059148   \n",
      "ros_wind_spd_avg           0.005262     -0.000595          0.794686   \n",
      "ros_wind_spd_max           0.002908     -0.001570          0.798903   \n",
      "ros_wind_dir_avg           0.048075      0.028305          0.087124   \n",
      "ros_air_temp_avg           0.017884     -0.002956         -0.283130   \n",
      "ros_air_pressure_avg       0.019155     -0.005423         -0.389148   \n",
      "ros_air_humidity_avg      -0.081054     -0.054924          0.029047   \n",
      "ros_air_dewpoint_avg      -0.003796     -0.016598         -0.263298   \n",
      "ros_surface_temp_avg       0.014084     -0.006220         -0.277743   \n",
      "ros_wave_ht_max           -0.018110     -0.012305          0.562053   \n",
      "ros_wave_ht_sig           -0.019157     -0.012068          0.572963   \n",
      "ros_wave_period_max       -0.059576     -0.039129          0.015276   \n",
      "ros_wave_dir_avg          -0.012564     -0.006776         -0.173652   \n",
      "ros_wave_spread_avg        0.015359      0.008194          0.005198   \n",
      "ros_curr_dir_avg           0.020795      0.012280          0.061801   \n",
      "ros_curr_spd_avg          -0.032283     -0.023025          0.272132   \n",
      "\n",
      "                      mop_wind_spd_max  mop_wind_dir_avg  mop_air_temp_avg  \\\n",
      "mop_longitude                -0.067999         -0.016594          0.017717   \n",
      "mop_latitude                 -0.058874         -0.009819         -0.002468   \n",
      "mop_wind_spd_avg              0.994393          0.094766         -0.306586   \n",
      "mop_wind_spd_max              1.000000          0.112038         -0.345153   \n",
      "mop_wind_dir_avg              0.112038          1.000000         -0.133925   \n",
      "mop_air_temp_avg             -0.345153         -0.133925          1.000000   \n",
      "mop_air_pressure_avg         -0.378269         -0.034089          0.001349   \n",
      "mop_air_humidity_avg          0.040097         -0.052498         -0.032591   \n",
      "mop_air_dewpoint_avg         -0.271264         -0.119813          0.854400   \n",
      "mop_surface_temp_avg         -0.308775         -0.075305          0.927336   \n",
      "mop_wave_ht_max               0.679253          0.237510         -0.283861   \n",
      "mop_wave_ht_sig               0.673869          0.242234         -0.288494   \n",
      "mop_wave_period_max          -0.044776          0.153033         -0.142243   \n",
      "mop_wave_dir_avg             -0.005861          0.644943         -0.104766   \n",
      "mop_wave_spread_avg          -0.356385         -0.176307          0.152717   \n",
      "mop_curr_dir_avg             -0.113676         -0.269005         -0.150913   \n",
      "mop_curr_spd_avg              0.287761          0.000004         -0.344686   \n",
      "ros_longitude                 0.097216          0.036797         -0.133469   \n",
      "ros_latitude                 -0.058112          0.059867          0.069488   \n",
      "ros_wind_spd_avg              0.791310          0.019195         -0.137272   \n",
      "ros_wind_spd_max              0.799499          0.034318         -0.176781   \n",
      "ros_wind_dir_avg              0.102761          0.694379         -0.092782   \n",
      "ros_air_temp_avg             -0.322419         -0.129616          0.992617   \n",
      "ros_air_pressure_avg         -0.394501         -0.066304          0.029984   \n",
      "ros_air_humidity_avg          0.014443         -0.170283          0.044004   \n",
      "ros_air_dewpoint_avg         -0.304602         -0.167065          0.960730   \n",
      "ros_surface_temp_avg         -0.303583         -0.076614          0.921404   \n",
      "ros_wave_ht_max               0.587327          0.314157         -0.289248   \n",
      "ros_wave_ht_sig               0.599936          0.333174         -0.294728   \n",
      "ros_wave_period_max           0.041819          0.207844         -0.255855   \n",
      "ros_wave_dir_avg             -0.156672          0.504151          0.009621   \n",
      "ros_wave_spread_avg           0.003408         -0.065097         -0.050071   \n",
      "ros_curr_dir_avg              0.069351         -0.087397         -0.196363   \n",
      "ros_curr_spd_avg              0.283815          0.102988         -0.161171   \n",
      "\n",
      "                      mop_air_pressure_avg  mop_air_humidity_avg  \\\n",
      "mop_longitude                     0.011588             -0.018248   \n",
      "mop_latitude                     -0.013288              0.004888   \n",
      "mop_wind_spd_avg                 -0.374001              0.051687   \n",
      "mop_wind_spd_max                 -0.378269              0.040097   \n",
      "mop_wind_dir_avg                 -0.034089             -0.052498   \n",
      "mop_air_temp_avg                  0.001349             -0.032591   \n",
      "mop_air_pressure_avg              1.000000             -0.165829   \n",
      "mop_air_humidity_avg             -0.165829              1.000000   \n",
      "mop_air_dewpoint_avg             -0.070246              0.339908   \n",
      "mop_surface_temp_avg              0.077282             -0.147285   \n",
      "mop_wave_ht_max                  -0.480873              0.097979   \n",
      "mop_wave_ht_sig                  -0.480640              0.095070   \n",
      "mop_wave_period_max              -0.096768             -0.049032   \n",
      "mop_wave_dir_avg                  0.009477             -0.099466   \n",
      "mop_wave_spread_avg               0.015534             -0.016504   \n",
      "mop_curr_dir_avg                  0.141356             -0.041267   \n",
      "mop_curr_spd_avg                 -0.092359             -0.005796   \n",
      "ros_longitude                    -0.107700             -0.046124   \n",
      "ros_latitude                      0.097022              0.134078   \n",
      "ros_wind_spd_avg                 -0.398855             -0.030382   \n",
      "ros_wind_spd_max                 -0.402119             -0.039574   \n",
      "ros_wind_dir_avg                 -0.018320             -0.127730   \n",
      "ros_air_temp_avg                 -0.020151             -0.023082   \n",
      "ros_air_pressure_avg              0.993911             -0.161324   \n",
      "ros_air_humidity_avg             -0.104649              0.444779   \n",
      "ros_air_dewpoint_avg             -0.047669              0.095327   \n",
      "ros_surface_temp_avg              0.072919             -0.152963   \n",
      "ros_wave_ht_max                  -0.367768              0.035580   \n",
      "ros_wave_ht_sig                  -0.377837              0.039782   \n",
      "ros_wave_period_max              -0.150902             -0.049810   \n",
      "ros_wave_dir_avg                  0.039313             -0.050526   \n",
      "ros_wave_spread_avg              -0.105298             -0.121325   \n",
      "ros_curr_dir_avg                  0.014784             -0.096648   \n",
      "ros_curr_spd_avg                 -0.096309              0.077390   \n",
      "\n",
      "                      mop_air_dewpoint_avg  mop_surface_temp_avg  ...  \\\n",
      "mop_longitude                     0.010184              0.015138  ...   \n",
      "mop_latitude                     -0.002393             -0.006526  ...   \n",
      "mop_wind_spd_avg                 -0.235899             -0.282762  ...   \n",
      "mop_wind_spd_max                 -0.271264             -0.308775  ...   \n",
      "mop_wind_dir_avg                 -0.119813             -0.075305  ...   \n",
      "mop_air_temp_avg                  0.854400              0.927336  ...   \n",
      "mop_air_pressure_avg             -0.070246              0.077282  ...   \n",
      "mop_air_humidity_avg              0.339908             -0.147285  ...   \n",
      "mop_air_dewpoint_avg              1.000000              0.777898  ...   \n",
      "mop_surface_temp_avg              0.777898              1.000000  ...   \n",
      "mop_wave_ht_max                  -0.211902             -0.309664  ...   \n",
      "mop_wave_ht_sig                  -0.216590             -0.314383  ...   \n",
      "mop_wave_period_max              -0.139995             -0.141580  ...   \n",
      "mop_wave_dir_avg                 -0.115832             -0.053574  ...   \n",
      "mop_wave_spread_avg               0.120931              0.105646  ...   \n",
      "mop_curr_dir_avg                 -0.137484             -0.136248  ...   \n",
      "mop_curr_spd_avg                 -0.296798             -0.270359  ...   \n",
      "ros_longitude                    -0.117631             -0.155361  ...   \n",
      "ros_latitude                      0.073545              0.070548  ...   \n",
      "ros_wind_spd_avg                 -0.110854             -0.160291  ...   \n",
      "ros_wind_spd_max                 -0.146635             -0.192374  ...   \n",
      "ros_wind_dir_avg                 -0.097882             -0.040120  ...   \n",
      "ros_air_temp_avg                  0.852097              0.915335  ...   \n",
      "ros_air_pressure_avg             -0.045606              0.100125  ...   \n",
      "ros_air_humidity_avg              0.137877             -0.052893  ...   \n",
      "ros_air_dewpoint_avg              0.851257              0.862039  ...   \n",
      "ros_surface_temp_avg              0.772611              0.992606  ...   \n",
      "ros_wave_ht_max                  -0.234895             -0.300444  ...   \n",
      "ros_wave_ht_sig                  -0.238520             -0.304833  ...   \n",
      "ros_wave_period_max              -0.234479             -0.247773  ...   \n",
      "ros_wave_dir_avg                 -0.003131              0.034812  ...   \n",
      "ros_wave_spread_avg              -0.065078             -0.073003  ...   \n",
      "ros_curr_dir_avg                 -0.201443             -0.147009  ...   \n",
      "ros_curr_spd_avg                 -0.112705             -0.116081  ...   \n",
      "\n",
      "                      ros_air_humidity_avg  ros_air_dewpoint_avg  \\\n",
      "mop_longitude                    -0.081054             -0.003796   \n",
      "mop_latitude                     -0.054924             -0.016598   \n",
      "mop_wind_spd_avg                  0.029047             -0.263298   \n",
      "mop_wind_spd_max                  0.014443             -0.304602   \n",
      "mop_wind_dir_avg                 -0.170283             -0.167065   \n",
      "mop_air_temp_avg                  0.044004              0.960730   \n",
      "mop_air_pressure_avg             -0.104649             -0.047669   \n",
      "mop_air_humidity_avg              0.444779              0.095327   \n",
      "mop_air_dewpoint_avg              0.137877              0.851257   \n",
      "mop_surface_temp_avg             -0.052893              0.862039   \n",
      "mop_wave_ht_max                   0.045105             -0.229000   \n",
      "mop_wave_ht_sig                   0.042838             -0.234227   \n",
      "mop_wave_period_max              -0.081165             -0.147317   \n",
      "mop_wave_dir_avg                 -0.127344             -0.136759   \n",
      "mop_wave_spread_avg               0.008073              0.144730   \n",
      "mop_curr_dir_avg                  0.055298             -0.138663   \n",
      "mop_curr_spd_avg                  0.008192             -0.329229   \n",
      "ros_longitude                     0.005137             -0.115923   \n",
      "ros_latitude                      0.038639              0.054472   \n",
      "ros_wind_spd_avg                 -0.021311             -0.108859   \n",
      "ros_wind_spd_max                 -0.033592             -0.150034   \n",
      "ros_wind_dir_avg                 -0.157213             -0.118962   \n",
      "ros_air_temp_avg                  0.045654              0.968066   \n",
      "ros_air_pressure_avg             -0.104757             -0.021951   \n",
      "ros_air_humidity_avg              1.000000              0.293461   \n",
      "ros_air_dewpoint_avg              0.293461              1.000000   \n",
      "ros_surface_temp_avg             -0.052568              0.860002   \n",
      "ros_wave_ht_max                  -0.021594             -0.257000   \n",
      "ros_wave_ht_sig                  -0.020053             -0.260398   \n",
      "ros_wave_period_max              -0.081070             -0.258731   \n",
      "ros_wave_dir_avg                 -0.085176             -0.011308   \n",
      "ros_wave_spread_avg              -0.010781             -0.051690   \n",
      "ros_curr_dir_avg                 -0.062531             -0.205726   \n",
      "ros_curr_spd_avg                  0.101197             -0.134348   \n",
      "\n",
      "                      ros_surface_temp_avg  ros_wave_ht_max  ros_wave_ht_sig  \\\n",
      "mop_longitude                     0.014084        -0.018110        -0.019157   \n",
      "mop_latitude                     -0.006220        -0.012305        -0.012068   \n",
      "mop_wind_spd_avg                 -0.277743         0.562053         0.572963   \n",
      "mop_wind_spd_max                 -0.303583         0.587327         0.599936   \n",
      "mop_wind_dir_avg                 -0.076614         0.314157         0.333174   \n",
      "mop_air_temp_avg                  0.921404        -0.289248        -0.294728   \n",
      "mop_air_pressure_avg              0.072919        -0.367768        -0.377837   \n",
      "mop_air_humidity_avg             -0.152963         0.035580         0.039782   \n",
      "mop_air_dewpoint_avg              0.772611        -0.234895        -0.238520   \n",
      "mop_surface_temp_avg              0.992606        -0.300444        -0.304833   \n",
      "mop_wave_ht_max                  -0.303004         0.858697         0.894411   \n",
      "mop_wave_ht_sig                  -0.307843         0.868225         0.904415   \n",
      "mop_wave_period_max              -0.131209         0.295336         0.313646   \n",
      "mop_wave_dir_avg                 -0.051042         0.275099         0.292729   \n",
      "mop_wave_spread_avg               0.114800        -0.307766        -0.319907   \n",
      "mop_curr_dir_avg                 -0.130186        -0.264327        -0.276129   \n",
      "mop_curr_spd_avg                 -0.261465         0.189434         0.194955   \n",
      "ros_longitude                    -0.169585         0.147596         0.080314   \n",
      "ros_latitude                      0.078735        -0.029301        -0.001792   \n",
      "ros_wind_spd_avg                 -0.153267         0.544247         0.560438   \n",
      "ros_wind_spd_max                 -0.185089         0.559585         0.575409   \n",
      "ros_wind_dir_avg                 -0.038712         0.312840         0.328490   \n",
      "ros_air_temp_avg                  0.913150        -0.263056        -0.266845   \n",
      "ros_air_pressure_avg              0.096999        -0.400067        -0.410610   \n",
      "ros_air_humidity_avg             -0.052568        -0.021594        -0.020053   \n",
      "ros_air_dewpoint_avg              0.860002        -0.257000        -0.260398   \n",
      "ros_surface_temp_avg              1.000000        -0.299757        -0.301741   \n",
      "ros_wave_ht_max                  -0.299757         1.000000         0.982644   \n",
      "ros_wave_ht_sig                  -0.301741         0.982644         1.000000   \n",
      "ros_wave_period_max              -0.250511         0.419265         0.405926   \n",
      "ros_wave_dir_avg                  0.035293         0.161402         0.182560   \n",
      "ros_wave_spread_avg              -0.080309        -0.137986        -0.186294   \n",
      "ros_curr_dir_avg                 -0.139165        -0.050676        -0.058319   \n",
      "ros_curr_spd_avg                 -0.120053         0.291892         0.288777   \n",
      "\n",
      "                      ros_wave_period_max  ros_wave_dir_avg  \\\n",
      "mop_longitude                   -0.059576         -0.012564   \n",
      "mop_latitude                    -0.039129         -0.006776   \n",
      "mop_wind_spd_avg                 0.015276         -0.173652   \n",
      "mop_wind_spd_max                 0.041819         -0.156672   \n",
      "mop_wind_dir_avg                 0.207844          0.504151   \n",
      "mop_air_temp_avg                -0.255855          0.009621   \n",
      "mop_air_pressure_avg            -0.150902          0.039313   \n",
      "mop_air_humidity_avg            -0.049810         -0.050526   \n",
      "mop_air_dewpoint_avg            -0.234479         -0.003131   \n",
      "mop_surface_temp_avg            -0.247773          0.034812   \n",
      "mop_wave_ht_max                  0.414889          0.091074   \n",
      "mop_wave_ht_sig                  0.424450          0.096318   \n",
      "mop_wave_period_max              0.555726          0.268053   \n",
      "mop_wave_dir_avg                 0.272103          0.768515   \n",
      "mop_wave_spread_avg             -0.030218         -0.039715   \n",
      "mop_curr_dir_avg                -0.047514         -0.203630   \n",
      "mop_curr_spd_avg                 0.055798         -0.087848   \n",
      "ros_longitude                    0.436471         -0.038104   \n",
      "ros_latitude                    -0.152251          0.100171   \n",
      "ros_wind_spd_avg                -0.097441         -0.207981   \n",
      "ros_wind_spd_max                -0.065580         -0.195893   \n",
      "ros_wind_dir_avg                 0.195468          0.506490   \n",
      "ros_air_temp_avg                -0.249673          0.010556   \n",
      "ros_air_pressure_avg            -0.161683          0.023181   \n",
      "ros_air_humidity_avg            -0.081070         -0.085176   \n",
      "ros_air_dewpoint_avg            -0.258731         -0.011308   \n",
      "ros_surface_temp_avg            -0.250511          0.035293   \n",
      "ros_wave_ht_max                  0.419265          0.161402   \n",
      "ros_wave_ht_sig                  0.405926          0.182560   \n",
      "ros_wave_period_max              1.000000          0.360976   \n",
      "ros_wave_dir_avg                 0.360976          1.000000   \n",
      "ros_wave_spread_avg              0.275740          0.004981   \n",
      "ros_curr_dir_avg                 0.036445         -0.138276   \n",
      "ros_curr_spd_avg                 0.147408         -0.001242   \n",
      "\n",
      "                      ros_wave_spread_avg  ros_curr_dir_avg  ros_curr_spd_avg  \n",
      "mop_longitude                    0.015359          0.020795         -0.032283  \n",
      "mop_latitude                     0.008194          0.012280         -0.023025  \n",
      "mop_wind_spd_avg                 0.005198          0.061801          0.272132  \n",
      "mop_wind_spd_max                 0.003408          0.069351          0.283815  \n",
      "mop_wind_dir_avg                -0.065097         -0.087397          0.102988  \n",
      "mop_air_temp_avg                -0.050071         -0.196363         -0.161171  \n",
      "mop_air_pressure_avg            -0.105298          0.014784         -0.096309  \n",
      "mop_air_humidity_avg            -0.121325         -0.096648          0.077390  \n",
      "mop_air_dewpoint_avg            -0.065078         -0.201443         -0.112705  \n",
      "mop_surface_temp_avg            -0.073003         -0.147009         -0.116081  \n",
      "mop_wave_ht_max                 -0.062173         -0.031661          0.279498  \n",
      "mop_wave_ht_sig                 -0.062112         -0.032025          0.279541  \n",
      "mop_wave_period_max              0.043026         -0.013270          0.040195  \n",
      "mop_wave_dir_avg                -0.014767         -0.119565          0.073085  \n",
      "mop_wave_spread_avg              0.267897         -0.045484         -0.144625  \n",
      "mop_curr_dir_avg                 0.119493          0.165808         -0.110888  \n",
      "mop_curr_spd_avg                 0.037502          0.159574          0.177904  \n",
      "ros_longitude                    0.580753         -0.021840          0.181392  \n",
      "ros_latitude                    -0.363154         -0.121053          0.014677  \n",
      "ros_wind_spd_avg                -0.063902         -0.035673          0.145783  \n",
      "ros_wind_spd_max                -0.039587         -0.022259          0.153492  \n",
      "ros_wind_dir_avg                -0.064790         -0.129649          0.068183  \n",
      "ros_air_temp_avg                -0.050218         -0.198061         -0.165229  \n",
      "ros_air_pressure_avg            -0.102249          0.016370         -0.114813  \n",
      "ros_air_humidity_avg            -0.010781         -0.062531          0.101197  \n",
      "ros_air_dewpoint_avg            -0.051690         -0.205726         -0.134348  \n",
      "ros_surface_temp_avg            -0.080309         -0.139165         -0.120053  \n",
      "ros_wave_ht_max                 -0.137986         -0.050676          0.291892  \n",
      "ros_wave_ht_sig                 -0.186294         -0.058319          0.288777  \n",
      "ros_wave_period_max              0.275740          0.036445          0.147408  \n",
      "ros_wave_dir_avg                 0.004981         -0.138276         -0.001242  \n",
      "ros_wave_spread_avg              1.000000          0.051537          0.064934  \n",
      "ros_curr_dir_avg                 0.051537          1.000000          0.026381  \n",
      "ros_curr_spd_avg                 0.064934          0.026381          1.000000  \n",
      "\n",
      "[34 rows x 34 columns]\n"
     ]
    }
   ],
   "source": [
    "# Print correlation matrix between variables\n",
    "corrmat = data.corr()\n",
    "print(corrmat)\n",
    "\n"
   ],
   "metadata": {
    "collapsed": false,
    "pycharm": {
     "name": "#%%\n"
    }
   }
  },
  {
   "cell_type": "code",
   "execution_count": 57,
   "outputs": [
    {
     "data": {
      "text/plain": "<AxesSubplot:>"
     },
     "execution_count": 57,
     "metadata": {},
     "output_type": "execute_result"
    },
    {
     "data": {
      "text/plain": "<Figure size 648x576 with 2 Axes>",
      "image/png": "[encoded data removed]"
     },
     "metadata": {
      "needs_background": "light"
     },
     "output_type": "display_data"
    }
   ],
   "source": [
    "# Plot heat map\n",
    "import seaborn as sns\n",
    "import matplotlib.pyplot as plt\n",
    "f, ax = plt.subplots(figsize = (9,8))\n",
    "sns.heatmap(corrmat, ax=ax, cmap='YlGnBu', linewidths=0.1)\n",
    "\n"
   ],
   "metadata": {
    "collapsed": false,
    "pycharm": {
     "name": "#%%\n"
    }
   }
  },
  {
   "cell_type": "code",
   "execution_count": 59,
   "outputs": [],
   "source": [
    "# if you want to see the pair plot\n",
    "#sns.pairplot(data)\n"
   ],
   "metadata": {
    "collapsed": false,
    "pycharm": {
     "name": "#%%\n"
    }
   }
  },
  {
   "cell_type": "code",
   "execution_count": 64,
   "outputs": [
    {
     "name": "stdout",
     "output_type": "stream",
     "text": [
      "mop_wind_spd_avg    0.562053\n",
      "mop_wind_spd_max    0.587327\n",
      "mop_wave_ht_max     0.858697\n",
      "mop_wave_ht_sig     0.868225\n",
      "ros_wind_spd_avg    0.544247\n",
      "ros_wind_spd_max    0.559585\n",
      "ros_wave_ht_max     1.000000\n",
      "ros_wave_ht_sig     0.982644\n",
      "Name: ros_wave_ht_max, dtype: float64\n"
     ]
    }
   ],
   "source": [
    "cor_target = abs(corrmat[\"ros_wave_ht_max\"])\n",
    "\n",
    "# Selecting highly correlated features\n",
    "relevant_features = cor_target[(cor_target>=0.5)]\n",
    "print(relevant_features)\n",
    "\n"
   ],
   "metadata": {
    "collapsed": false,
    "pycharm": {
     "name": "#%%\n"
    }
   }
  },
  {
   "cell_type": "code",
   "execution_count": 68,
   "outputs": [
    {
     "name": "stdout",
     "output_type": "stream",
     "text": [
      "['mop_wind_spd_avg' 'mop_wind_spd_max' 'mop_wave_ht_max' 'mop_wave_ht_sig'\n",
      " 'ros_wind_spd_avg' 'ros_wind_spd_max' 'ros_wave_ht_max' 'ros_wave_ht_sig']\n"
     ]
    }
   ],
   "source": [
    "# Remove the features with prefix ros_ as we are going to predict those so no need to see the co-relation between them\n",
    "rel = relevant_features.index.values\n",
    "print(rel)\n"
   ],
   "metadata": {
    "collapsed": false,
    "pycharm": {
     "name": "#%%\n"
    }
   }
  },
  {
   "cell_type": "code",
   "execution_count": 70,
   "outputs": [
    {
     "name": "stdout",
     "output_type": "stream",
     "text": [
      "['mop_wind_spd_avg', 'mop_wind_spd_max', 'mop_wave_ht_max', 'mop_wave_ht_sig']\n"
     ]
    }
   ],
   "source": [
    "rel= rel.tolist()\n",
    "for i in rel[:]:\n",
    "    if i.startswith('ros'):\n",
    "        rel.remove(i)\n",
    "print(rel)\n",
    "\n"
   ],
   "metadata": {
    "collapsed": false,
    "pycharm": {
     "name": "#%%\n"
    }
   }
  },
  {
   "cell_type": "code",
   "execution_count": 74,
   "outputs": [
    {
     "name": "stdout",
     "output_type": "stream",
     "text": [
      "4\n",
      "                  mop_wind_spd_avg  mop_wind_spd_max\n",
      "mop_wind_spd_avg          1.000000          0.994393\n",
      "mop_wind_spd_max          0.994393          1.000000\n",
      "                  mop_wind_spd_avg  mop_wave_ht_max\n",
      "mop_wind_spd_avg          1.000000         0.653586\n",
      "mop_wave_ht_max           0.653586         1.000000\n",
      "                  mop_wind_spd_avg  mop_wave_ht_sig\n",
      "mop_wind_spd_avg          1.000000         0.647298\n",
      "mop_wave_ht_sig           0.647298         1.000000\n",
      "                  mop_wind_spd_max  mop_wave_ht_max\n",
      "mop_wind_spd_max          1.000000         0.679253\n",
      "mop_wave_ht_max           0.679253         1.000000\n",
      "                  mop_wind_spd_max  mop_wave_ht_sig\n",
      "mop_wind_spd_max          1.000000         0.673869\n",
      "mop_wave_ht_sig           0.673869         1.000000\n",
      "                 mop_wave_ht_max  mop_wave_ht_sig\n",
      "mop_wave_ht_max         1.000000         0.992431\n",
      "mop_wave_ht_sig         0.992431         1.000000\n"
     ]
    }
   ],
   "source": [
    "# Again see the correlation between independent variable which are strongly correlated with target variable\n",
    "print(len(rel))\n",
    "for i in range(len(rel)):\n",
    "    for j in range(i+1, len(rel)):\n",
    "        print(data[[rel[i], rel[j]]].corr())\n",
    "\n"
   ],
   "metadata": {
    "collapsed": false,
    "pycharm": {
     "name": "#%%\n"
    }
   }
  },
  {
   "cell_type": "code",
   "execution_count": 80,
   "outputs": [
    {
     "data": {
      "text/plain": "                           mop_wind_spd_max  mop_wave_ht_max  ros_wave_ht_max\nDATE & TIME                                                                  \n2011-01-17 15:00:00+00:00         17.550000         5.545000         3.900000\n2011-01-17 18:00:00+00:00         16.800000         5.183333         3.833333\n2011-01-17 21:00:00+00:00         15.333333         4.731667         3.900000\n2011-01-18 00:00:00+00:00         15.033333         4.775000         3.600000\n2011-01-18 03:00:00+00:00         14.983333         4.496667         3.433333\n...                                     ...              ...              ...\n2021-02-25 21:00:00+00:00         16.300000         4.990000         0.000000\n2021-02-26 03:00:00+00:00         15.666667         5.568333         0.000000\n2021-02-26 06:00:00+00:00         15.375000         6.935000         1.200000\n2021-02-26 09:00:00+00:00         16.620000         8.238000         0.100000\n2021-02-26 15:00:00+00:00         17.950000         7.202500         0.100000\n\n[7311 rows x 3 columns]",
      "text/html": "<div>\n<style scoped>\n    .dataframe tbody tr th:only-of-type {\n        vertical-align: middle;\n    }\n\n    .dataframe tbody tr th {\n        vertical-align: top;\n    }\n\n    .dataframe thead th {\n        text-align: right;\n    }\n</style>\n<table border=\"1\" class=\"dataframe\">\n  <thead>\n    <tr style=\"text-align: right;\">\n      <th></th>\n      <th>mop_wind_spd_max</th>\n      <th>mop_wave_ht_max</th>\n      <th>ros_wave_ht_max</th>\n    </tr>\n    <tr>\n      <th>DATE &amp; TIME</th>\n      <th></th>\n      <th></th>\n      <th></th>\n    </tr>\n  </thead>\n  <tbody>\n    <tr>\n      <th>2011-01-17 15:00:00+00:00</th>\n      <td>17.550000</td>\n      <td>5.545000</td>\n      <td>3.900000</td>\n    </tr>\n    <tr>\n      <th>2011-01-17 18:00:00+00:00</th>\n      <td>16.800000</td>\n      <td>5.183333</td>\n      <td>3.833333</td>\n    </tr>\n    <tr>\n      <th>2011-01-17 21:00:00+00:00</th>\n      <td>15.333333</td>\n      <td>4.731667</td>\n      <td>3.900000</td>\n    </tr>\n    <tr>\n      <th>2011-01-18 00:00:00+00:00</th>\n      <td>15.033333</td>\n      <td>4.775000</td>\n      <td>3.600000</td>\n    </tr>\n    <tr>\n      <th>2011-01-18 03:00:00+00:00</th>\n      <td>14.983333</td>\n      <td>4.496667</td>\n      <td>3.433333</td>\n    </tr>\n    <tr>\n      <th>...</th>\n      <td>...</td>\n      <td>...</td>\n      <td>...</td>\n    </tr>\n    <tr>\n      <th>2021-02-25 21:00:00+00:00</th>\n      <td>16.300000</td>\n      <td>4.990000</td>\n      <td>0.000000</td>\n    </tr>\n    <tr>\n      <th>2021-02-26 03:00:00+00:00</th>\n      <td>15.666667</td>\n      <td>5.568333</td>\n      <td>0.000000</td>\n    </tr>\n    <tr>\n      <th>2021-02-26 06:00:00+00:00</th>\n      <td>15.375000</td>\n      <td>6.935000</td>\n      <td>1.200000</td>\n    </tr>\n    <tr>\n      <th>2021-02-26 09:00:00+00:00</th>\n      <td>16.620000</td>\n      <td>8.238000</td>\n      <td>0.100000</td>\n    </tr>\n    <tr>\n      <th>2021-02-26 15:00:00+00:00</th>\n      <td>17.950000</td>\n      <td>7.202500</td>\n      <td>0.100000</td>\n    </tr>\n  </tbody>\n</table>\n<p>7311 rows × 3 columns</p>\n</div>"
     },
     "execution_count": 80,
     "metadata": {},
     "output_type": "execute_result"
    }
   ],
   "source": [
    "# Apply machine learning model\n",
    "# Final data we have based on the co-relation values\n",
    "finaldata = data[['mop_wind_spd_max', 'mop_wave_ht_max', 'ros_wave_ht_max']]\n",
    "finaldata\n",
    "\n"
   ],
   "metadata": {
    "collapsed": false,
    "pycharm": {
     "name": "#%%\n"
    }
   }
  },
  {
   "cell_type": "code",
   "execution_count": 81,
   "outputs": [
    {
     "data": {
      "text/plain": "DATE & TIME         0\nmop_wind_spd_max    0\nmop_wave_ht_max     0\nros_wave_ht_max     0\ndtype: int64"
     },
     "execution_count": 81,
     "metadata": {},
     "output_type": "execute_result"
    }
   ],
   "source": [
    "# Check for NULL values\n",
    "finaldata = finaldata.reset_index()\n",
    "finaldata.head()\n",
    "finaldata.isnull().sum()\n"
   ],
   "metadata": {
    "collapsed": false,
    "pycharm": {
     "name": "#%%\n"
    }
   }
  },
  {
   "cell_type": "code",
   "execution_count": 83,
   "outputs": [
    {
     "name": "stdout",
     "output_type": "stream",
     "text": [
      "   mop_wind_spd_max  mop_wave_ht_max\n",
      "0         17.550000         5.545000\n",
      "1         16.800000         5.183333\n",
      "2         15.333333         4.731667\n",
      "3         15.033333         4.775000\n",
      "4         14.983333         4.496667\n",
      "   ros_wave_ht_max\n",
      "0         3.900000\n",
      "1         3.833333\n",
      "2         3.900000\n",
      "3         3.600000\n",
      "4         3.433333\n"
     ]
    }
   ],
   "source": [
    "# Split the data into training and test dataset.\n",
    "# I have divided data into 70-30 for training.\n",
    "from sklearn.svm import SVR\n",
    "from sklearn.model_selection import train_test_split\n",
    "x = finaldata.iloc[:,1:-1] #all lines and all columns except the last one\n",
    "y = finaldata.iloc[:,-1:] #all lines and the last column\n",
    "\n",
    "print(x.head())\n",
    "print(y.head())\n",
    "x_train, x_test, y_train, y_test = train_test_split(x,y,test_size=3,random_state=42)"
   ],
   "metadata": {
    "collapsed": false,
    "pycharm": {
     "name": "#%%\n"
    }
   }
  },
  {
   "cell_type": "code",
   "execution_count": 84,
   "outputs": [
    {
     "name": "stderr",
     "output_type": "stream",
     "text": [
      "c:\\users\\daniel\\appdata\\local\\programs\\python\\python38-32\\lib\\site-packages\\sklearn\\utils\\validation.py:63: DataConversionWarning: A column-vector y was passed when a 1d array was expected. Please change the shape of y to (n_samples, ), for example using ravel().\n",
      "  return f(*args, **kwargs)\n"
     ]
    },
    {
     "name": "stdout",
     "output_type": "stream",
     "text": [
      "0.41462192047045376\n"
     ]
    }
   ],
   "source": [
    "# Application of Support Vector Regressor, you can try different values for these models\n",
    "from sklearn.metrics import mean_absolute_error\n",
    "sv_regressor = SVR(kernel='rbf') #, C=100, gamma=0.1, epsilon=.1)\n",
    "#sv_regressor  = SVR(kernel='linear', C=1e3)\n",
    "#sv_regressor  = SVR(kernel='poly', C=1e3, degree=2)\n",
    "\n",
    "sv_regressor.fit(x_train,y_train)\n",
    "y_pred = sv_regressor.predict(x_test)\n",
    "\n",
    "print(mean_absolute_error(y_test, y_pred))\n",
    "\n"
   ],
   "metadata": {
    "collapsed": false,
    "pycharm": {
     "name": "#%%\n"
    }
   }
  },
  {
   "cell_type": "code",
   "execution_count": 85,
   "outputs": [
    {
     "name": "stderr",
     "output_type": "stream",
     "text": [
      "<ipython-input-85-22c5a8603228>:5: DataConversionWarning: A column-vector y was passed when a 1d array was expected. Please change the shape of y to (n_samples,), for example using ravel().\n",
      "  rf_regressor.fit(x_train, y_train)\n"
     ]
    },
    {
     "name": "stdout",
     "output_type": "stream",
     "text": [
      "0.48952212966087966\n"
     ]
    }
   ],
   "source": [
    "# Application of Random Forest Regressor, you can try diffferent values for these models\n",
    "from sklearn.ensemble import RandomForestRegressor\n",
    "\n",
    "rf_regressor = RandomForestRegressor(max_depth=2, random_state=0)\n",
    "rf_regressor.fit(x_train, y_train)\n",
    "\n",
    "y_pred = rf_regressor.predict(x_test)\n",
    "\n",
    "print(mean_absolute_error(y_test, y_pred))\n",
    "\n"
   ],
   "metadata": {
    "collapsed": false,
    "pycharm": {
     "name": "#%%\n"
    }
   }
  },
  {
   "cell_type": "code",
   "execution_count": null,
   "outputs": [],
   "source": [
    "# We got Mean Absolute error =0.414 for Support Vector Regressor and Mean Absolute error =0.489 for RandomForest Regressor for ros_wave_ht_max for freq=3H\n",
    "# You can try different models or ANN or any deep learning models to see the performance\n",
    "# You can try different approch to predict the values\n",
    "# We did for ros_wave_ht_max . you can try to predict values of other parameters also such as ros_wind_spd_max , ros_air_humidity_avg\n",
    "# Here, we have tried to predict the values of Red Shoal Buoy using values of Mouth Of Placentia Buoy. You can try the Vice versa also.\n",
    "\n"
   ],
   "metadata": {
    "collapsed": false,
    "pycharm": {
     "name": "#%%\n"
    }
   }
  }
 ],
 "metadata": {
  "kernelspec": {
   "display_name": "Python 3",
   "language": "python",
   "name": "python3"
  },
  "language_info": {
   "codemirror_mode": {
    "name": "ipython",
    "version": 2
   },
   "file_extension": ".py",
   "mimetype": "text/x-python",
   "name": "python",
   "nbconvert_exporter": "python",
   "pygments_lexer": "ipython2",
   "version": "2.7.6"
  }
 },
 "nbformat": 4,
 "nbformat_minor": 0
}